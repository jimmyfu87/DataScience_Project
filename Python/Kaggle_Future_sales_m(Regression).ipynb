{
 "cells": [
  {
   "cell_type": "markdown",
   "metadata": {
    "colab_type": "text",
    "id": "r68pm9kpfz61"
   },
   "source": [
    "# Kaggle_Future_sales"
   ]
  },
  {
   "cell_type": "code",
   "execution_count": 1,
   "metadata": {
    "colab": {
     "base_uri": "https://localhost:8080/",
     "height": 72
    },
    "colab_type": "code",
    "executionInfo": {
     "elapsed": 1284,
     "status": "ok",
     "timestamp": 1588955087992,
     "user": {
      "displayName": "傅俊益",
      "photoUrl": "https://lh3.googleusercontent.com/a-/AOh14GiKpdx1mG2u0HvNscCECJBczdnNzwYE7fZ5nUJt=s64",
      "userId": "15552197068465878986"
     },
     "user_tz": -480
    },
    "id": "Hm9rCNLjfz64",
    "outputId": "f9cee517-a6f3-48ed-ac59-9b625ae60658"
   },
   "outputs": [],
   "source": [
    "from sklearn import preprocessing\n",
    "from sklearn.model_selection import GridSearchCV\n",
    "from sklearn.ensemble import RandomForestClassifier\n",
    "from sklearn.ensemble import RandomForestRegressor\n",
    "from sklearn import preprocessing, linear_model\n",
    "import numpy as np\n",
    "import pandas as pd\n",
    "import matplotlib.pyplot as plt\n",
    "import seaborn as sns\n",
    "\n",
    "%matplotlib inline"
   ]
  },
  {
   "cell_type": "code",
   "execution_count": 2,
   "metadata": {
    "colab": {
     "base_uri": "https://localhost:8080/",
     "height": 34
    },
    "colab_type": "code",
    "executionInfo": {
     "elapsed": 1657,
     "status": "ok",
     "timestamp": 1588955088425,
     "user": {
      "displayName": "傅俊益",
      "photoUrl": "https://lh3.googleusercontent.com/a-/AOh14GiKpdx1mG2u0HvNscCECJBczdnNzwYE7fZ5nUJt=s64",
      "userId": "15552197068465878986"
     },
     "user_tz": -480
    },
    "id": "f7LPibMrfz7B",
    "outputId": "9281acd1-d868-45f7-ca6b-09613786ff18"
   },
   "outputs": [],
   "source": [
    "# from google.colab import drive\n",
    "# import os\n",
    "# drive.mount('/content/gdrive')\n",
    "# os.environ['KAGGLE_CONFIG_DIR'] = \"/content/gdrive/My Drive/Kaggle\""
   ]
  },
  {
   "cell_type": "code",
   "execution_count": 3,
   "metadata": {
    "colab": {
     "base_uri": "https://localhost:8080/",
     "height": 34
    },
    "colab_type": "code",
    "executionInfo": {
     "elapsed": 1601,
     "status": "ok",
     "timestamp": 1588955088426,
     "user": {
      "displayName": "傅俊益",
      "photoUrl": "https://lh3.googleusercontent.com/a-/AOh14GiKpdx1mG2u0HvNscCECJBczdnNzwYE7fZ5nUJt=s64",
      "userId": "15552197068465878986"
     },
     "user_tz": -480
    },
    "id": "-GuUcAq6fz7J",
    "outputId": "11a8b017-5445-41c2-f4f0-b6ff88fcbe09"
   },
   "outputs": [],
   "source": [
    "# %cd /content/gdrive/My Drive/Kaggle"
   ]
  },
  {
   "cell_type": "code",
   "execution_count": 4,
   "metadata": {
    "colab": {},
    "colab_type": "code",
    "id": "lKNmjUF3fz7b"
   },
   "outputs": [],
   "source": [
    "# train=pd.read_csv('competitive-data-science-predict-future-sales/sales_train.csv')\n",
    "# test=pd.read_csv('competitive-data-science-predict-future-sales/test.csv')\n",
    "train=pd.read_csv('/Users/jimmyfu87/JupyterNotebook/Dataset/competitive-data-science-predict-future-sales/sales_train.csv')\n",
    "test=pd.read_csv('/Users/jimmyfu87/JupyterNotebook/Dataset/competitive-data-science-predict-future-sales/test.csv')"
   ]
  },
  {
   "cell_type": "code",
   "execution_count": 5,
   "metadata": {
    "colab": {
     "base_uri": "https://localhost:8080/",
     "height": 52
    },
    "colab_type": "code",
    "executionInfo": {
     "elapsed": 3123,
     "status": "ok",
     "timestamp": 1588955090038,
     "user": {
      "displayName": "傅俊益",
      "photoUrl": "https://lh3.googleusercontent.com/a-/AOh14GiKpdx1mG2u0HvNscCECJBczdnNzwYE7fZ5nUJt=s64",
      "userId": "15552197068465878986"
     },
     "user_tz": -480
    },
    "id": "mmvnstOKfz8Q",
    "outputId": "ee0f5ed9-80f3-4126-f53a-3d21436aea5f"
   },
   "outputs": [
    {
     "name": "stdout",
     "output_type": "stream",
     "text": [
      "(2935849, 6)\n",
      "(214200, 3)\n"
     ]
    }
   ],
   "source": [
    "print(train.shape)\n",
    "print(test.shape)"
   ]
  },
  {
   "cell_type": "code",
   "execution_count": 6,
   "metadata": {
    "colab": {},
    "colab_type": "code",
    "id": "UyX6Ducvfz8s"
   },
   "outputs": [],
   "source": [
    "# shop=pd.read_csv('competitive-data-science-predict-future-sales/shops.csv')\n",
    "# items=pd.read_csv('competitive-data-science-predict-future-sales/items.csv')\n",
    "# cat=pd.read_csv('competitive-data-science-predict-future-sales/item_categories.csv')\n",
    "shop=pd.read_csv('/Users/jimmyfu87/JupyterNotebook/Dataset/competitive-data-science-predict-future-sales/shops.csv')\n",
    "items=pd.read_csv('/Users/jimmyfu87/JupyterNotebook/Dataset/competitive-data-science-predict-future-sales/items.csv')\n",
    "cat=pd.read_csv('/Users/jimmyfu87/JupyterNotebook/Dataset/competitive-data-science-predict-future-sales/item_categories.csv')"
   ]
  },
  {
   "cell_type": "markdown",
   "metadata": {
    "colab_type": "text",
    "id": "XB6MhG6yfz9E"
   },
   "source": [
    "# Data Preprocessing"
   ]
  },
  {
   "cell_type": "code",
   "execution_count": 7,
   "metadata": {
    "colab": {
     "base_uri": "https://localhost:8080/",
     "height": 197
    },
    "colab_type": "code",
    "executionInfo": {
     "elapsed": 2540,
     "status": "ok",
     "timestamp": 1588955090044,
     "user": {
      "displayName": "傅俊益",
      "photoUrl": "https://lh3.googleusercontent.com/a-/AOh14GiKpdx1mG2u0HvNscCECJBczdnNzwYE7fZ5nUJt=s64",
      "userId": "15552197068465878986"
     },
     "user_tz": -480
    },
    "id": "vAdq4FNIfz9F",
    "outputId": "5337adaf-a547-4976-c739-7b5412124d7f"
   },
   "outputs": [
    {
     "data": {
      "text/html": [
       "<div>\n",
       "<style scoped>\n",
       "    .dataframe tbody tr th:only-of-type {\n",
       "        vertical-align: middle;\n",
       "    }\n",
       "\n",
       "    .dataframe tbody tr th {\n",
       "        vertical-align: top;\n",
       "    }\n",
       "\n",
       "    .dataframe thead th {\n",
       "        text-align: right;\n",
       "    }\n",
       "</style>\n",
       "<table border=\"1\" class=\"dataframe\">\n",
       "  <thead>\n",
       "    <tr style=\"text-align: right;\">\n",
       "      <th></th>\n",
       "      <th>shop_id</th>\n",
       "      <th>item_id</th>\n",
       "      <th>item_price</th>\n",
       "    </tr>\n",
       "  </thead>\n",
       "  <tbody>\n",
       "    <tr>\n",
       "      <th>173344</th>\n",
       "      <td>0</td>\n",
       "      <td>30</td>\n",
       "      <td>265.0</td>\n",
       "    </tr>\n",
       "    <tr>\n",
       "      <th>173403</th>\n",
       "      <td>0</td>\n",
       "      <td>31</td>\n",
       "      <td>434.0</td>\n",
       "    </tr>\n",
       "    <tr>\n",
       "      <th>40085</th>\n",
       "      <td>0</td>\n",
       "      <td>32</td>\n",
       "      <td>221.0</td>\n",
       "    </tr>\n",
       "    <tr>\n",
       "      <th>40089</th>\n",
       "      <td>0</td>\n",
       "      <td>33</td>\n",
       "      <td>347.0</td>\n",
       "    </tr>\n",
       "    <tr>\n",
       "      <th>40092</th>\n",
       "      <td>0</td>\n",
       "      <td>35</td>\n",
       "      <td>247.0</td>\n",
       "    </tr>\n",
       "    <tr>\n",
       "      <th>...</th>\n",
       "      <td>...</td>\n",
       "      <td>...</td>\n",
       "      <td>...</td>\n",
       "    </tr>\n",
       "    <tr>\n",
       "      <th>175117</th>\n",
       "      <td>0</td>\n",
       "      <td>1017</td>\n",
       "      <td>176.0</td>\n",
       "    </tr>\n",
       "    <tr>\n",
       "      <th>39992</th>\n",
       "      <td>0</td>\n",
       "      <td>1018</td>\n",
       "      <td>176.0</td>\n",
       "    </tr>\n",
       "    <tr>\n",
       "      <th>175116</th>\n",
       "      <td>0</td>\n",
       "      <td>1022</td>\n",
       "      <td>176.0</td>\n",
       "    </tr>\n",
       "    <tr>\n",
       "      <th>175115</th>\n",
       "      <td>0</td>\n",
       "      <td>1025</td>\n",
       "      <td>284.0</td>\n",
       "    </tr>\n",
       "    <tr>\n",
       "      <th>175113</th>\n",
       "      <td>0</td>\n",
       "      <td>1027</td>\n",
       "      <td>58.0</td>\n",
       "    </tr>\n",
       "  </tbody>\n",
       "</table>\n",
       "<p>100 rows × 3 columns</p>\n",
       "</div>"
      ],
      "text/plain": [
       "        shop_id  item_id  item_price\n",
       "173344        0       30       265.0\n",
       "173403        0       31       434.0\n",
       "40085         0       32       221.0\n",
       "40089         0       33       347.0\n",
       "40092         0       35       247.0\n",
       "...         ...      ...         ...\n",
       "175117        0     1017       176.0\n",
       "39992         0     1018       176.0\n",
       "175116        0     1022       176.0\n",
       "175115        0     1025       284.0\n",
       "175113        0     1027        58.0\n",
       "\n",
       "[100 rows x 3 columns]"
      ]
     },
     "execution_count": 7,
     "metadata": {},
     "output_type": "execute_result"
    }
   ],
   "source": [
    "#移除train中不需要的column，製作item_id對應的item_price表格\n",
    "drop_elements=['date', 'date_block_num','item_cnt_day']\n",
    "price_df = train.drop(drop_elements,axis=1)\n",
    "price_df=price_df.sort_values(by=['shop_id','item_id'],ascending=[True,True])\n",
    "price_df = price_df.drop_duplicates(['item_id'],) \n",
    "price_df.head(100)"
   ]
  },
  {
   "cell_type": "code",
   "execution_count": 8,
   "metadata": {
    "colab": {
     "base_uri": "https://localhost:8080/",
     "height": 105
    },
    "colab_type": "code",
    "executionInfo": {
     "elapsed": 2470,
     "status": "ok",
     "timestamp": 1588955090045,
     "user": {
      "displayName": "傅俊益",
      "photoUrl": "https://lh3.googleusercontent.com/a-/AOh14GiKpdx1mG2u0HvNscCECJBczdnNzwYE7fZ5nUJt=s64",
      "userId": "15552197068465878986"
     },
     "user_tz": -480
    },
    "id": "HwAYdmiWfz9O",
    "outputId": "31bd2de0-acc7-4d41-f166-6fe85cb6ba85"
   },
   "outputs": [
    {
     "data": {
      "text/plain": [
       "ID                0\n",
       "shop_id_x         0\n",
       "item_id           0\n",
       "item_price    15246\n",
       "dtype: int64"
      ]
     },
     "execution_count": 8,
     "metadata": {},
     "output_type": "execute_result"
    }
   ],
   "source": [
    "#合併表格，讓test的資料集也有item_price，遺失值約7%\n",
    "test_p=pd.merge(test,price_df,how='left',on=['item_id']).drop('shop_id_y',axis=1)\n",
    "test_p.isnull().sum()"
   ]
  },
  {
   "cell_type": "code",
   "execution_count": 9,
   "metadata": {
    "colab": {
     "base_uri": "https://localhost:8080/",
     "height": 105
    },
    "colab_type": "code",
    "executionInfo": {
     "elapsed": 2061,
     "status": "ok",
     "timestamp": 1588955090045,
     "user": {
      "displayName": "傅俊益",
      "photoUrl": "https://lh3.googleusercontent.com/a-/AOh14GiKpdx1mG2u0HvNscCECJBczdnNzwYE7fZ5nUJt=s64",
      "userId": "15552197068465878986"
     },
     "user_tz": -480
    },
    "id": "azEMoEE-fz9U",
    "outputId": "380a222a-dc01-48d5-a099-534f4d62bb49"
   },
   "outputs": [
    {
     "data": {
      "text/plain": [
       "ID            0\n",
       "shop_id       0\n",
       "item_id       0\n",
       "item_price    0\n",
       "dtype: int64"
      ]
     },
     "execution_count": 9,
     "metadata": {},
     "output_type": "execute_result"
    }
   ],
   "source": [
    "#整理表格，將item_price的缺漏值填入(mean-std,mean+std)之間的隨機數\n",
    "test_p.rename(columns={'shop_id_x':'shop_id'},inplace=True)\n",
    "price_mean=np.mean(test_p['item_price'])\n",
    "price_std=np.std(test_p['item_price'])\n",
    "test_p['item_price']=test_p['item_price'].fillna(np.random.randint(price_mean - price_std,price_mean + price_std))\n",
    "test_p.isnull().sum()"
   ]
  },
  {
   "cell_type": "code",
   "execution_count": 10,
   "metadata": {
    "colab": {},
    "colab_type": "code",
    "id": "m-2dgHHVfz9h"
   },
   "outputs": [],
   "source": [
    "#合併train和test\n",
    "df=pd.concat([train,test_p],axis=0)"
   ]
  },
  {
   "cell_type": "code",
   "execution_count": 11,
   "metadata": {
    "colab": {
     "base_uri": "https://localhost:8080/",
     "height": 70
    },
    "colab_type": "code",
    "executionInfo": {
     "elapsed": 1879,
     "status": "ok",
     "timestamp": 1588955090048,
     "user": {
      "displayName": "傅俊益",
      "photoUrl": "https://lh3.googleusercontent.com/a-/AOh14GiKpdx1mG2u0HvNscCECJBczdnNzwYE7fZ5nUJt=s64",
      "userId": "15552197068465878986"
     },
     "user_tz": -480
    },
    "id": "47vPBNfCfz9k",
    "outputId": "97f413bc-395c-4142-cf73-95729028ea88"
   },
   "outputs": [
    {
     "name": "stdout",
     "output_type": "stream",
     "text": [
      "(60, 2)\n",
      "(22170, 3)\n",
      "(84, 2)\n"
     ]
    }
   ],
   "source": [
    "print(shop.shape)\n",
    "print(items.shape)\n",
    "print(cat.shape)"
   ]
  },
  {
   "cell_type": "code",
   "execution_count": 12,
   "metadata": {
    "colab": {},
    "colab_type": "code",
    "id": "-eR-QvrT4TAq"
   },
   "outputs": [],
   "source": [
    "df['date_block_num']=df['date_block_num'].fillna(34)"
   ]
  },
  {
   "cell_type": "code",
   "execution_count": 13,
   "metadata": {
    "colab": {
     "base_uri": "https://localhost:8080/",
     "height": 70
    },
    "colab_type": "code",
    "executionInfo": {
     "elapsed": 2772,
     "status": "ok",
     "timestamp": 1588955091509,
     "user": {
      "displayName": "傅俊益",
      "photoUrl": "https://lh3.googleusercontent.com/a-/AOh14GiKpdx1mG2u0HvNscCECJBczdnNzwYE7fZ5nUJt=s64",
      "userId": "15552197068465878986"
     },
     "user_tz": -480
    },
    "id": "ad1-dQdc4TAw",
    "outputId": "b7a10bfe-ae77-43f5-c0aa-bf59141f9823"
   },
   "outputs": [
    {
     "name": "stdout",
     "output_type": "stream",
     "text": [
      "Train_num_afgp： 1609124\n",
      "Test_num_afgp： 214200\n",
      "All_num_afgp： 1823324\n"
     ]
    }
   ],
   "source": [
    "train_num_afgp=df.iloc[0:2935849,:].groupby(['item_id','shop_id','date_block_num']).sum().shape[0]\n",
    "test_num_afgp=df.iloc[2935849:,:].groupby(['item_id','shop_id','date_block_num']).sum().shape[0]\n",
    "print('Train_num_afgp：',train_num_afgp)\n",
    "print('Test_num_afgp：',test_num_afgp)\n",
    "print('All_num_afgp：',train_num_afgp+test_num_afgp)"
   ]
  },
  {
   "cell_type": "code",
   "execution_count": 14,
   "metadata": {
    "colab": {
     "base_uri": "https://localhost:8080/",
     "height": 347
    },
    "colab_type": "code",
    "executionInfo": {
     "elapsed": 4191,
     "status": "ok",
     "timestamp": 1588955093042,
     "user": {
      "displayName": "傅俊益",
      "photoUrl": "https://lh3.googleusercontent.com/a-/AOh14GiKpdx1mG2u0HvNscCECJBczdnNzwYE7fZ5nUJt=s64",
      "userId": "15552197068465878986"
     },
     "user_tz": -480
    },
    "id": "v9AP8iClvSHF",
    "outputId": "f83c55d7-2668-477e-857b-9b912bcdf259"
   },
   "outputs": [
    {
     "data": {
      "text/html": [
       "<div>\n",
       "<style scoped>\n",
       "    .dataframe tbody tr th:only-of-type {\n",
       "        vertical-align: middle;\n",
       "    }\n",
       "\n",
       "    .dataframe tbody tr th {\n",
       "        vertical-align: top;\n",
       "    }\n",
       "\n",
       "    .dataframe thead th {\n",
       "        text-align: right;\n",
       "    }\n",
       "</style>\n",
       "<table border=\"1\" class=\"dataframe\">\n",
       "  <thead>\n",
       "    <tr style=\"text-align: right;\">\n",
       "      <th></th>\n",
       "      <th>item_id</th>\n",
       "      <th>shop_id</th>\n",
       "      <th>date_block_num</th>\n",
       "      <th>ID</th>\n",
       "      <th>item_cnt_month</th>\n",
       "    </tr>\n",
       "  </thead>\n",
       "  <tbody>\n",
       "    <tr>\n",
       "      <th>0</th>\n",
       "      <td>0</td>\n",
       "      <td>54</td>\n",
       "      <td>20.0</td>\n",
       "      <td>0.0</td>\n",
       "      <td>1.0</td>\n",
       "    </tr>\n",
       "    <tr>\n",
       "      <th>1</th>\n",
       "      <td>1</td>\n",
       "      <td>55</td>\n",
       "      <td>15.0</td>\n",
       "      <td>0.0</td>\n",
       "      <td>2.0</td>\n",
       "    </tr>\n",
       "    <tr>\n",
       "      <th>2</th>\n",
       "      <td>1</td>\n",
       "      <td>55</td>\n",
       "      <td>18.0</td>\n",
       "      <td>0.0</td>\n",
       "      <td>1.0</td>\n",
       "    </tr>\n",
       "    <tr>\n",
       "      <th>3</th>\n",
       "      <td>1</td>\n",
       "      <td>55</td>\n",
       "      <td>19.0</td>\n",
       "      <td>0.0</td>\n",
       "      <td>1.0</td>\n",
       "    </tr>\n",
       "    <tr>\n",
       "      <th>4</th>\n",
       "      <td>1</td>\n",
       "      <td>55</td>\n",
       "      <td>20.0</td>\n",
       "      <td>0.0</td>\n",
       "      <td>1.0</td>\n",
       "    </tr>\n",
       "    <tr>\n",
       "      <th>5</th>\n",
       "      <td>1</td>\n",
       "      <td>55</td>\n",
       "      <td>21.0</td>\n",
       "      <td>0.0</td>\n",
       "      <td>1.0</td>\n",
       "    </tr>\n",
       "    <tr>\n",
       "      <th>6</th>\n",
       "      <td>2</td>\n",
       "      <td>54</td>\n",
       "      <td>19.0</td>\n",
       "      <td>0.0</td>\n",
       "      <td>1.0</td>\n",
       "    </tr>\n",
       "    <tr>\n",
       "      <th>7</th>\n",
       "      <td>2</td>\n",
       "      <td>54</td>\n",
       "      <td>22.0</td>\n",
       "      <td>0.0</td>\n",
       "      <td>1.0</td>\n",
       "    </tr>\n",
       "    <tr>\n",
       "      <th>8</th>\n",
       "      <td>3</td>\n",
       "      <td>54</td>\n",
       "      <td>18.0</td>\n",
       "      <td>0.0</td>\n",
       "      <td>1.0</td>\n",
       "    </tr>\n",
       "    <tr>\n",
       "      <th>9</th>\n",
       "      <td>3</td>\n",
       "      <td>54</td>\n",
       "      <td>19.0</td>\n",
       "      <td>0.0</td>\n",
       "      <td>1.0</td>\n",
       "    </tr>\n",
       "  </tbody>\n",
       "</table>\n",
       "</div>"
      ],
      "text/plain": [
       "   item_id  shop_id  date_block_num   ID  item_cnt_month\n",
       "0        0       54            20.0  0.0             1.0\n",
       "1        1       55            15.0  0.0             2.0\n",
       "2        1       55            18.0  0.0             1.0\n",
       "3        1       55            19.0  0.0             1.0\n",
       "4        1       55            20.0  0.0             1.0\n",
       "5        1       55            21.0  0.0             1.0\n",
       "6        2       54            19.0  0.0             1.0\n",
       "7        2       54            22.0  0.0             1.0\n",
       "8        3       54            18.0  0.0             1.0\n",
       "9        3       54            19.0  0.0             1.0"
      ]
     },
     "execution_count": 14,
     "metadata": {},
     "output_type": "execute_result"
    }
   ],
   "source": [
    "sum_of_month=df[['ID','date_block_num', 'shop_id', 'item_id','item_cnt_day']]\n",
    "sum_of_month=sum_of_month.groupby(['item_id','shop_id','date_block_num']).sum()\n",
    "sum_of_month.reset_index(inplace=True)\n",
    "sum_of_month.rename(columns={'item_cnt_day':'item_cnt_month'},inplace=True)\n",
    "sum_of_month.head(10)"
   ]
  },
  {
   "cell_type": "code",
   "execution_count": 15,
   "metadata": {
    "colab": {
     "base_uri": "https://localhost:8080/",
     "height": 141
    },
    "colab_type": "code",
    "executionInfo": {
     "elapsed": 3867,
     "status": "ok",
     "timestamp": 1588955093043,
     "user": {
      "displayName": "傅俊益",
      "photoUrl": "https://lh3.googleusercontent.com/a-/AOh14GiKpdx1mG2u0HvNscCECJBczdnNzwYE7fZ5nUJt=s64",
      "userId": "15552197068465878986"
     },
     "user_tz": -480
    },
    "id": "EkcHqr_x4TA4",
    "outputId": "b9a959eb-690d-4b42-b770-d94cfa37397b"
   },
   "outputs": [
    {
     "data": {
      "text/plain": [
       "item_id           0\n",
       "shop_id           0\n",
       "date_block_num    0\n",
       "ID                0\n",
       "item_cnt_month    0\n",
       "item_price        0\n",
       "dtype: int64"
      ]
     },
     "execution_count": 15,
     "metadata": {},
     "output_type": "execute_result"
    }
   ],
   "source": [
    "dfx=pd.merge(sum_of_month,price_df,how='left',on=['item_id']).drop('shop_id_y',axis=1)\n",
    "dfx.rename(columns={'shop_id_x':'shop_id'},inplace=True)\n",
    "dfx['item_price']=dfx['item_price'].fillna(np.random.randint(price_mean - price_std,price_mean + price_std))\n",
    "dfx.isnull().sum()"
   ]
  },
  {
   "cell_type": "code",
   "execution_count": 16,
   "metadata": {
    "colab": {
     "base_uri": "https://localhost:8080/",
     "height": 282
    },
    "colab_type": "code",
    "executionInfo": {
     "elapsed": 3526,
     "status": "ok",
     "timestamp": 1588955093049,
     "user": {
      "displayName": "傅俊益",
      "photoUrl": "https://lh3.googleusercontent.com/a-/AOh14GiKpdx1mG2u0HvNscCECJBczdnNzwYE7fZ5nUJt=s64",
      "userId": "15552197068465878986"
     },
     "user_tz": -480
    },
    "id": "Nab_8gT-fz-V",
    "outputId": "225562d6-97c8-4d65-bdfa-4aa1800ea08a"
   },
   "outputs": [
    {
     "data": {
      "text/plain": [
       "[<matplotlib.lines.Line2D at 0x1a249bfbe0>]"
      ]
     },
     "execution_count": 16,
     "metadata": {},
     "output_type": "execute_result"
    },
    {
     "data": {
      "image/png": "[encoded data removed]",
      "text/plain": [
       "<Figure size 432x288 with 1 Axes>"
      ]
     },
     "metadata": {
      "needs_background": "light"
     },
     "output_type": "display_data"
    }
   ],
   "source": [
    "all_mean=dfx.groupby('date_block_num').mean()\n",
    "all_mean.drop(34.0,axis=0,inplace=True)\n",
    "#銷售時間的趨勢\n",
    "plt.plot(all_mean.index,all_mean['item_cnt_month'])"
   ]
  },
  {
   "cell_type": "code",
   "execution_count": 17,
   "metadata": {
    "colab": {
     "base_uri": "https://localhost:8080/",
     "height": 197
    },
    "colab_type": "code",
    "executionInfo": {
     "elapsed": 4144,
     "status": "ok",
     "timestamp": 1588955093872,
     "user": {
      "displayName": "傅俊益",
      "photoUrl": "https://lh3.googleusercontent.com/a-/AOh14GiKpdx1mG2u0HvNscCECJBczdnNzwYE7fZ5nUJt=s64",
      "userId": "15552197068465878986"
     },
     "user_tz": -480
    },
    "id": "QK-aL1D2fz-h",
    "outputId": "a65135e2-671d-40ca-9380-24b54a78d70c"
   },
   "outputs": [
    {
     "data": {
      "text/html": [
       "<div>\n",
       "<style scoped>\n",
       "    .dataframe tbody tr th:only-of-type {\n",
       "        vertical-align: middle;\n",
       "    }\n",
       "\n",
       "    .dataframe tbody tr th {\n",
       "        vertical-align: top;\n",
       "    }\n",
       "\n",
       "    .dataframe thead th {\n",
       "        text-align: right;\n",
       "    }\n",
       "</style>\n",
       "<table border=\"1\" class=\"dataframe\">\n",
       "  <thead>\n",
       "    <tr style=\"text-align: right;\">\n",
       "      <th></th>\n",
       "      <th>item_id</th>\n",
       "      <th>shop_id</th>\n",
       "      <th>date_block_num</th>\n",
       "      <th>ID</th>\n",
       "      <th>item_cnt_month</th>\n",
       "      <th>item_price</th>\n",
       "      <th>Year</th>\n",
       "    </tr>\n",
       "  </thead>\n",
       "  <tbody>\n",
       "    <tr>\n",
       "      <th>0</th>\n",
       "      <td>0</td>\n",
       "      <td>54</td>\n",
       "      <td>20.0</td>\n",
       "      <td>0.0</td>\n",
       "      <td>1.0</td>\n",
       "      <td>58.0</td>\n",
       "      <td>2014</td>\n",
       "    </tr>\n",
       "    <tr>\n",
       "      <th>1</th>\n",
       "      <td>1</td>\n",
       "      <td>55</td>\n",
       "      <td>15.0</td>\n",
       "      <td>0.0</td>\n",
       "      <td>2.0</td>\n",
       "      <td>4490.0</td>\n",
       "      <td>2014</td>\n",
       "    </tr>\n",
       "    <tr>\n",
       "      <th>2</th>\n",
       "      <td>1</td>\n",
       "      <td>55</td>\n",
       "      <td>18.0</td>\n",
       "      <td>0.0</td>\n",
       "      <td>1.0</td>\n",
       "      <td>4490.0</td>\n",
       "      <td>2014</td>\n",
       "    </tr>\n",
       "    <tr>\n",
       "      <th>3</th>\n",
       "      <td>1</td>\n",
       "      <td>55</td>\n",
       "      <td>19.0</td>\n",
       "      <td>0.0</td>\n",
       "      <td>1.0</td>\n",
       "      <td>4490.0</td>\n",
       "      <td>2014</td>\n",
       "    </tr>\n",
       "    <tr>\n",
       "      <th>4</th>\n",
       "      <td>1</td>\n",
       "      <td>55</td>\n",
       "      <td>20.0</td>\n",
       "      <td>0.0</td>\n",
       "      <td>1.0</td>\n",
       "      <td>4490.0</td>\n",
       "      <td>2014</td>\n",
       "    </tr>\n",
       "  </tbody>\n",
       "</table>\n",
       "</div>"
      ],
      "text/plain": [
       "   item_id  shop_id  date_block_num   ID  item_cnt_month  item_price  Year\n",
       "0        0       54            20.0  0.0             1.0        58.0  2014\n",
       "1        1       55            15.0  0.0             2.0      4490.0  2014\n",
       "2        1       55            18.0  0.0             1.0      4490.0  2014\n",
       "3        1       55            19.0  0.0             1.0      4490.0  2014\n",
       "4        1       55            20.0  0.0             1.0      4490.0  2014"
      ]
     },
     "execution_count": 17,
     "metadata": {},
     "output_type": "execute_result"
    }
   ],
   "source": [
    "#a consecutive month number, used for convenience. January 2013 is 0, February 2013 is 1,..., October 2015 is 33\n",
    "#加入年份的feature\n",
    "dfx.loc[(dfx['date_block_num'] <= 11),'Year']='2013'\n",
    "dfx.loc[(dfx['date_block_num'] >= 12) & (dfx['date_block_num'] <= 23),'Year']='2014'\n",
    "dfx.loc[(dfx['date_block_num'] >= 24) & (dfx['date_block_num'] <= 33),'Year']='2015'\n",
    "dfx.head()"
   ]
  },
  {
   "cell_type": "code",
   "execution_count": 18,
   "metadata": {
    "colab": {
     "base_uri": "https://localhost:8080/",
     "height": 197
    },
    "colab_type": "code",
    "executionInfo": {
     "elapsed": 3756,
     "status": "ok",
     "timestamp": 1588955093877,
     "user": {
      "displayName": "傅俊益",
      "photoUrl": "https://lh3.googleusercontent.com/a-/AOh14GiKpdx1mG2u0HvNscCECJBczdnNzwYE7fZ5nUJt=s64",
      "userId": "15552197068465878986"
     },
     "user_tz": -480
    },
    "id": "BdZtYjixfz-n",
    "outputId": "847df7d3-fbe6-4b71-adf6-7d9d3e0a563f"
   },
   "outputs": [
    {
     "data": {
      "text/html": [
       "<div>\n",
       "<style scoped>\n",
       "    .dataframe tbody tr th:only-of-type {\n",
       "        vertical-align: middle;\n",
       "    }\n",
       "\n",
       "    .dataframe tbody tr th {\n",
       "        vertical-align: top;\n",
       "    }\n",
       "\n",
       "    .dataframe thead th {\n",
       "        text-align: right;\n",
       "    }\n",
       "</style>\n",
       "<table border=\"1\" class=\"dataframe\">\n",
       "  <thead>\n",
       "    <tr style=\"text-align: right;\">\n",
       "      <th></th>\n",
       "      <th>item_id</th>\n",
       "      <th>shop_id</th>\n",
       "      <th>date_block_num</th>\n",
       "      <th>ID</th>\n",
       "      <th>item_cnt_month</th>\n",
       "      <th>item_price</th>\n",
       "      <th>Year</th>\n",
       "      <th>Month</th>\n",
       "    </tr>\n",
       "  </thead>\n",
       "  <tbody>\n",
       "    <tr>\n",
       "      <th>1823319</th>\n",
       "      <td>22168</td>\n",
       "      <td>12</td>\n",
       "      <td>8.0</td>\n",
       "      <td>0.0</td>\n",
       "      <td>1.0</td>\n",
       "      <td>799.0</td>\n",
       "      <td>2013</td>\n",
       "      <td>9.0</td>\n",
       "    </tr>\n",
       "    <tr>\n",
       "      <th>1823320</th>\n",
       "      <td>22168</td>\n",
       "      <td>16</td>\n",
       "      <td>1.0</td>\n",
       "      <td>0.0</td>\n",
       "      <td>1.0</td>\n",
       "      <td>799.0</td>\n",
       "      <td>2013</td>\n",
       "      <td>2.0</td>\n",
       "    </tr>\n",
       "    <tr>\n",
       "      <th>1823321</th>\n",
       "      <td>22168</td>\n",
       "      <td>42</td>\n",
       "      <td>1.0</td>\n",
       "      <td>0.0</td>\n",
       "      <td>1.0</td>\n",
       "      <td>799.0</td>\n",
       "      <td>2013</td>\n",
       "      <td>2.0</td>\n",
       "    </tr>\n",
       "    <tr>\n",
       "      <th>1823322</th>\n",
       "      <td>22168</td>\n",
       "      <td>43</td>\n",
       "      <td>2.0</td>\n",
       "      <td>0.0</td>\n",
       "      <td>1.0</td>\n",
       "      <td>799.0</td>\n",
       "      <td>2013</td>\n",
       "      <td>3.0</td>\n",
       "    </tr>\n",
       "    <tr>\n",
       "      <th>1823323</th>\n",
       "      <td>22169</td>\n",
       "      <td>25</td>\n",
       "      <td>14.0</td>\n",
       "      <td>0.0</td>\n",
       "      <td>1.0</td>\n",
       "      <td>4349.0</td>\n",
       "      <td>2014</td>\n",
       "      <td>3.0</td>\n",
       "    </tr>\n",
       "  </tbody>\n",
       "</table>\n",
       "</div>"
      ],
      "text/plain": [
       "         item_id  shop_id  date_block_num   ID  item_cnt_month  item_price  \\\n",
       "1823319    22168       12             8.0  0.0             1.0       799.0   \n",
       "1823320    22168       16             1.0  0.0             1.0       799.0   \n",
       "1823321    22168       42             1.0  0.0             1.0       799.0   \n",
       "1823322    22168       43             2.0  0.0             1.0       799.0   \n",
       "1823323    22169       25            14.0  0.0             1.0      4349.0   \n",
       "\n",
       "         Year  Month  \n",
       "1823319  2013    9.0  \n",
       "1823320  2013    2.0  \n",
       "1823321  2013    2.0  \n",
       "1823322  2013    3.0  \n",
       "1823323  2014    3.0  "
      ]
     },
     "execution_count": 18,
     "metadata": {},
     "output_type": "execute_result"
    }
   ],
   "source": [
    "#加入月份的feature\n",
    "dfx.loc[(dfx['date_block_num'] == 0) | (dfx['date_block_num'] == 12) | (dfx['date_block_num'] == 24),'Month']=1\n",
    "dfx.loc[(dfx['date_block_num'] == 1) | (dfx['date_block_num'] == 13) | (dfx['date_block_num'] == 25),'Month']=2\n",
    "dfx.loc[(dfx['date_block_num'] == 2) | (dfx['date_block_num'] == 14) | (dfx['date_block_num'] == 26),'Month']=3\n",
    "dfx.loc[(dfx['date_block_num'] == 3) | (dfx['date_block_num'] == 15) | (dfx['date_block_num'] == 27),'Month']=4\n",
    "dfx.loc[(dfx['date_block_num'] == 4) | (dfx['date_block_num'] == 16) | (dfx['date_block_num'] == 28),'Month']=5\n",
    "dfx.loc[(dfx['date_block_num'] == 5) | (dfx['date_block_num'] == 17) | (dfx['date_block_num'] == 29),'Month']=6\n",
    "dfx.loc[(dfx['date_block_num'] == 6) | (dfx['date_block_num'] == 18) | (dfx['date_block_num'] == 30),'Month']=7\n",
    "dfx.loc[(dfx['date_block_num'] == 7) | (dfx['date_block_num'] == 19) | (dfx['date_block_num'] == 31),'Month']=8\n",
    "dfx.loc[(dfx['date_block_num'] == 8) | (dfx['date_block_num'] == 20) | (dfx['date_block_num'] == 32),'Month']=9\n",
    "dfx.loc[(dfx['date_block_num'] == 9) | (dfx['date_block_num'] == 21) | (dfx['date_block_num'] == 33),'Month']=10\n",
    "dfx.loc[(dfx['date_block_num'] == 10) | (dfx['date_block_num'] == 22),'Month']=11\n",
    "dfx.loc[(dfx['date_block_num'] == 11) | (dfx['date_block_num'] == 23),'Month']=12\n",
    "dfx.tail()"
   ]
  },
  {
   "cell_type": "code",
   "execution_count": 19,
   "metadata": {
    "colab": {},
    "colab_type": "code",
    "id": "jtJdIwN_fz-t"
   },
   "outputs": [],
   "source": [
    "#Join所有表格\n",
    "def mergecol(df):\n",
    "    df2= pd.merge(df, items, how='left', on=['item_id'])\n",
    "    df3= pd.merge(df2, shop, how='left', on=['shop_id'])\n",
    "    df4= pd.merge(df3, cat, how='left', on=['item_category_id'])\n",
    "    return df4\n",
    "df4=mergecol(dfx)"
   ]
  },
  {
   "cell_type": "code",
   "execution_count": 20,
   "metadata": {
    "colab": {
     "base_uri": "https://localhost:8080/",
     "height": 34
    },
    "colab_type": "code",
    "executionInfo": {
     "elapsed": 3606,
     "status": "ok",
     "timestamp": 1588955094456,
     "user": {
      "displayName": "傅俊益",
      "photoUrl": "https://lh3.googleusercontent.com/a-/AOh14GiKpdx1mG2u0HvNscCECJBczdnNzwYE7fZ5nUJt=s64",
      "userId": "15552197068465878986"
     },
     "user_tz": -480
    },
    "id": "HWOPO10yfz-4",
    "outputId": "e390f8e7-aab7-4937-a624-eac563dd0d8c"
   },
   "outputs": [
    {
     "data": {
      "text/plain": [
       "(1823324, 12)"
      ]
     },
     "execution_count": 20,
     "metadata": {},
     "output_type": "execute_result"
    }
   ],
   "source": [
    "df4.shape"
   ]
  },
  {
   "cell_type": "code",
   "execution_count": 21,
   "metadata": {
    "colab": {
     "base_uri": "https://localhost:8080/",
     "height": 270
    },
    "colab_type": "code",
    "executionInfo": {
     "elapsed": 6621,
     "status": "ok",
     "timestamp": 1588955099152,
     "user": {
      "displayName": "傅俊益",
      "photoUrl": "https://lh3.googleusercontent.com/a-/AOh14GiKpdx1mG2u0HvNscCECJBczdnNzwYE7fZ5nUJt=s64",
      "userId": "15552197068465878986"
     },
     "user_tz": -480
    },
    "id": "cPZcCCGhfz__",
    "outputId": "10520827-53f7-4168-8f7b-c8e0491555e8",
    "scrolled": true
   },
   "outputs": [
    {
     "data": {
      "text/plain": [
       "<matplotlib.axes._subplots.AxesSubplot at 0x1a24a35a20>"
      ]
     },
     "execution_count": 21,
     "metadata": {},
     "output_type": "execute_result"
    },
    {
     "data": {
      "image/png": "[encoded data removed]",
      "text/plain": [
       "<Figure size 432x288 with 1 Axes>"
      ]
     },
     "metadata": {
      "needs_background": "light"
     },
     "output_type": "display_data"
    }
   ],
   "source": [
    "sns.boxplot(y=\"item_price\", data=df4,width=200)"
   ]
  },
  {
   "cell_type": "code",
   "execution_count": 22,
   "metadata": {
    "colab": {},
    "colab_type": "code",
    "id": "Afgm7XsQf0AV"
   },
   "outputs": [],
   "source": [
    "#price<0不合理，用mean填入\n",
    "df4.loc[df4.item_price < 0, 'item_price']=np.mean(df4['item_price'])"
   ]
  },
  {
   "cell_type": "code",
   "execution_count": 23,
   "metadata": {
    "colab": {
     "base_uri": "https://localhost:8080/",
     "height": 52
    },
    "colab_type": "code",
    "executionInfo": {
     "elapsed": 11855,
     "status": "ok",
     "timestamp": 1588955105871,
     "user": {
      "displayName": "傅俊益",
      "photoUrl": "https://lh3.googleusercontent.com/a-/AOh14GiKpdx1mG2u0HvNscCECJBczdnNzwYE7fZ5nUJt=s64",
      "userId": "15552197068465878986"
     },
     "user_tz": -480
    },
    "id": "ZwJmedv_f0Ae",
    "outputId": "a013844d-7737-4442-cac5-386e644d96c3"
   },
   "outputs": [
    {
     "name": "stdout",
     "output_type": "stream",
     "text": [
      "547010    307980.0\n",
      "Name: item_price, dtype: float64\n"
     ]
    }
   ],
   "source": [
    "print(df4.loc[df4.item_price > 200000, 'item_price']) "
   ]
  },
  {
   "cell_type": "code",
   "execution_count": 24,
   "metadata": {
    "colab": {},
    "colab_type": "code",
    "id": "DD_rPAhtf0Ah"
   },
   "outputs": [],
   "source": [
    "#price>200000可能是outlier，用mean填入\n",
    "df4.iloc[547010,5]=np.mean(df4['item_price'])"
   ]
  },
  {
   "cell_type": "code",
   "execution_count": 25,
   "metadata": {
    "colab": {
     "base_uri": "https://localhost:8080/",
     "height": 176
    },
    "colab_type": "code",
    "executionInfo": {
     "elapsed": 11767,
     "status": "ok",
     "timestamp": 1588955105873,
     "user": {
      "displayName": "傅俊益",
      "photoUrl": "https://lh3.googleusercontent.com/a-/AOh14GiKpdx1mG2u0HvNscCECJBczdnNzwYE7fZ5nUJt=s64",
      "userId": "15552197068465878986"
     },
     "user_tz": -480
    },
    "id": "UQGeiCKovUc3",
    "outputId": "79737a22-b2d1-42cc-ba32-d26ccdb4a653"
   },
   "outputs": [
    {
     "data": {
      "text/plain": [
       "count   1823324.00\n",
       "mean        809.82\n",
       "std        1562.97\n",
       "min           0.10\n",
       "25%         199.00\n",
       "50%         399.00\n",
       "75%         899.00\n",
       "max       50999.00\n",
       "Name: item_price, dtype: float64"
      ]
     },
     "execution_count": 25,
     "metadata": {},
     "output_type": "execute_result"
    }
   ],
   "source": [
    "pd.set_option('display.float_format',lambda x : '%.2f' % x)\n",
    "df4['item_price'].describe()"
   ]
  },
  {
   "cell_type": "markdown",
   "metadata": {},
   "source": [
    "# Feature Engineering"
   ]
  },
  {
   "cell_type": "code",
   "execution_count": 26,
   "metadata": {
    "colab": {},
    "colab_type": "code",
    "id": "eyNA4SWXfz_a"
   },
   "outputs": [],
   "source": [
    "# 列出item_name的名字找insight\n",
    "# pd.set_option('display.max_rows', None)\n",
    "# pd.options.display.max_colwidth = 200\n",
    "# allname=pd.DataFrame(items['item_name'].unique())\n",
    "# allname"
   ]
  },
  {
   "cell_type": "code",
   "execution_count": 27,
   "metadata": {
    "colab": {},
    "colab_type": "code",
    "id": "YYKqUFRFfz_l"
   },
   "outputs": [
    {
     "name": "stdout",
     "output_type": "stream",
     "text": [
      "PS4 ratio 0.02347196658410683\n",
      "PS3 ratio 0.06330526006348844\n",
      "CD ratio 0.06678681353396325\n",
      "PC ratio 0.10967057966658696\n",
      "Xbox ratio 0.05856611331831315\n",
      "DVD ratio 0.03492522448012531\n"
     ]
    }
   ],
   "source": [
    "#計算含有string的比例\n",
    "print('PS4 ratio',df4['item_name'].str.contains('PS4').sum()/df4.shape[0])\n",
    "print('PS3 ratio',df4['item_name'].str.contains('PS3').sum()/df4.shape[0])\n",
    "print('CD ratio',df4['item_name'].str.contains('CD').sum()/df4.shape[0])\n",
    "print('PC ratio',df4['item_name'].str.contains('PC').sum()/df4.shape[0])\n",
    "print('Xbox ratio',df4['item_name'].str.contains('Xbox').sum()/df4.shape[0])\n",
    "print('DVD ratio',df4['item_name'].str.contains('DVD').sum()/df4.shape[0])"
   ]
  },
  {
   "cell_type": "code",
   "execution_count": 28,
   "metadata": {
    "colab": {
     "base_uri": "https://localhost:8080/",
     "height": 367
    },
    "colab_type": "code",
    "executionInfo": {
     "elapsed": 5741,
     "status": "ok",
     "timestamp": 1588955098108,
     "user": {
      "displayName": "傅俊益",
      "photoUrl": "https://lh3.googleusercontent.com/a-/AOh14GiKpdx1mG2u0HvNscCECJBczdnNzwYE7fZ5nUJt=s64",
      "userId": "15552197068465878986"
     },
     "user_tz": -480
    },
    "id": "7ta47_Vrfz_p",
    "outputId": "89c9b80d-eb93-40b1-9403-0a7084071f13"
   },
   "outputs": [
    {
     "data": {
      "text/html": [
       "<div>\n",
       "<style scoped>\n",
       "    .dataframe tbody tr th:only-of-type {\n",
       "        vertical-align: middle;\n",
       "    }\n",
       "\n",
       "    .dataframe tbody tr th {\n",
       "        vertical-align: top;\n",
       "    }\n",
       "\n",
       "    .dataframe thead th {\n",
       "        text-align: right;\n",
       "    }\n",
       "</style>\n",
       "<table border=\"1\" class=\"dataframe\">\n",
       "  <thead>\n",
       "    <tr style=\"text-align: right;\">\n",
       "      <th></th>\n",
       "      <th>item_id</th>\n",
       "      <th>shop_id</th>\n",
       "      <th>date_block_num</th>\n",
       "      <th>ID</th>\n",
       "      <th>item_cnt_month</th>\n",
       "      <th>item_price</th>\n",
       "      <th>Year</th>\n",
       "      <th>Month</th>\n",
       "      <th>item_name</th>\n",
       "      <th>item_category_id</th>\n",
       "      <th>shop_name</th>\n",
       "      <th>item_category_name</th>\n",
       "      <th>PS3</th>\n",
       "      <th>PS4</th>\n",
       "      <th>DVD</th>\n",
       "      <th>CD</th>\n",
       "      <th>PC</th>\n",
       "      <th>Xbox</th>\n",
       "    </tr>\n",
       "  </thead>\n",
       "  <tbody>\n",
       "    <tr>\n",
       "      <th>1823319</th>\n",
       "      <td>22168</td>\n",
       "      <td>12</td>\n",
       "      <td>8.00</td>\n",
       "      <td>0.00</td>\n",
       "      <td>1.00</td>\n",
       "      <td>799.00</td>\n",
       "      <td>2013</td>\n",
       "      <td>9.00</td>\n",
       "      <td>Яйцо для Little Inu</td>\n",
       "      <td>62</td>\n",
       "      <td>Интернет-магазин ЧС</td>\n",
       "      <td>Подарки - Гаджеты, роботы, спорт</td>\n",
       "      <td>0</td>\n",
       "      <td>0</td>\n",
       "      <td>0</td>\n",
       "      <td>0</td>\n",
       "      <td>0</td>\n",
       "      <td>0</td>\n",
       "    </tr>\n",
       "    <tr>\n",
       "      <th>1823320</th>\n",
       "      <td>22168</td>\n",
       "      <td>16</td>\n",
       "      <td>1.00</td>\n",
       "      <td>0.00</td>\n",
       "      <td>1.00</td>\n",
       "      <td>799.00</td>\n",
       "      <td>2013</td>\n",
       "      <td>2.00</td>\n",
       "      <td>Яйцо для Little Inu</td>\n",
       "      <td>62</td>\n",
       "      <td>Коломна ТЦ \"Рио\"</td>\n",
       "      <td>Подарки - Гаджеты, роботы, спорт</td>\n",
       "      <td>0</td>\n",
       "      <td>0</td>\n",
       "      <td>0</td>\n",
       "      <td>0</td>\n",
       "      <td>0</td>\n",
       "      <td>0</td>\n",
       "    </tr>\n",
       "    <tr>\n",
       "      <th>1823321</th>\n",
       "      <td>22168</td>\n",
       "      <td>42</td>\n",
       "      <td>1.00</td>\n",
       "      <td>0.00</td>\n",
       "      <td>1.00</td>\n",
       "      <td>799.00</td>\n",
       "      <td>2013</td>\n",
       "      <td>2.00</td>\n",
       "      <td>Яйцо для Little Inu</td>\n",
       "      <td>62</td>\n",
       "      <td>СПб ТК \"Невский Центр\"</td>\n",
       "      <td>Подарки - Гаджеты, роботы, спорт</td>\n",
       "      <td>0</td>\n",
       "      <td>0</td>\n",
       "      <td>0</td>\n",
       "      <td>0</td>\n",
       "      <td>0</td>\n",
       "      <td>0</td>\n",
       "    </tr>\n",
       "    <tr>\n",
       "      <th>1823322</th>\n",
       "      <td>22168</td>\n",
       "      <td>43</td>\n",
       "      <td>2.00</td>\n",
       "      <td>0.00</td>\n",
       "      <td>1.00</td>\n",
       "      <td>799.00</td>\n",
       "      <td>2013</td>\n",
       "      <td>3.00</td>\n",
       "      <td>Яйцо для Little Inu</td>\n",
       "      <td>62</td>\n",
       "      <td>СПб ТК \"Сенная\"</td>\n",
       "      <td>Подарки - Гаджеты, роботы, спорт</td>\n",
       "      <td>0</td>\n",
       "      <td>0</td>\n",
       "      <td>0</td>\n",
       "      <td>0</td>\n",
       "      <td>0</td>\n",
       "      <td>0</td>\n",
       "    </tr>\n",
       "    <tr>\n",
       "      <th>1823323</th>\n",
       "      <td>22169</td>\n",
       "      <td>25</td>\n",
       "      <td>14.00</td>\n",
       "      <td>0.00</td>\n",
       "      <td>1.00</td>\n",
       "      <td>4349.00</td>\n",
       "      <td>2014</td>\n",
       "      <td>3.00</td>\n",
       "      <td>Яйцо дракона (Игра престолов)</td>\n",
       "      <td>69</td>\n",
       "      <td>Москва ТРК \"Атриум\"</td>\n",
       "      <td>Подарки - Сувениры</td>\n",
       "      <td>0</td>\n",
       "      <td>0</td>\n",
       "      <td>0</td>\n",
       "      <td>0</td>\n",
       "      <td>0</td>\n",
       "      <td>0</td>\n",
       "    </tr>\n",
       "  </tbody>\n",
       "</table>\n",
       "</div>"
      ],
      "text/plain": [
       "         item_id  shop_id  date_block_num   ID  item_cnt_month  item_price  \\\n",
       "1823319    22168       12            8.00 0.00            1.00      799.00   \n",
       "1823320    22168       16            1.00 0.00            1.00      799.00   \n",
       "1823321    22168       42            1.00 0.00            1.00      799.00   \n",
       "1823322    22168       43            2.00 0.00            1.00      799.00   \n",
       "1823323    22169       25           14.00 0.00            1.00     4349.00   \n",
       "\n",
       "         Year  Month                      item_name  item_category_id  \\\n",
       "1823319  2013   9.00            Яйцо для Little Inu                62   \n",
       "1823320  2013   2.00            Яйцо для Little Inu                62   \n",
       "1823321  2013   2.00            Яйцо для Little Inu                62   \n",
       "1823322  2013   3.00            Яйцо для Little Inu                62   \n",
       "1823323  2014   3.00  Яйцо дракона (Игра престолов)                69   \n",
       "\n",
       "                      shop_name                item_category_name  PS3  PS4  \\\n",
       "1823319     Интернет-магазин ЧС  Подарки - Гаджеты, роботы, спорт    0    0   \n",
       "1823320        Коломна ТЦ \"Рио\"  Подарки - Гаджеты, роботы, спорт    0    0   \n",
       "1823321  СПб ТК \"Невский Центр\"  Подарки - Гаджеты, роботы, спорт    0    0   \n",
       "1823322         СПб ТК \"Сенная\"  Подарки - Гаджеты, роботы, спорт    0    0   \n",
       "1823323     Москва ТРК \"Атриум\"                Подарки - Сувениры    0    0   \n",
       "\n",
       "         DVD  CD  PC  Xbox  \n",
       "1823319    0   0   0     0  \n",
       "1823320    0   0   0     0  \n",
       "1823321    0   0   0     0  \n",
       "1823322    0   0   0     0  \n",
       "1823323    0   0   0     0  "
      ]
     },
     "execution_count": 28,
     "metadata": {},
     "output_type": "execute_result"
    }
   ],
   "source": [
    "#製作feature，含有string為1，其餘為0\n",
    "df4['PS3'] = df4[\"item_name\"].apply(lambda x: 1 if 'PS3' in x else 0)\n",
    "df4['PS4'] = df4[\"item_name\"].apply(lambda x: 1 if 'PS4' in x else 0)\n",
    "df4['DVD'] = df4[\"item_name\"].apply(lambda x: 1 if 'DVD' in x else 0)\n",
    "df4['CD'] = df4[\"item_name\"].apply(lambda x: 1 if 'CD' in x else 0)\n",
    "df4['PC'] = df4[\"item_name\"].apply(lambda x: 1 if 'PC' in x else 0)\n",
    "df4['Xbox'] = df4[\"item_name\"].apply(lambda x: 1 if 'Xbox' in x else 0)\n",
    "df4.tail()"
   ]
  },
  {
   "cell_type": "code",
   "execution_count": 29,
   "metadata": {
    "colab": {},
    "colab_type": "code",
    "id": "QKH1brIbfz_t"
   },
   "outputs": [],
   "source": [
    "#把test的年份填入2015，月份填入11\n",
    "df4['Year']=df4['Year'].fillna('2015')\n",
    "df4['Month']=df4['Month'].fillna(11)"
   ]
  },
  {
   "cell_type": "code",
   "execution_count": 30,
   "metadata": {
    "colab": {},
    "colab_type": "code",
    "id": "D5yz9C2Qx7Il"
   },
   "outputs": [],
   "source": [
    "df4.loc[(df4['item_price'] <250) ,'price_g']=0\n",
    "df4.loc[(df4['item_price'] >=250) & (df4['item_price'] <1000),'price_g']=1\n",
    "df4.loc[(df4['item_price'] >=1000) ,'price_g']=2"
   ]
  },
  {
   "cell_type": "code",
   "execution_count": 31,
   "metadata": {
    "colab": {},
    "colab_type": "code",
    "id": "_8-5ONyT_J4Q"
   },
   "outputs": [],
   "source": [
    "# df4 = pd.get_dummies(data=df4,columns=['Year'])\n",
    "# df4 = pd.get_dummies(data=df4,columns=['Month'])"
   ]
  },
  {
   "cell_type": "code",
   "execution_count": 32,
   "metadata": {
    "colab": {
     "base_uri": "https://localhost:8080/",
     "height": 34
    },
    "colab_type": "code",
    "executionInfo": {
     "elapsed": 10827,
     "status": "ok",
     "timestamp": 1588955106104,
     "user": {
      "displayName": "傅俊益",
      "photoUrl": "https://lh3.googleusercontent.com/a-/AOh14GiKpdx1mG2u0HvNscCECJBczdnNzwYE7fZ5nUJt=s64",
      "userId": "15552197068465878986"
     },
     "user_tz": -480
    },
    "id": "-HRYR7M94TCQ",
    "outputId": "91551ca2-0c42-4656-8ecb-aba98eb5d8f4"
   },
   "outputs": [
    {
     "data": {
      "text/plain": [
       "(1609124, 5)"
      ]
     },
     "execution_count": 32,
     "metadata": {},
     "output_type": "execute_result"
    }
   ],
   "source": [
    "before_cnt=df4[df4['date_block_num']!=34][['date_block_num', 'shop_id', 'item_id','item_category_id','item_cnt_month']]\n",
    "before_cnt.shape"
   ]
  },
  {
   "cell_type": "code",
   "execution_count": 33,
   "metadata": {
    "colab": {
     "base_uri": "https://localhost:8080/",
     "height": 282
    },
    "colab_type": "code",
    "executionInfo": {
     "elapsed": 10872,
     "status": "ok",
     "timestamp": 1588955106406,
     "user": {
      "displayName": "傅俊益",
      "photoUrl": "https://lh3.googleusercontent.com/a-/AOh14GiKpdx1mG2u0HvNscCECJBczdnNzwYE7fZ5nUJt=s64",
      "userId": "15552197068465878986"
     },
     "user_tz": -480
    },
    "id": "uuo9Sv-Of0At",
    "outputId": "d5819818-f777-4775-925e-c68a75d39e17"
   },
   "outputs": [
    {
     "data": {
      "text/plain": [
       "[<matplotlib.lines.Line2D at 0x1a24a35160>]"
      ]
     },
     "execution_count": 33,
     "metadata": {},
     "output_type": "execute_result"
    },
    {
     "data": {
      "image/png": "[encoded data removed]",
      "text/plain": [
       "<Figure size 432x288 with 1 Axes>"
      ]
     },
     "metadata": {
      "needs_background": "light"
     },
     "output_type": "display_data"
    }
   ],
   "source": [
    "shop_mean=before_cnt.groupby([\"shop_id\"]).mean()\n",
    "plt.plot(shop_mean.index,shop_mean['item_cnt_month'])"
   ]
  },
  {
   "cell_type": "code",
   "execution_count": 34,
   "metadata": {
    "colab": {},
    "colab_type": "code",
    "id": "iBurHDL5f0Ax"
   },
   "outputs": [],
   "source": [
    "afsort=shop_mean['item_cnt_month'].sort_values(ascending=False)\n",
    "afsort=pd.DataFrame(afsort)"
   ]
  },
  {
   "cell_type": "code",
   "execution_count": 35,
   "metadata": {
    "colab": {
     "base_uri": "https://localhost:8080/",
     "height": 52
    },
    "colab_type": "code",
    "executionInfo": {
     "elapsed": 10317,
     "status": "ok",
     "timestamp": 1588955106407,
     "user": {
      "displayName": "傅俊益",
      "photoUrl": "https://lh3.googleusercontent.com/a-/AOh14GiKpdx1mG2u0HvNscCECJBczdnNzwYE7fZ5nUJt=s64",
      "userId": "15552197068465878986"
     },
     "user_tz": -480
    },
    "id": "Zg14uQnWf0A1",
    "outputId": "a64c6b2f-e589-4630-d3bb-6da21135648e"
   },
   "outputs": [
    {
     "name": "stdout",
     "output_type": "stream",
     "text": [
      "Mean+1.5SD： 4.296999737547448\n",
      "Mean-1.5SD： 0.30853576864607657\n"
     ]
    }
   ],
   "source": [
    "mean_cnt_shopid=np.mean(shop_mean['item_cnt_month'])\n",
    "std_cnt_shopid=np.std(shop_mean['item_cnt_month'])\n",
    "Mean_plus=mean_cnt_shopid+1.5*std_cnt_shopid\n",
    "Mean_minus=mean_cnt_shopid-1.5*std_cnt_shopid\n",
    "print('Mean+1.5SD：',Mean_plus)\n",
    "print('Mean-1.5SD：',Mean_minus)"
   ]
  },
  {
   "cell_type": "code",
   "execution_count": 36,
   "metadata": {
    "colab": {
     "base_uri": "https://localhost:8080/",
     "height": 158
    },
    "colab_type": "code",
    "executionInfo": {
     "elapsed": 10042,
     "status": "ok",
     "timestamp": 1588955106410,
     "user": {
      "displayName": "傅俊益",
      "photoUrl": "https://lh3.googleusercontent.com/a-/AOh14GiKpdx1mG2u0HvNscCECJBczdnNzwYE7fZ5nUJt=s64",
      "userId": "15552197068465878986"
     },
     "user_tz": -480
    },
    "id": "wizgDW1Tf0A9",
    "outputId": "a7fe4a78-5c23-4e99-fba8-dc3d42a841dd"
   },
   "outputs": [
    {
     "name": "stdout",
     "output_type": "stream",
     "text": [
      "         item_cnt_month\n",
      "shop_id                \n",
      "9                  9.97\n",
      "20                 7.39\n",
      "55                 4.97\n",
      "Empty DataFrame\n",
      "Columns: [item_cnt_month]\n",
      "Index: []\n"
     ]
    }
   ],
   "source": [
    "fil=(afsort['item_cnt_month']>Mean_plus)\n",
    "fil2=(afsort['item_cnt_month']<Mean_minus)\n",
    "print(afsort[fil])\n",
    "print(afsort[fil2])"
   ]
  },
  {
   "cell_type": "code",
   "execution_count": 37,
   "metadata": {
    "colab": {},
    "colab_type": "code",
    "id": "dIBxAc3cf0BL"
   },
   "outputs": [],
   "source": [
    "df4['shopid_9'] = df4[\"shop_id\"].apply(lambda x: 1 if x==9  else 0)\n",
    "df4['shopid_20'] = df4[\"shop_id\"].apply(lambda x: 1 if x==20 else 0)\n",
    "df4['shopid_55'] = df4[\"shop_id\"].apply(lambda x: 1 if x==55 else 0)"
   ]
  },
  {
   "cell_type": "code",
   "execution_count": 38,
   "metadata": {
    "colab": {
     "base_uri": "https://localhost:8080/",
     "height": 70
    },
    "colab_type": "code",
    "executionInfo": {
     "elapsed": 11154,
     "status": "ok",
     "timestamp": 1588955108122,
     "user": {
      "displayName": "傅俊益",
      "photoUrl": "https://lh3.googleusercontent.com/a-/AOh14GiKpdx1mG2u0HvNscCECJBczdnNzwYE7fZ5nUJt=s64",
      "userId": "15552197068465878986"
     },
     "user_tz": -480
    },
    "id": "VjAHJv0hf0BY",
    "outputId": "73d04064-a6ba-4d1a-fb65-f4453848902e"
   },
   "outputs": [
    {
     "name": "stdout",
     "output_type": "stream",
     "text": [
      "0.0008725821631262463\n",
      "0.00043601685712468\n",
      "0.009798587634452242\n"
     ]
    }
   ],
   "source": [
    "print(df4.loc[df4.shopid_9==1]['shopid_9'].count()/df4.shape[0])\n",
    "print(df4.loc[df4.shopid_20==1]['shopid_20'].count()/df4.shape[0])\n",
    "print(df4.loc[df4.shopid_55==1]['shopid_55'].count()/df4.shape[0])"
   ]
  },
  {
   "cell_type": "code",
   "execution_count": 39,
   "metadata": {
    "colab": {},
    "colab_type": "code",
    "id": "mj63Yhgt4TDf"
   },
   "outputs": [],
   "source": [
    "# df4.drop(['date_block_num_y'],axis=1,inplace=True)\n",
    "# df4.rename(columns={'date_block_num_x':'date_block_num'},inplace=True)"
   ]
  },
  {
   "cell_type": "code",
   "execution_count": 40,
   "metadata": {
    "colab": {},
    "colab_type": "code",
    "id": "9CMcwQ1CBt3T"
   },
   "outputs": [],
   "source": [
    "df4['Year']=df4['Year'].astype('int')"
   ]
  },
  {
   "cell_type": "code",
   "execution_count": 41,
   "metadata": {
    "colab": {},
    "colab_type": "code",
    "id": "dUshWZ6lWHHx"
   },
   "outputs": [],
   "source": [
    "def lag_feature(df, lags, col):\n",
    "    tmp = df[['date_block_num','shop_id','item_id',col]]\n",
    "    for i in lags:\n",
    "        shifted = tmp.copy()\n",
    "        shifted.columns = ['date_block_num','shop_id','item_id', col+'_lag_'+str(i)]\n",
    "        shifted['date_block_num'] += i\n",
    "        df = pd.merge(df, shifted, on=['date_block_num','shop_id','item_id'], how='left')\n",
    "    return df\n",
    "#過去1、2、3、6、12個月該item在該店的月銷量\n",
    "df5=lag_feature(df4,[1,2,3,6,12],'item_cnt_month')"
   ]
  },
  {
   "cell_type": "code",
   "execution_count": 42,
   "metadata": {
    "colab": {},
    "colab_type": "code",
    "id": "tk77tSLwBt3Z"
   },
   "outputs": [],
   "source": [
    "#過去1、2、3個月該item在所有店平均月銷量\n",
    "avg_item_cnt=df5.groupby(['date_block_num', 'item_id']).agg({'item_cnt_month': ['mean']})\n",
    "avg_item_cnt.columns = [ 'item_avg_item_cnt' ]\n",
    "avg_item_cnt.reset_index(inplace=True)\n",
    "df6=pd.merge(df5, avg_item_cnt, on=['date_block_num','item_id'], how='left')\n",
    "df7=lag_feature(df6,[1,2,3],'item_avg_item_cnt')\n",
    "df7.drop('item_avg_item_cnt',axis=1,inplace=True)"
   ]
  },
  {
   "cell_type": "code",
   "execution_count": 43,
   "metadata": {
    "colab": {},
    "colab_type": "code",
    "id": "4gyHLStZBt3m"
   },
   "outputs": [],
   "source": [
    "#過去1、2、3個月該item所屬的category所有店的平均月銷量\n",
    "avg_cat_cnt=df7.groupby(['date_block_num', 'item_category_id']).agg({'item_cnt_month': ['mean']})\n",
    "avg_cat_cnt.columns = [ 'cat_avg_item_cnt' ]\n",
    "avg_cat_cnt.reset_index(inplace=True)\n",
    "df8=pd.merge(df7, avg_cat_cnt, on=['date_block_num','item_category_id'], how='left')\n",
    "df9=lag_feature(df8,[1,2,3],'cat_avg_item_cnt')\n",
    "df9.drop('cat_avg_item_cnt',axis=1,inplace=True)"
   ]
  },
  {
   "cell_type": "code",
   "execution_count": 44,
   "metadata": {},
   "outputs": [],
   "source": [
    "#過去1、2、3個月該item所屬的shop的平均月銷量\n",
    "avg_shop_cnt=df9.groupby(['date_block_num', 'shop_id']).agg({'item_cnt_month': ['mean']})\n",
    "avg_shop_cnt.columns = [ 'shop_avg_item_cnt' ]\n",
    "avg_shop_cnt.reset_index(inplace=True)\n",
    "df10=pd.merge(df9, avg_shop_cnt, on=['date_block_num','shop_id'], how='left')\n",
    "df11=lag_feature(df10,[1,2,3],'shop_avg_item_cnt')\n",
    "df11.drop('shop_avg_item_cnt',axis=1,inplace=True)"
   ]
  },
  {
   "cell_type": "code",
   "execution_count": 45,
   "metadata": {},
   "outputs": [],
   "source": [
    "#過去1、2、3個月該item所屬的category在該item所屬shop的平均月銷量\n",
    "shop_avg_cat_cnt = df11.groupby(['date_block_num', 'shop_id', 'item_category_id']).agg({'item_cnt_month': ['mean']})\n",
    "shop_avg_cat_cnt.columns = ['shop_cat_avg_item_cnt']\n",
    "shop_avg_cat_cnt.reset_index(inplace=True)\n",
    "df12 = pd.merge(df11, shop_avg_cat_cnt, on=['date_block_num', 'shop_id', 'item_category_id'], how='left')\n",
    "df13 = lag_feature(df12, [1,2,3], 'shop_cat_avg_item_cnt')\n",
    "df13.drop(['shop_cat_avg_item_cnt'], axis=1, inplace=True)"
   ]
  },
  {
   "cell_type": "code",
   "execution_count": 46,
   "metadata": {
    "colab": {
     "base_uri": "https://localhost:8080/",
     "height": 692
    },
    "colab_type": "code",
    "executionInfo": {
     "elapsed": 826,
     "status": "ok",
     "timestamp": 1588956572495,
     "user": {
      "displayName": "傅俊益",
      "photoUrl": "https://lh3.googleusercontent.com/a-/AOh14GiKpdx1mG2u0HvNscCECJBczdnNzwYE7fZ5nUJt=s64",
      "userId": "15552197068465878986"
     },
     "user_tz": -480
    },
    "id": "TmaRVFL1uTc0",
    "outputId": "6b59ef46-8ea4-4b24-bb6d-f2e6243074f3"
   },
   "outputs": [
    {
     "data": {
      "text/plain": [
       "item_id                              0\n",
       "shop_id                              0\n",
       "date_block_num                       0\n",
       "ID                                   0\n",
       "item_cnt_month                       0\n",
       "item_price                           0\n",
       "Year                                 0\n",
       "Month                                0\n",
       "item_name                            0\n",
       "item_category_id                     0\n",
       "shop_name                            0\n",
       "item_category_name                   0\n",
       "PS3                                  0\n",
       "PS4                                  0\n",
       "DVD                                  0\n",
       "CD                                   0\n",
       "PC                                   0\n",
       "Xbox                                 0\n",
       "price_g                              0\n",
       "shopid_9                             0\n",
       "shopid_20                            0\n",
       "shopid_55                            0\n",
       "item_cnt_month_lag_1           1117906\n",
       "item_cnt_month_lag_2           1207011\n",
       "item_cnt_month_lag_3           1276526\n",
       "item_cnt_month_lag_6           1424053\n",
       "item_cnt_month_lag_12          1605174\n",
       "item_avg_item_cnt_lag_1        1117906\n",
       "item_avg_item_cnt_lag_2        1207011\n",
       "item_avg_item_cnt_lag_3        1276526\n",
       "cat_avg_item_cnt_lag_1         1117906\n",
       "cat_avg_item_cnt_lag_2         1207011\n",
       "cat_avg_item_cnt_lag_3         1276526\n",
       "shop_avg_item_cnt_lag_1        1117906\n",
       "shop_avg_item_cnt_lag_2        1207011\n",
       "shop_avg_item_cnt_lag_3        1276526\n",
       "shop_cat_avg_item_cnt_lag_1    1117906\n",
       "shop_cat_avg_item_cnt_lag_2    1207011\n",
       "shop_cat_avg_item_cnt_lag_3    1276526\n",
       "dtype: int64"
      ]
     },
     "execution_count": 46,
     "metadata": {},
     "output_type": "execute_result"
    }
   ],
   "source": [
    "df13.isnull().sum()"
   ]
  },
  {
   "cell_type": "code",
   "execution_count": 47,
   "metadata": {
    "colab": {},
    "colab_type": "code",
    "id": "G83WMsFYf0CX"
   },
   "outputs": [],
   "source": [
    "def fill_lag(df,cols,lag_nums):\n",
    "    for k in cols:\n",
    "        for i in lag_nums:\n",
    "            col_name=str(k)+'_lag_'+str(i)\n",
    "            df[col_name]=df[col_name].fillna(0)\n",
    "    return df\n",
    "df14=fill_lag(df13,['item_cnt_month'],[1,2,3,6,12])\n",
    "df15=fill_lag(df14,['item_avg_item_cnt','cat_avg_item_cnt','shop_cat_avg_item_cnt','shop_avg_item_cnt'],[1,2,3])"
   ]
  },
  {
   "cell_type": "code",
   "execution_count": 48,
   "metadata": {},
   "outputs": [],
   "source": [
    "# df15 = pd.get_dummies(data=df15,columns=['Year'])\n",
    "# df15 = pd.get_dummies(data=df15,columns=['Month'])"
   ]
  },
  {
   "cell_type": "code",
   "execution_count": 49,
   "metadata": {
    "colab": {
     "base_uri": "https://localhost:8080/",
     "height": 692
    },
    "colab_type": "code",
    "executionInfo": {
     "elapsed": 1406,
     "status": "ok",
     "timestamp": 1588956573142,
     "user": {
      "displayName": "傅俊益",
      "photoUrl": "https://lh3.googleusercontent.com/a-/AOh14GiKpdx1mG2u0HvNscCECJBczdnNzwYE7fZ5nUJt=s64",
      "userId": "15552197068465878986"
     },
     "user_tz": -480
    },
    "id": "yhfiKS7jBt3v",
    "outputId": "a763c7f2-ed04-46c0-f51a-2b97984b8a24"
   },
   "outputs": [
    {
     "data": {
      "text/plain": [
       "item_id                        0\n",
       "shop_id                        0\n",
       "date_block_num                 0\n",
       "ID                             0\n",
       "item_cnt_month                 0\n",
       "item_price                     0\n",
       "Year                           0\n",
       "Month                          0\n",
       "item_name                      0\n",
       "item_category_id               0\n",
       "shop_name                      0\n",
       "item_category_name             0\n",
       "PS3                            0\n",
       "PS4                            0\n",
       "DVD                            0\n",
       "CD                             0\n",
       "PC                             0\n",
       "Xbox                           0\n",
       "price_g                        0\n",
       "shopid_9                       0\n",
       "shopid_20                      0\n",
       "shopid_55                      0\n",
       "item_cnt_month_lag_1           0\n",
       "item_cnt_month_lag_2           0\n",
       "item_cnt_month_lag_3           0\n",
       "item_cnt_month_lag_6           0\n",
       "item_cnt_month_lag_12          0\n",
       "item_avg_item_cnt_lag_1        0\n",
       "item_avg_item_cnt_lag_2        0\n",
       "item_avg_item_cnt_lag_3        0\n",
       "cat_avg_item_cnt_lag_1         0\n",
       "cat_avg_item_cnt_lag_2         0\n",
       "cat_avg_item_cnt_lag_3         0\n",
       "shop_avg_item_cnt_lag_1        0\n",
       "shop_avg_item_cnt_lag_2        0\n",
       "shop_avg_item_cnt_lag_3        0\n",
       "shop_cat_avg_item_cnt_lag_1    0\n",
       "shop_cat_avg_item_cnt_lag_2    0\n",
       "shop_cat_avg_item_cnt_lag_3    0\n",
       "dtype: int64"
      ]
     },
     "execution_count": 49,
     "metadata": {},
     "output_type": "execute_result"
    }
   ],
   "source": [
    "df15.isnull().sum()"
   ]
  },
  {
   "cell_type": "code",
   "execution_count": 50,
   "metadata": {
    "colab": {},
    "colab_type": "code",
    "id": "oATeTXyGaD0F"
   },
   "outputs": [],
   "source": [
    "final_df=df15"
   ]
  },
  {
   "cell_type": "code",
   "execution_count": 51,
   "metadata": {},
   "outputs": [
    {
     "data": {
      "text/plain": [
       "Index(['item_id', 'shop_id', 'date_block_num', 'ID', 'item_cnt_month',\n",
       "       'item_price', 'Year', 'Month', 'item_name', 'item_category_id',\n",
       "       'shop_name', 'item_category_name', 'PS3', 'PS4', 'DVD', 'CD', 'PC',\n",
       "       'Xbox', 'price_g', 'shopid_9', 'shopid_20', 'shopid_55',\n",
       "       'item_cnt_month_lag_1', 'item_cnt_month_lag_2', 'item_cnt_month_lag_3',\n",
       "       'item_cnt_month_lag_6', 'item_cnt_month_lag_12',\n",
       "       'item_avg_item_cnt_lag_1', 'item_avg_item_cnt_lag_2',\n",
       "       'item_avg_item_cnt_lag_3', 'cat_avg_item_cnt_lag_1',\n",
       "       'cat_avg_item_cnt_lag_2', 'cat_avg_item_cnt_lag_3',\n",
       "       'shop_avg_item_cnt_lag_1', 'shop_avg_item_cnt_lag_2',\n",
       "       'shop_avg_item_cnt_lag_3', 'shop_cat_avg_item_cnt_lag_1',\n",
       "       'shop_cat_avg_item_cnt_lag_2', 'shop_cat_avg_item_cnt_lag_3'],\n",
       "      dtype='object')"
      ]
     },
     "execution_count": 51,
     "metadata": {},
     "output_type": "execute_result"
    }
   ],
   "source": [
    "final_df.columns"
   ]
  },
  {
   "cell_type": "markdown",
   "metadata": {
    "colab_type": "text",
    "id": "qiFDftVgw2e-"
   },
   "source": [
    "# Model Training and cross validation"
   ]
  },
  {
   "cell_type": "code",
   "execution_count": 52,
   "metadata": {
    "colab": {},
    "colab_type": "code",
    "id": "oAcX5LHtf0Cf"
   },
   "outputs": [],
   "source": [
    "train_data=final_df[final_df['date_block_num']<33]\n",
    "valid_data=final_df.loc[(final_df['date_block_num']>=33) & (final_df['date_block_num']<34)]"
   ]
  },
  {
   "cell_type": "code",
   "execution_count": 53,
   "metadata": {
    "colab": {
     "base_uri": "https://localhost:8080/",
     "height": 34
    },
    "colab_type": "code",
    "executionInfo": {
     "elapsed": 791,
     "status": "ok",
     "timestamp": 1588956719055,
     "user": {
      "displayName": "傅俊益",
      "photoUrl": "https://lh3.googleusercontent.com/a-/AOh14GiKpdx1mG2u0HvNscCECJBczdnNzwYE7fZ5nUJt=s64",
      "userId": "15552197068465878986"
     },
     "user_tz": -480
    },
    "id": "oQdGnXMwf0Cw",
    "outputId": "41ffa830-ab27-4d31-db65-06e0a0f16d91"
   },
   "outputs": [
    {
     "name": "stdout",
     "output_type": "stream",
     "text": [
      "There are total 32 features\n"
     ]
    }
   ],
   "source": [
    "from sklearn.model_selection import train_test_split\n",
    "from sklearn import preprocessing\n",
    "features=['item_category_id', 'PS3', 'PS4', 'DVD', 'CD', 'PC',\n",
    "       'Xbox', 'price_g', 'shopid_9', 'shopid_20', 'shopid_55','item_price','item_id','item_category_id','item_cnt_month_lag_1','item_cnt_month_lag_2','item_cnt_month_lag_3',\n",
    "          'item_cnt_month_lag_6','item_cnt_month_lag_12',\n",
    "          'item_avg_item_cnt_lag_1','item_avg_item_cnt_lag_2','cat_avg_item_cnt_lag_1','cat_avg_item_cnt_lag_2'\n",
    "         ,'shop_cat_avg_item_cnt_lag_1','shop_cat_avg_item_cnt_lag_2',\n",
    "         'item_category_id','shop_avg_item_cnt_lag_1','shop_avg_item_cnt_lag_2','shop_avg_item_cnt_lag_3','price_g',\n",
    "         'Year','Month']\n",
    "target=['item_cnt_month']\n",
    "X_train =train_data[features]\n",
    "y_train =train_data[target]\n",
    "X_val =valid_data[features]\n",
    "y_val =valid_data[target]\n",
    "print('There are total',len(features),'features')"
   ]
  },
  {
   "cell_type": "code",
   "execution_count": 54,
   "metadata": {
    "colab": {
     "base_uri": "https://localhost:8080/",
     "height": 637
    },
    "colab_type": "code",
    "executionInfo": {
     "elapsed": 2209,
     "status": "ok",
     "timestamp": 1588956721951,
     "user": {
      "displayName": "傅俊益",
      "photoUrl": "https://lh3.googleusercontent.com/a-/AOh14GiKpdx1mG2u0HvNscCECJBczdnNzwYE7fZ5nUJt=s64",
      "userId": "15552197068465878986"
     },
     "user_tz": -480
    },
    "id": "iEvAbmoL0ZzI",
    "outputId": "6f0e61ee-068b-47a3-c61f-341ab9651609"
   },
   "outputs": [
    {
     "data": {
      "image/png": "[encoded data removed]",
      "text/plain": [
       "<Figure size 1440x864 with 2 Axes>"
      ]
     },
     "metadata": {
      "needs_background": "light"
     },
     "output_type": "display_data"
    }
   ],
   "source": [
    "col_cor=train_data[['item_cnt_month','item_price',\n",
    "        'item_cnt_month_lag_1','item_cnt_month_lag_2','item_cnt_month_lag_3',\n",
    "          'item_cnt_month_lag_6','item_cnt_month_lag_12',\n",
    "          'item_avg_item_cnt_lag_1','item_avg_item_cnt_lag_2','cat_avg_item_cnt_lag_1',\n",
    "                    'cat_avg_item_cnt_lag_2','shop_cat_avg_item_cnt_lag_1','shop_cat_avg_item_cnt_lag_2',\n",
    "                   'shop_avg_item_cnt_lag_1','shop_avg_item_cnt_lag_2','shop_avg_item_cnt_lag_3']]\n",
    "plt.figure(figsize=(20,12))\n",
    "cor = col_cor.corr()\n",
    "sns.heatmap(cor, annot=True, cmap=plt.cm.Reds)\n",
    "plt.show()"
   ]
  },
  {
   "cell_type": "code",
   "execution_count": 55,
   "metadata": {
    "colab": {
     "base_uri": "https://localhost:8080/",
     "height": 340
    },
    "colab_type": "code",
    "executionInfo": {
     "elapsed": 6665,
     "status": "ok",
     "timestamp": 1588956831085,
     "user": {
      "displayName": "傅俊益",
      "photoUrl": "https://lh3.googleusercontent.com/a-/AOh14GiKpdx1mG2u0HvNscCECJBczdnNzwYE7fZ5nUJt=s64",
      "userId": "15552197068465878986"
     },
     "user_tz": -480
    },
    "id": "2vmZPsh4f0C9",
    "outputId": "847f85d1-9650-402f-806e-87eda2dcbf7e"
   },
   "outputs": [
    {
     "name": "stdout",
     "output_type": "stream",
     "text": [
      "(1577593, 4)\n",
      "[9.47750270e-01 5.22216600e-02 1.66078196e-05 7.19086613e-06]\n"
     ]
    },
    {
     "data": {
      "image/png": "[encoded data removed]",
      "text/plain": [
       "<Figure size 432x288 with 1 Axes>"
      ]
     },
     "metadata": {
      "needs_background": "light"
     },
     "output_type": "display_data"
    }
   ],
   "source": [
    "from sklearn import decomposition\n",
    "pca = decomposition.PCA(n_components=4)\n",
    "X_train_pca=pca.fit_transform(X_train)\n",
    "print(X_train_pca.shape)\n",
    "print(pca.explained_variance_ratio_)\n",
    "#PCA結果視覺化\n",
    "pc=list(range(1,X_train_pca.shape[1]+1))\n",
    "explain_pca=pca.explained_variance_ratio_\n",
    "dic_pointplot_PCA={\"PC\":pc,\"Explained Variance Ratio\":explain_pca}\n",
    "sns.pointplot(x=\"PC\",y=\"Explained Variance Ratio\",data=dic_pointplot_PCA)\n",
    "X_val_pca=pca.transform(X_val)"
   ]
  },
  {
   "cell_type": "code",
   "execution_count": 56,
   "metadata": {
    "colab": {
     "base_uri": "https://localhost:8080/",
     "height": 1000
    },
    "colab_type": "code",
    "executionInfo": {
     "elapsed": 18148,
     "status": "ok",
     "timestamp": 1588956857309,
     "user": {
      "displayName": "傅俊益",
      "photoUrl": "https://lh3.googleusercontent.com/a-/AOh14GiKpdx1mG2u0HvNscCECJBczdnNzwYE7fZ5nUJt=s64",
      "userId": "15552197068465878986"
     },
     "user_tz": -480
    },
    "id": "EVMy9wWDf0DU",
    "outputId": "e24d4795-b03f-4b5c-eb4d-bec7fbdc4817"
   },
   "outputs": [
    {
     "name": "stderr",
     "output_type": "stream",
     "text": [
      "/Users/jimmyfu87/anaconda3/lib/python3.7/site-packages/lightgbm/__init__.py:48: UserWarning: Starting from version 2.2.1, the library file in distribution wheels for macOS is built by the Apple Clang (Xcode_8.3.3) compiler.\n",
      "This means that in case of installing LightGBM from PyPI via the ``pip install lightgbm`` command, you don't need to install the gcc compiler anymore.\n",
      "Instead of that, you need to install the OpenMP library, which is required for running LightGBM on the system with the Apple Clang compiler.\n",
      "You can install the OpenMP library by the following command: ``brew install libomp``.\n",
      "  \"You can install the OpenMP library by the following command: ``brew install libomp``.\", UserWarning)\n",
      "/Users/jimmyfu87/anaconda3/lib/python3.7/site-packages/sklearn/utils/validation.py:760: DataConversionWarning: A column-vector y was passed when a 1d array was expected. Please change the shape of y to (n_samples, ), for example using ravel().\n",
      "  y = column_or_1d(y, warn=True)\n"
     ]
    },
    {
     "name": "stdout",
     "output_type": "stream",
     "text": [
      "[1]\ttraining's rmse: 8.06845\ttraining's l2: 65.0999\tvalid_1's rmse: 14.3051\tvalid_1's l2: 204.635\n",
      "[2]\ttraining's rmse: 7.70867\ttraining's l2: 59.4237\tvalid_1's rmse: 14.1206\tvalid_1's l2: 199.391\n",
      "[3]\ttraining's rmse: 7.3999\ttraining's l2: 54.7584\tvalid_1's rmse: 13.989\tvalid_1's l2: 195.691\n",
      "[4]\ttraining's rmse: 7.13915\ttraining's l2: 50.9674\tvalid_1's rmse: 13.8815\tvalid_1's l2: 192.696\n",
      "[5]\ttraining's rmse: 6.92242\ttraining's l2: 47.9198\tvalid_1's rmse: 13.7522\tvalid_1's l2: 189.123\n",
      "[6]\ttraining's rmse: 6.7427\ttraining's l2: 45.464\tvalid_1's rmse: 13.649\tvalid_1's l2: 186.294\n",
      "[7]\ttraining's rmse: 6.58241\ttraining's l2: 43.3282\tvalid_1's rmse: 13.5202\tvalid_1's l2: 182.796\n",
      "[8]\ttraining's rmse: 6.45676\ttraining's l2: 41.6898\tvalid_1's rmse: 13.4358\tvalid_1's l2: 180.522\n",
      "[9]\ttraining's rmse: 6.33132\ttraining's l2: 40.0856\tvalid_1's rmse: 13.3378\tvalid_1's l2: 177.897\n",
      "[10]\ttraining's rmse: 6.24509\ttraining's l2: 39.0011\tvalid_1's rmse: 13.2751\tvalid_1's l2: 176.229\n",
      "[11]\ttraining's rmse: 6.16775\ttraining's l2: 38.0411\tvalid_1's rmse: 13.1943\tvalid_1's l2: 174.089\n",
      "[12]\ttraining's rmse: 6.10615\ttraining's l2: 37.2851\tvalid_1's rmse: 13.1224\tvalid_1's l2: 172.198\n",
      "[13]\ttraining's rmse: 6.04625\ttraining's l2: 36.5572\tvalid_1's rmse: 13.0736\tvalid_1's l2: 170.92\n",
      "[14]\ttraining's rmse: 5.99232\ttraining's l2: 35.9078\tvalid_1's rmse: 13.0309\tvalid_1's l2: 169.803\n",
      "[15]\ttraining's rmse: 5.95655\ttraining's l2: 35.4805\tvalid_1's rmse: 12.9966\tvalid_1's l2: 168.911\n",
      "[16]\ttraining's rmse: 5.92242\ttraining's l2: 35.075\tvalid_1's rmse: 12.9501\tvalid_1's l2: 167.705\n",
      "[17]\ttraining's rmse: 5.89273\ttraining's l2: 34.7243\tvalid_1's rmse: 12.9108\tvalid_1's l2: 166.689\n",
      "[18]\ttraining's rmse: 5.86793\ttraining's l2: 34.4325\tvalid_1's rmse: 12.8906\tvalid_1's l2: 166.169\n",
      "[19]\ttraining's rmse: 5.84654\ttraining's l2: 34.182\tvalid_1's rmse: 12.8624\tvalid_1's l2: 165.441\n",
      "[20]\ttraining's rmse: 5.82433\ttraining's l2: 33.9228\tvalid_1's rmse: 12.8373\tvalid_1's l2: 164.797\n",
      "[21]\ttraining's rmse: 5.8112\ttraining's l2: 33.77\tvalid_1's rmse: 12.8146\tvalid_1's l2: 164.213\n",
      "[22]\ttraining's rmse: 5.79602\ttraining's l2: 33.5939\tvalid_1's rmse: 12.8084\tvalid_1's l2: 164.055\n",
      "[23]\ttraining's rmse: 5.78552\ttraining's l2: 33.4722\tvalid_1's rmse: 12.788\tvalid_1's l2: 163.533\n",
      "[24]\ttraining's rmse: 5.77716\ttraining's l2: 33.3756\tvalid_1's rmse: 12.7674\tvalid_1's l2: 163.006\n",
      "[25]\ttraining's rmse: 5.76522\ttraining's l2: 33.2378\tvalid_1's rmse: 12.7526\tvalid_1's l2: 162.63\n",
      "[26]\ttraining's rmse: 5.75572\ttraining's l2: 33.1283\tvalid_1's rmse: 12.7444\tvalid_1's l2: 162.419\n",
      "[27]\ttraining's rmse: 5.74504\ttraining's l2: 33.0055\tvalid_1's rmse: 12.7364\tvalid_1's l2: 162.216\n",
      "[28]\ttraining's rmse: 5.73859\ttraining's l2: 32.9314\tvalid_1's rmse: 12.7352\tvalid_1's l2: 162.186\n",
      "[29]\ttraining's rmse: 5.73254\ttraining's l2: 32.862\tvalid_1's rmse: 12.7227\tvalid_1's l2: 161.868\n",
      "[30]\ttraining's rmse: 5.72381\ttraining's l2: 32.762\tvalid_1's rmse: 12.7066\tvalid_1's l2: 161.459\n",
      "[31]\ttraining's rmse: 5.71859\ttraining's l2: 32.7022\tvalid_1's rmse: 12.6963\tvalid_1's l2: 161.197\n",
      "[32]\ttraining's rmse: 5.7145\ttraining's l2: 32.6555\tvalid_1's rmse: 12.6969\tvalid_1's l2: 161.212\n",
      "[33]\ttraining's rmse: 5.70903\ttraining's l2: 32.593\tvalid_1's rmse: 12.6956\tvalid_1's l2: 161.178\n",
      "[34]\ttraining's rmse: 5.70324\ttraining's l2: 32.5269\tvalid_1's rmse: 12.6943\tvalid_1's l2: 161.144\n",
      "[35]\ttraining's rmse: 5.69897\ttraining's l2: 32.4783\tvalid_1's rmse: 12.6947\tvalid_1's l2: 161.154\n",
      "[36]\ttraining's rmse: 5.6925\ttraining's l2: 32.4046\tvalid_1's rmse: 12.6954\tvalid_1's l2: 161.173\n",
      "[37]\ttraining's rmse: 5.68708\ttraining's l2: 32.3429\tvalid_1's rmse: 12.6878\tvalid_1's l2: 160.979\n",
      "[38]\ttraining's rmse: 5.68386\ttraining's l2: 32.3063\tvalid_1's rmse: 12.6802\tvalid_1's l2: 160.787\n",
      "[39]\ttraining's rmse: 5.67925\ttraining's l2: 32.2538\tvalid_1's rmse: 12.6755\tvalid_1's l2: 160.668\n",
      "[40]\ttraining's rmse: 5.67402\ttraining's l2: 32.1945\tvalid_1's rmse: 12.6671\tvalid_1's l2: 160.456\n",
      "[41]\ttraining's rmse: 5.66765\ttraining's l2: 32.1223\tvalid_1's rmse: 12.669\tvalid_1's l2: 160.502\n",
      "[42]\ttraining's rmse: 5.66209\ttraining's l2: 32.0593\tvalid_1's rmse: 12.6705\tvalid_1's l2: 160.543\n",
      "[43]\ttraining's rmse: 5.6545\ttraining's l2: 31.9734\tvalid_1's rmse: 12.6707\tvalid_1's l2: 160.546\n",
      "[44]\ttraining's rmse: 5.64738\ttraining's l2: 31.8928\tvalid_1's rmse: 12.6665\tvalid_1's l2: 160.439\n",
      "[45]\ttraining's rmse: 5.64153\ttraining's l2: 31.8268\tvalid_1's rmse: 12.6662\tvalid_1's l2: 160.432\n",
      "[46]\ttraining's rmse: 5.63103\ttraining's l2: 31.7085\tvalid_1's rmse: 12.6676\tvalid_1's l2: 160.469\n",
      "[47]\ttraining's rmse: 5.62332\ttraining's l2: 31.6217\tvalid_1's rmse: 12.665\tvalid_1's l2: 160.403\n",
      "[48]\ttraining's rmse: 5.61876\ttraining's l2: 31.5704\tvalid_1's rmse: 12.666\tvalid_1's l2: 160.428\n",
      "[49]\ttraining's rmse: 5.61358\ttraining's l2: 31.5123\tvalid_1's rmse: 12.6629\tvalid_1's l2: 160.35\n",
      "[50]\ttraining's rmse: 5.61023\ttraining's l2: 31.4747\tvalid_1's rmse: 12.6646\tvalid_1's l2: 160.393\n",
      "[51]\ttraining's rmse: 5.60729\ttraining's l2: 31.4417\tvalid_1's rmse: 12.6665\tvalid_1's l2: 160.441\n",
      "[52]\ttraining's rmse: 5.59778\ttraining's l2: 31.3352\tvalid_1's rmse: 12.6675\tvalid_1's l2: 160.466\n",
      "[53]\ttraining's rmse: 5.5939\ttraining's l2: 31.2917\tvalid_1's rmse: 12.6648\tvalid_1's l2: 160.398\n",
      "[54]\ttraining's rmse: 5.59136\ttraining's l2: 31.2634\tvalid_1's rmse: 12.6648\tvalid_1's l2: 160.397\n",
      "[55]\ttraining's rmse: 5.58\ttraining's l2: 31.1364\tvalid_1's rmse: 12.6634\tvalid_1's l2: 160.362\n",
      "[56]\ttraining's rmse: 5.57668\ttraining's l2: 31.0993\tvalid_1's rmse: 12.6639\tvalid_1's l2: 160.373\n",
      "[57]\ttraining's rmse: 5.56793\ttraining's l2: 31.0019\tvalid_1's rmse: 12.668\tvalid_1's l2: 160.478\n",
      "[58]\ttraining's rmse: 5.56392\ttraining's l2: 30.9572\tvalid_1's rmse: 12.6647\tvalid_1's l2: 160.395\n",
      "[59]\ttraining's rmse: 5.56161\ttraining's l2: 30.9315\tvalid_1's rmse: 12.6639\tvalid_1's l2: 160.374\n",
      "[60]\ttraining's rmse: 5.56034\ttraining's l2: 30.9173\tvalid_1's rmse: 12.6641\tvalid_1's l2: 160.38\n",
      "[61]\ttraining's rmse: 5.55572\ttraining's l2: 30.8661\tvalid_1's rmse: 12.6623\tvalid_1's l2: 160.333\n",
      "[62]\ttraining's rmse: 5.54957\ttraining's l2: 30.7977\tvalid_1's rmse: 12.6622\tvalid_1's l2: 160.333\n",
      "[63]\ttraining's rmse: 5.54783\ttraining's l2: 30.7785\tvalid_1's rmse: 12.6622\tvalid_1's l2: 160.331\n",
      "[64]\ttraining's rmse: 5.54523\ttraining's l2: 30.7496\tvalid_1's rmse: 12.66\tvalid_1's l2: 160.277\n",
      "[65]\ttraining's rmse: 5.53691\ttraining's l2: 30.6574\tvalid_1's rmse: 12.6616\tvalid_1's l2: 160.315\n",
      "[66]\ttraining's rmse: 5.53525\ttraining's l2: 30.639\tvalid_1's rmse: 12.6623\tvalid_1's l2: 160.333\n",
      "[67]\ttraining's rmse: 5.53204\ttraining's l2: 30.6035\tvalid_1's rmse: 12.6596\tvalid_1's l2: 160.265\n",
      "[68]\ttraining's rmse: 5.52952\ttraining's l2: 30.5756\tvalid_1's rmse: 12.6585\tvalid_1's l2: 160.237\n",
      "[69]\ttraining's rmse: 5.52314\ttraining's l2: 30.5051\tvalid_1's rmse: 12.6593\tvalid_1's l2: 160.257\n",
      "[70]\ttraining's rmse: 5.51677\ttraining's l2: 30.4347\tvalid_1's rmse: 12.6591\tvalid_1's l2: 160.254\n",
      "[71]\ttraining's rmse: 5.51584\ttraining's l2: 30.4245\tvalid_1's rmse: 12.6594\tvalid_1's l2: 160.259\n",
      "[72]\ttraining's rmse: 5.51052\ttraining's l2: 30.3658\tvalid_1's rmse: 12.6648\tvalid_1's l2: 160.396\n",
      "[73]\ttraining's rmse: 5.50888\ttraining's l2: 30.3478\tvalid_1's rmse: 12.6647\tvalid_1's l2: 160.396\n",
      "[74]\ttraining's rmse: 5.50765\ttraining's l2: 30.3342\tvalid_1's rmse: 12.6647\tvalid_1's l2: 160.396\n",
      "[75]\ttraining's rmse: 5.50571\ttraining's l2: 30.3128\tvalid_1's rmse: 12.6621\tvalid_1's l2: 160.329\n",
      "[76]\ttraining's rmse: 5.50416\ttraining's l2: 30.2958\tvalid_1's rmse: 12.6624\tvalid_1's l2: 160.337\n",
      "[77]\ttraining's rmse: 5.49935\ttraining's l2: 30.2428\tvalid_1's rmse: 12.6629\tvalid_1's l2: 160.35\n",
      "[78]\ttraining's rmse: 5.49457\ttraining's l2: 30.1903\tvalid_1's rmse: 12.6646\tvalid_1's l2: 160.391\n",
      "[79]\ttraining's rmse: 5.49158\ttraining's l2: 30.1575\tvalid_1's rmse: 12.6647\tvalid_1's l2: 160.394\n",
      "[80]\ttraining's rmse: 5.49008\ttraining's l2: 30.141\tvalid_1's rmse: 12.6646\tvalid_1's l2: 160.393\n",
      "[81]\ttraining's rmse: 5.48549\ttraining's l2: 30.0906\tvalid_1's rmse: 12.6654\tvalid_1's l2: 160.412\n",
      "[82]\ttraining's rmse: 5.48157\ttraining's l2: 30.0476\tvalid_1's rmse: 12.6657\tvalid_1's l2: 160.42\n",
      "[83]\ttraining's rmse: 5.47867\ttraining's l2: 30.0158\tvalid_1's rmse: 12.6664\tvalid_1's l2: 160.438\n",
      "[84]\ttraining's rmse: 5.47771\ttraining's l2: 30.0053\tvalid_1's rmse: 12.6664\tvalid_1's l2: 160.438\n",
      "[85]\ttraining's rmse: 5.47504\ttraining's l2: 29.9761\tvalid_1's rmse: 12.6666\tvalid_1's l2: 160.442\n"
     ]
    },
    {
     "name": "stdout",
     "output_type": "stream",
     "text": [
      "[86]\ttraining's rmse: 5.47387\ttraining's l2: 29.9632\tvalid_1's rmse: 12.6671\tvalid_1's l2: 160.454\n",
      "[87]\ttraining's rmse: 5.47243\ttraining's l2: 29.9475\tvalid_1's rmse: 12.6662\tvalid_1's l2: 160.432\n",
      "[88]\ttraining's rmse: 5.47073\ttraining's l2: 29.9289\tvalid_1's rmse: 12.6664\tvalid_1's l2: 160.439\n",
      "[89]\ttraining's rmse: 5.468\ttraining's l2: 29.8991\tvalid_1's rmse: 12.6631\tvalid_1's l2: 160.355\n",
      "[90]\ttraining's rmse: 5.46425\ttraining's l2: 29.8581\tvalid_1's rmse: 12.6639\tvalid_1's l2: 160.373\n",
      "[91]\ttraining's rmse: 5.46205\ttraining's l2: 29.834\tvalid_1's rmse: 12.6639\tvalid_1's l2: 160.373\n",
      "[92]\ttraining's rmse: 5.46086\ttraining's l2: 29.8209\tvalid_1's rmse: 12.6637\tvalid_1's l2: 160.37\n",
      "[93]\ttraining's rmse: 5.45821\ttraining's l2: 29.7921\tvalid_1's rmse: 12.6649\tvalid_1's l2: 160.399\n",
      "[94]\ttraining's rmse: 5.45675\ttraining's l2: 29.7761\tvalid_1's rmse: 12.665\tvalid_1's l2: 160.403\n",
      "[95]\ttraining's rmse: 5.45526\ttraining's l2: 29.7599\tvalid_1's rmse: 12.6628\tvalid_1's l2: 160.346\n",
      "[96]\ttraining's rmse: 5.45423\ttraining's l2: 29.7486\tvalid_1's rmse: 12.6632\tvalid_1's l2: 160.355\n",
      "[97]\ttraining's rmse: 5.45314\ttraining's l2: 29.7367\tvalid_1's rmse: 12.6628\tvalid_1's l2: 160.346\n",
      "[98]\ttraining's rmse: 5.45143\ttraining's l2: 29.7181\tvalid_1's rmse: 12.6616\tvalid_1's l2: 160.315\n",
      "[99]\ttraining's rmse: 5.45\ttraining's l2: 29.7025\tvalid_1's rmse: 12.6615\tvalid_1's l2: 160.313\n",
      "[100]\ttraining's rmse: 5.44871\ttraining's l2: 29.6884\tvalid_1's rmse: 12.6622\tvalid_1's l2: 160.332\n"
     ]
    },
    {
     "data": {
      "text/plain": [
       "12.229589700698853"
      ]
     },
     "execution_count": 56,
     "metadata": {},
     "output_type": "execute_result"
    }
   ],
   "source": [
    "from sklearn.linear_model import LinearRegression\n",
    "from sklearn.tree import DecisionTreeRegressor\n",
    "from sklearn.ensemble import RandomForestRegressor\n",
    "from xgboost import XGBRegressor\n",
    "from lightgbm import LGBMRegressor\n",
    "import time\n",
    "ts = time.time()\n",
    "\n",
    "lgb=LGBMRegressor(n_estimators=100,learning_rate=0.1,max_depth=10)\n",
    "\n",
    "lgb_model=lgb.fit(X_train_pca,y_train,eval_metric=\"rmse\",    \n",
    "                 eval_set=[(X_train_pca, y_train), (X_val_pca, y_val)])\n",
    "time.time() - ts"
   ]
  },
  {
   "cell_type": "code",
   "execution_count": 57,
   "metadata": {},
   "outputs": [
    {
     "name": "stderr",
     "output_type": "stream",
     "text": [
      "/Users/jimmyfu87/anaconda3/lib/python3.7/site-packages/ipykernel_launcher.py:2: UserWarning: more than one metric available, picking one to plot.\n",
      "  \n"
     ]
    },
    {
     "data": {
      "text/plain": [
       "<matplotlib.axes._subplots.AxesSubplot at 0x1a2d069860>"
      ]
     },
     "execution_count": 57,
     "metadata": {},
     "output_type": "execute_result"
    },
    {
     "data": {
      "image/png": "[encoded data removed]",
      "text/plain": [
       "<Figure size 432x288 with 1 Axes>"
      ]
     },
     "metadata": {
      "needs_background": "light"
     },
     "output_type": "display_data"
    }
   ],
   "source": [
    "from lightgbm import plot_metric\n",
    "plot_metric(lgb_model)"
   ]
  },
  {
   "cell_type": "code",
   "execution_count": 58,
   "metadata": {
    "colab": {
     "base_uri": "https://localhost:8080/",
     "height": 367
    },
    "colab_type": "code",
    "executionInfo": {
     "elapsed": 740,
     "status": "ok",
     "timestamp": 1588956861016,
     "user": {
      "displayName": "傅俊益",
      "photoUrl": "https://lh3.googleusercontent.com/a-/AOh14GiKpdx1mG2u0HvNscCECJBczdnNzwYE7fZ5nUJt=s64",
      "userId": "15552197068465878986"
     },
     "user_tz": -480
    },
    "id": "qmeOBvhj4SuR",
    "outputId": "9f260c6a-1473-4733-fe67-3b8291aeb40a"
   },
   "outputs": [
    {
     "data": {
      "text/plain": [
       "<matplotlib.axes._subplots.AxesSubplot at 0x1a305a3b70>"
      ]
     },
     "execution_count": 58,
     "metadata": {},
     "output_type": "execute_result"
    },
    {
     "data": {
      "image/png": "[encoded data removed]",
      "text/plain": [
       "<Figure size 1440x720 with 1 Axes>"
      ]
     },
     "metadata": {
      "needs_background": "light"
     },
     "output_type": "display_data"
    }
   ],
   "source": [
    "from xgboost import plot_importance\n",
    "from lightgbm import plot_importance\n",
    "def plot_features(booster, figsize):    \n",
    "    fig, ax = plt.subplots(1,1,figsize=figsize)\n",
    "    return plot_importance(booster=booster, ax=ax)\n",
    "plot_features(lgb_model,(20,10))"
   ]
  },
  {
   "cell_type": "code",
   "execution_count": 59,
   "metadata": {
    "colab": {},
    "colab_type": "code",
    "id": "0wgVoOq4f0ES"
   },
   "outputs": [],
   "source": [
    "test_data=final_df[final_df['date_block_num']==34]\n",
    "test_data.set_index(\"ID\" , inplace=True)\n",
    "test_data2=test_data.sort_values(by='ID',ascending=True)\n",
    "X_test =test_data2[features]\n",
    "\n",
    "X_test=pca.transform(X_test)\n",
    "lgb_predict = lgb_model.predict(X_test)"
   ]
  },
  {
   "cell_type": "code",
   "execution_count": 60,
   "metadata": {
    "colab": {},
    "colab_type": "code",
    "id": "yfTvV0pOf0Ed"
   },
   "outputs": [],
   "source": [
    "submit = pd.read_csv('/Users/jimmyfu87/JupyterNotebook/Dataset/competitive-data-science-predict-future-sales/sample_submission.csv')\n",
    "submit['item_cnt_month'] =lgb_predict\n",
    "submit.to_csv('/Users/jimmyfu87/JupyterNotebook/Submit_result/submit_sales_lgb.csv', index= False)"
   ]
  }
 ],
 "metadata": {
  "accelerator": "TPU",
  "colab": {
   "collapsed_sections": [],
   "machine_shape": "hm",
   "name": "Kaggle_Future_sales_m(Regression).ipynb",
   "provenance": [],
   "toc_visible": true
  },
  "kernelspec": {
   "display_name": "Python 3",
   "language": "python",
   "name": "python3"
  },
  "language_info": {
   "codemirror_mode": {
    "name": "ipython",
    "version": 3
   },
   "file_extension": ".py",
   "mimetype": "text/x-python",
   "name": "python",
   "nbconvert_exporter": "python",
   "pygments_lexer": "ipython3",
   "version": "3.7.3"
  }
 },
 "nbformat": 4,
 "nbformat_minor": 1
}
