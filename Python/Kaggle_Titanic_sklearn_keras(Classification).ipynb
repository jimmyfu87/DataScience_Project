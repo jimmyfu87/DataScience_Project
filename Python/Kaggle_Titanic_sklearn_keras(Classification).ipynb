{
 "cells": [
  {
   "cell_type": "markdown",
   "metadata": {},
   "source": [
    "# Kaggle_Titanic_sklearn_keras"
   ]
  },
  {
   "cell_type": "code",
   "execution_count": 1,
   "metadata": {},
   "outputs": [],
   "source": [
    "from sklearn import preprocessing\n",
    "from sklearn.model_selection import GridSearchCV\n",
    "from sklearn.ensemble import RandomForestClassifier\n",
    "from sklearn.ensemble import RandomForestRegressor\n",
    "from sklearn import preprocessing, linear_model\n",
    "import numpy as np\n",
    "import pandas as pd\n",
    "import matplotlib.pyplot as plt\n",
    "import seaborn as sns\n",
    "\n",
    "%matplotlib inline"
   ]
  },
  {
   "cell_type": "code",
   "execution_count": 2,
   "metadata": {},
   "outputs": [],
   "source": [
    "train=pd.read_csv('/Users/jimmyfu87/JupyterNotebook/Dataset/titanic/titanic_train.csv')\n",
    "test=pd.read_csv('/Users/jimmyfu87/JupyterNotebook/Dataset/titanic/titanic_test.csv')"
   ]
  },
  {
   "cell_type": "code",
   "execution_count": 3,
   "metadata": {},
   "outputs": [
    {
     "data": {
      "text/html": [
       "<div>\n",
       "<style scoped>\n",
       "    .dataframe tbody tr th:only-of-type {\n",
       "        vertical-align: middle;\n",
       "    }\n",
       "\n",
       "    .dataframe tbody tr th {\n",
       "        vertical-align: top;\n",
       "    }\n",
       "\n",
       "    .dataframe thead th {\n",
       "        text-align: right;\n",
       "    }\n",
       "</style>\n",
       "<table border=\"1\" class=\"dataframe\">\n",
       "  <thead>\n",
       "    <tr style=\"text-align: right;\">\n",
       "      <th></th>\n",
       "      <th>PassengerId</th>\n",
       "      <th>Survived</th>\n",
       "      <th>Pclass</th>\n",
       "      <th>Name</th>\n",
       "      <th>Sex</th>\n",
       "      <th>Age</th>\n",
       "      <th>SibSp</th>\n",
       "      <th>Parch</th>\n",
       "      <th>Ticket</th>\n",
       "      <th>Fare</th>\n",
       "      <th>Cabin</th>\n",
       "      <th>Embarked</th>\n",
       "    </tr>\n",
       "  </thead>\n",
       "  <tbody>\n",
       "    <tr>\n",
       "      <th>0</th>\n",
       "      <td>1</td>\n",
       "      <td>0</td>\n",
       "      <td>3</td>\n",
       "      <td>Braund, Mr. Owen Harris</td>\n",
       "      <td>male</td>\n",
       "      <td>22.0</td>\n",
       "      <td>1</td>\n",
       "      <td>0</td>\n",
       "      <td>A/5 21171</td>\n",
       "      <td>7.2500</td>\n",
       "      <td>NaN</td>\n",
       "      <td>S</td>\n",
       "    </tr>\n",
       "    <tr>\n",
       "      <th>1</th>\n",
       "      <td>2</td>\n",
       "      <td>1</td>\n",
       "      <td>1</td>\n",
       "      <td>Cumings, Mrs. John Bradley (Florence Briggs Th...</td>\n",
       "      <td>female</td>\n",
       "      <td>38.0</td>\n",
       "      <td>1</td>\n",
       "      <td>0</td>\n",
       "      <td>PC 17599</td>\n",
       "      <td>71.2833</td>\n",
       "      <td>C85</td>\n",
       "      <td>C</td>\n",
       "    </tr>\n",
       "    <tr>\n",
       "      <th>2</th>\n",
       "      <td>3</td>\n",
       "      <td>1</td>\n",
       "      <td>3</td>\n",
       "      <td>Heikkinen, Miss. Laina</td>\n",
       "      <td>female</td>\n",
       "      <td>26.0</td>\n",
       "      <td>0</td>\n",
       "      <td>0</td>\n",
       "      <td>STON/O2. 3101282</td>\n",
       "      <td>7.9250</td>\n",
       "      <td>NaN</td>\n",
       "      <td>S</td>\n",
       "    </tr>\n",
       "    <tr>\n",
       "      <th>3</th>\n",
       "      <td>4</td>\n",
       "      <td>1</td>\n",
       "      <td>1</td>\n",
       "      <td>Futrelle, Mrs. Jacques Heath (Lily May Peel)</td>\n",
       "      <td>female</td>\n",
       "      <td>35.0</td>\n",
       "      <td>1</td>\n",
       "      <td>0</td>\n",
       "      <td>113803</td>\n",
       "      <td>53.1000</td>\n",
       "      <td>C123</td>\n",
       "      <td>S</td>\n",
       "    </tr>\n",
       "    <tr>\n",
       "      <th>4</th>\n",
       "      <td>5</td>\n",
       "      <td>0</td>\n",
       "      <td>3</td>\n",
       "      <td>Allen, Mr. William Henry</td>\n",
       "      <td>male</td>\n",
       "      <td>35.0</td>\n",
       "      <td>0</td>\n",
       "      <td>0</td>\n",
       "      <td>373450</td>\n",
       "      <td>8.0500</td>\n",
       "      <td>NaN</td>\n",
       "      <td>S</td>\n",
       "    </tr>\n",
       "  </tbody>\n",
       "</table>\n",
       "</div>"
      ],
      "text/plain": [
       "   PassengerId  Survived  Pclass  \\\n",
       "0            1         0       3   \n",
       "1            2         1       1   \n",
       "2            3         1       3   \n",
       "3            4         1       1   \n",
       "4            5         0       3   \n",
       "\n",
       "                                                Name     Sex   Age  SibSp  \\\n",
       "0                            Braund, Mr. Owen Harris    male  22.0      1   \n",
       "1  Cumings, Mrs. John Bradley (Florence Briggs Th...  female  38.0      1   \n",
       "2                             Heikkinen, Miss. Laina  female  26.0      0   \n",
       "3       Futrelle, Mrs. Jacques Heath (Lily May Peel)  female  35.0      1   \n",
       "4                           Allen, Mr. William Henry    male  35.0      0   \n",
       "\n",
       "   Parch            Ticket     Fare Cabin Embarked  \n",
       "0      0         A/5 21171   7.2500   NaN        S  \n",
       "1      0          PC 17599  71.2833   C85        C  \n",
       "2      0  STON/O2. 3101282   7.9250   NaN        S  \n",
       "3      0            113803  53.1000  C123        S  \n",
       "4      0            373450   8.0500   NaN        S  "
      ]
     },
     "execution_count": 3,
     "metadata": {},
     "output_type": "execute_result"
    }
   ],
   "source": [
    "train.head()"
   ]
  },
  {
   "cell_type": "code",
   "execution_count": 4,
   "metadata": {},
   "outputs": [
    {
     "name": "stdout",
     "output_type": "stream",
     "text": [
      "<class 'pandas.core.frame.DataFrame'>\n",
      "RangeIndex: 891 entries, 0 to 890\n",
      "Data columns (total 12 columns):\n",
      " #   Column       Non-Null Count  Dtype  \n",
      "---  ------       --------------  -----  \n",
      " 0   PassengerId  891 non-null    int64  \n",
      " 1   Survived     891 non-null    int64  \n",
      " 2   Pclass       891 non-null    int64  \n",
      " 3   Name         891 non-null    object \n",
      " 4   Sex          891 non-null    object \n",
      " 5   Age          714 non-null    float64\n",
      " 6   SibSp        891 non-null    int64  \n",
      " 7   Parch        891 non-null    int64  \n",
      " 8   Ticket       891 non-null    object \n",
      " 9   Fare         891 non-null    float64\n",
      " 10  Cabin        204 non-null    object \n",
      " 11  Embarked     889 non-null    object \n",
      "dtypes: float64(2), int64(5), object(5)\n",
      "memory usage: 83.7+ KB\n"
     ]
    }
   ],
   "source": [
    "train.info()"
   ]
  },
  {
   "cell_type": "code",
   "execution_count": 5,
   "metadata": {},
   "outputs": [
    {
     "data": {
      "text/plain": [
       "(418, 11)"
      ]
     },
     "execution_count": 5,
     "metadata": {},
     "output_type": "execute_result"
    }
   ],
   "source": [
    "test.shape"
   ]
  },
  {
   "cell_type": "code",
   "execution_count": 6,
   "metadata": {},
   "outputs": [
    {
     "data": {
      "text/plain": [
       "(891, 12)"
      ]
     },
     "execution_count": 6,
     "metadata": {},
     "output_type": "execute_result"
    }
   ],
   "source": [
    "train.shape"
   ]
  },
  {
   "cell_type": "code",
   "execution_count": 7,
   "metadata": {},
   "outputs": [
    {
     "data": {
      "text/html": [
       "<div>\n",
       "<style scoped>\n",
       "    .dataframe tbody tr th:only-of-type {\n",
       "        vertical-align: middle;\n",
       "    }\n",
       "\n",
       "    .dataframe tbody tr th {\n",
       "        vertical-align: top;\n",
       "    }\n",
       "\n",
       "    .dataframe thead th {\n",
       "        text-align: right;\n",
       "    }\n",
       "</style>\n",
       "<table border=\"1\" class=\"dataframe\">\n",
       "  <thead>\n",
       "    <tr style=\"text-align: right;\">\n",
       "      <th></th>\n",
       "      <th>PassengerId</th>\n",
       "      <th>Pclass</th>\n",
       "      <th>Name</th>\n",
       "      <th>Sex</th>\n",
       "      <th>Age</th>\n",
       "      <th>SibSp</th>\n",
       "      <th>Parch</th>\n",
       "      <th>Ticket</th>\n",
       "      <th>Fare</th>\n",
       "      <th>Cabin</th>\n",
       "      <th>Embarked</th>\n",
       "    </tr>\n",
       "  </thead>\n",
       "  <tbody>\n",
       "    <tr>\n",
       "      <th>0</th>\n",
       "      <td>892</td>\n",
       "      <td>3</td>\n",
       "      <td>Kelly, Mr. James</td>\n",
       "      <td>male</td>\n",
       "      <td>34.5</td>\n",
       "      <td>0</td>\n",
       "      <td>0</td>\n",
       "      <td>330911</td>\n",
       "      <td>7.8292</td>\n",
       "      <td>NaN</td>\n",
       "      <td>Q</td>\n",
       "    </tr>\n",
       "    <tr>\n",
       "      <th>1</th>\n",
       "      <td>893</td>\n",
       "      <td>3</td>\n",
       "      <td>Wilkes, Mrs. James (Ellen Needs)</td>\n",
       "      <td>female</td>\n",
       "      <td>47.0</td>\n",
       "      <td>1</td>\n",
       "      <td>0</td>\n",
       "      <td>363272</td>\n",
       "      <td>7.0000</td>\n",
       "      <td>NaN</td>\n",
       "      <td>S</td>\n",
       "    </tr>\n",
       "    <tr>\n",
       "      <th>2</th>\n",
       "      <td>894</td>\n",
       "      <td>2</td>\n",
       "      <td>Myles, Mr. Thomas Francis</td>\n",
       "      <td>male</td>\n",
       "      <td>62.0</td>\n",
       "      <td>0</td>\n",
       "      <td>0</td>\n",
       "      <td>240276</td>\n",
       "      <td>9.6875</td>\n",
       "      <td>NaN</td>\n",
       "      <td>Q</td>\n",
       "    </tr>\n",
       "    <tr>\n",
       "      <th>3</th>\n",
       "      <td>895</td>\n",
       "      <td>3</td>\n",
       "      <td>Wirz, Mr. Albert</td>\n",
       "      <td>male</td>\n",
       "      <td>27.0</td>\n",
       "      <td>0</td>\n",
       "      <td>0</td>\n",
       "      <td>315154</td>\n",
       "      <td>8.6625</td>\n",
       "      <td>NaN</td>\n",
       "      <td>S</td>\n",
       "    </tr>\n",
       "    <tr>\n",
       "      <th>4</th>\n",
       "      <td>896</td>\n",
       "      <td>3</td>\n",
       "      <td>Hirvonen, Mrs. Alexander (Helga E Lindqvist)</td>\n",
       "      <td>female</td>\n",
       "      <td>22.0</td>\n",
       "      <td>1</td>\n",
       "      <td>1</td>\n",
       "      <td>3101298</td>\n",
       "      <td>12.2875</td>\n",
       "      <td>NaN</td>\n",
       "      <td>S</td>\n",
       "    </tr>\n",
       "    <tr>\n",
       "      <th>...</th>\n",
       "      <td>...</td>\n",
       "      <td>...</td>\n",
       "      <td>...</td>\n",
       "      <td>...</td>\n",
       "      <td>...</td>\n",
       "      <td>...</td>\n",
       "      <td>...</td>\n",
       "      <td>...</td>\n",
       "      <td>...</td>\n",
       "      <td>...</td>\n",
       "      <td>...</td>\n",
       "    </tr>\n",
       "    <tr>\n",
       "      <th>413</th>\n",
       "      <td>1305</td>\n",
       "      <td>3</td>\n",
       "      <td>Spector, Mr. Woolf</td>\n",
       "      <td>male</td>\n",
       "      <td>NaN</td>\n",
       "      <td>0</td>\n",
       "      <td>0</td>\n",
       "      <td>A.5. 3236</td>\n",
       "      <td>8.0500</td>\n",
       "      <td>NaN</td>\n",
       "      <td>S</td>\n",
       "    </tr>\n",
       "    <tr>\n",
       "      <th>414</th>\n",
       "      <td>1306</td>\n",
       "      <td>1</td>\n",
       "      <td>Oliva y Ocana, Dona. Fermina</td>\n",
       "      <td>female</td>\n",
       "      <td>39.0</td>\n",
       "      <td>0</td>\n",
       "      <td>0</td>\n",
       "      <td>PC 17758</td>\n",
       "      <td>108.9000</td>\n",
       "      <td>C105</td>\n",
       "      <td>C</td>\n",
       "    </tr>\n",
       "    <tr>\n",
       "      <th>415</th>\n",
       "      <td>1307</td>\n",
       "      <td>3</td>\n",
       "      <td>Saether, Mr. Simon Sivertsen</td>\n",
       "      <td>male</td>\n",
       "      <td>38.5</td>\n",
       "      <td>0</td>\n",
       "      <td>0</td>\n",
       "      <td>SOTON/O.Q. 3101262</td>\n",
       "      <td>7.2500</td>\n",
       "      <td>NaN</td>\n",
       "      <td>S</td>\n",
       "    </tr>\n",
       "    <tr>\n",
       "      <th>416</th>\n",
       "      <td>1308</td>\n",
       "      <td>3</td>\n",
       "      <td>Ware, Mr. Frederick</td>\n",
       "      <td>male</td>\n",
       "      <td>NaN</td>\n",
       "      <td>0</td>\n",
       "      <td>0</td>\n",
       "      <td>359309</td>\n",
       "      <td>8.0500</td>\n",
       "      <td>NaN</td>\n",
       "      <td>S</td>\n",
       "    </tr>\n",
       "    <tr>\n",
       "      <th>417</th>\n",
       "      <td>1309</td>\n",
       "      <td>3</td>\n",
       "      <td>Peter, Master. Michael J</td>\n",
       "      <td>male</td>\n",
       "      <td>NaN</td>\n",
       "      <td>1</td>\n",
       "      <td>1</td>\n",
       "      <td>2668</td>\n",
       "      <td>22.3583</td>\n",
       "      <td>NaN</td>\n",
       "      <td>C</td>\n",
       "    </tr>\n",
       "  </tbody>\n",
       "</table>\n",
       "<p>418 rows × 11 columns</p>\n",
       "</div>"
      ],
      "text/plain": [
       "     PassengerId  Pclass                                          Name  \\\n",
       "0            892       3                              Kelly, Mr. James   \n",
       "1            893       3              Wilkes, Mrs. James (Ellen Needs)   \n",
       "2            894       2                     Myles, Mr. Thomas Francis   \n",
       "3            895       3                              Wirz, Mr. Albert   \n",
       "4            896       3  Hirvonen, Mrs. Alexander (Helga E Lindqvist)   \n",
       "..           ...     ...                                           ...   \n",
       "413         1305       3                            Spector, Mr. Woolf   \n",
       "414         1306       1                  Oliva y Ocana, Dona. Fermina   \n",
       "415         1307       3                  Saether, Mr. Simon Sivertsen   \n",
       "416         1308       3                           Ware, Mr. Frederick   \n",
       "417         1309       3                      Peter, Master. Michael J   \n",
       "\n",
       "        Sex   Age  SibSp  Parch              Ticket      Fare Cabin Embarked  \n",
       "0      male  34.5      0      0              330911    7.8292   NaN        Q  \n",
       "1    female  47.0      1      0              363272    7.0000   NaN        S  \n",
       "2      male  62.0      0      0              240276    9.6875   NaN        Q  \n",
       "3      male  27.0      0      0              315154    8.6625   NaN        S  \n",
       "4    female  22.0      1      1             3101298   12.2875   NaN        S  \n",
       "..      ...   ...    ...    ...                 ...       ...   ...      ...  \n",
       "413    male   NaN      0      0           A.5. 3236    8.0500   NaN        S  \n",
       "414  female  39.0      0      0            PC 17758  108.9000  C105        C  \n",
       "415    male  38.5      0      0  SOTON/O.Q. 3101262    7.2500   NaN        S  \n",
       "416    male   NaN      0      0              359309    8.0500   NaN        S  \n",
       "417    male   NaN      1      1                2668   22.3583   NaN        C  \n",
       "\n",
       "[418 rows x 11 columns]"
      ]
     },
     "execution_count": 7,
     "metadata": {},
     "output_type": "execute_result"
    }
   ],
   "source": [
    "test"
   ]
  },
  {
   "cell_type": "code",
   "execution_count": 8,
   "metadata": {},
   "outputs": [
    {
     "data": {
      "text/html": [
       "<div>\n",
       "<style scoped>\n",
       "    .dataframe tbody tr th:only-of-type {\n",
       "        vertical-align: middle;\n",
       "    }\n",
       "\n",
       "    .dataframe tbody tr th {\n",
       "        vertical-align: top;\n",
       "    }\n",
       "\n",
       "    .dataframe thead th {\n",
       "        text-align: right;\n",
       "    }\n",
       "</style>\n",
       "<table border=\"1\" class=\"dataframe\">\n",
       "  <thead>\n",
       "    <tr style=\"text-align: right;\">\n",
       "      <th></th>\n",
       "      <th>PassengerId</th>\n",
       "      <th>Survived</th>\n",
       "      <th>Pclass</th>\n",
       "      <th>Name</th>\n",
       "      <th>Sex</th>\n",
       "      <th>Age</th>\n",
       "      <th>SibSp</th>\n",
       "      <th>Parch</th>\n",
       "      <th>Ticket</th>\n",
       "      <th>Fare</th>\n",
       "      <th>Cabin</th>\n",
       "      <th>Embarked</th>\n",
       "    </tr>\n",
       "  </thead>\n",
       "  <tbody>\n",
       "    <tr>\n",
       "      <th>0</th>\n",
       "      <td>1</td>\n",
       "      <td>0.0</td>\n",
       "      <td>3</td>\n",
       "      <td>Braund, Mr. Owen Harris</td>\n",
       "      <td>male</td>\n",
       "      <td>22.0</td>\n",
       "      <td>1</td>\n",
       "      <td>0</td>\n",
       "      <td>A/5 21171</td>\n",
       "      <td>7.2500</td>\n",
       "      <td>NaN</td>\n",
       "      <td>S</td>\n",
       "    </tr>\n",
       "    <tr>\n",
       "      <th>1</th>\n",
       "      <td>2</td>\n",
       "      <td>1.0</td>\n",
       "      <td>1</td>\n",
       "      <td>Cumings, Mrs. John Bradley (Florence Briggs Th...</td>\n",
       "      <td>female</td>\n",
       "      <td>38.0</td>\n",
       "      <td>1</td>\n",
       "      <td>0</td>\n",
       "      <td>PC 17599</td>\n",
       "      <td>71.2833</td>\n",
       "      <td>C85</td>\n",
       "      <td>C</td>\n",
       "    </tr>\n",
       "    <tr>\n",
       "      <th>2</th>\n",
       "      <td>3</td>\n",
       "      <td>1.0</td>\n",
       "      <td>3</td>\n",
       "      <td>Heikkinen, Miss. Laina</td>\n",
       "      <td>female</td>\n",
       "      <td>26.0</td>\n",
       "      <td>0</td>\n",
       "      <td>0</td>\n",
       "      <td>STON/O2. 3101282</td>\n",
       "      <td>7.9250</td>\n",
       "      <td>NaN</td>\n",
       "      <td>S</td>\n",
       "    </tr>\n",
       "    <tr>\n",
       "      <th>3</th>\n",
       "      <td>4</td>\n",
       "      <td>1.0</td>\n",
       "      <td>1</td>\n",
       "      <td>Futrelle, Mrs. Jacques Heath (Lily May Peel)</td>\n",
       "      <td>female</td>\n",
       "      <td>35.0</td>\n",
       "      <td>1</td>\n",
       "      <td>0</td>\n",
       "      <td>113803</td>\n",
       "      <td>53.1000</td>\n",
       "      <td>C123</td>\n",
       "      <td>S</td>\n",
       "    </tr>\n",
       "    <tr>\n",
       "      <th>4</th>\n",
       "      <td>5</td>\n",
       "      <td>0.0</td>\n",
       "      <td>3</td>\n",
       "      <td>Allen, Mr. William Henry</td>\n",
       "      <td>male</td>\n",
       "      <td>35.0</td>\n",
       "      <td>0</td>\n",
       "      <td>0</td>\n",
       "      <td>373450</td>\n",
       "      <td>8.0500</td>\n",
       "      <td>NaN</td>\n",
       "      <td>S</td>\n",
       "    </tr>\n",
       "    <tr>\n",
       "      <th>...</th>\n",
       "      <td>...</td>\n",
       "      <td>...</td>\n",
       "      <td>...</td>\n",
       "      <td>...</td>\n",
       "      <td>...</td>\n",
       "      <td>...</td>\n",
       "      <td>...</td>\n",
       "      <td>...</td>\n",
       "      <td>...</td>\n",
       "      <td>...</td>\n",
       "      <td>...</td>\n",
       "      <td>...</td>\n",
       "    </tr>\n",
       "    <tr>\n",
       "      <th>413</th>\n",
       "      <td>1305</td>\n",
       "      <td>NaN</td>\n",
       "      <td>3</td>\n",
       "      <td>Spector, Mr. Woolf</td>\n",
       "      <td>male</td>\n",
       "      <td>NaN</td>\n",
       "      <td>0</td>\n",
       "      <td>0</td>\n",
       "      <td>A.5. 3236</td>\n",
       "      <td>8.0500</td>\n",
       "      <td>NaN</td>\n",
       "      <td>S</td>\n",
       "    </tr>\n",
       "    <tr>\n",
       "      <th>414</th>\n",
       "      <td>1306</td>\n",
       "      <td>NaN</td>\n",
       "      <td>1</td>\n",
       "      <td>Oliva y Ocana, Dona. Fermina</td>\n",
       "      <td>female</td>\n",
       "      <td>39.0</td>\n",
       "      <td>0</td>\n",
       "      <td>0</td>\n",
       "      <td>PC 17758</td>\n",
       "      <td>108.9000</td>\n",
       "      <td>C105</td>\n",
       "      <td>C</td>\n",
       "    </tr>\n",
       "    <tr>\n",
       "      <th>415</th>\n",
       "      <td>1307</td>\n",
       "      <td>NaN</td>\n",
       "      <td>3</td>\n",
       "      <td>Saether, Mr. Simon Sivertsen</td>\n",
       "      <td>male</td>\n",
       "      <td>38.5</td>\n",
       "      <td>0</td>\n",
       "      <td>0</td>\n",
       "      <td>SOTON/O.Q. 3101262</td>\n",
       "      <td>7.2500</td>\n",
       "      <td>NaN</td>\n",
       "      <td>S</td>\n",
       "    </tr>\n",
       "    <tr>\n",
       "      <th>416</th>\n",
       "      <td>1308</td>\n",
       "      <td>NaN</td>\n",
       "      <td>3</td>\n",
       "      <td>Ware, Mr. Frederick</td>\n",
       "      <td>male</td>\n",
       "      <td>NaN</td>\n",
       "      <td>0</td>\n",
       "      <td>0</td>\n",
       "      <td>359309</td>\n",
       "      <td>8.0500</td>\n",
       "      <td>NaN</td>\n",
       "      <td>S</td>\n",
       "    </tr>\n",
       "    <tr>\n",
       "      <th>417</th>\n",
       "      <td>1309</td>\n",
       "      <td>NaN</td>\n",
       "      <td>3</td>\n",
       "      <td>Peter, Master. Michael J</td>\n",
       "      <td>male</td>\n",
       "      <td>NaN</td>\n",
       "      <td>1</td>\n",
       "      <td>1</td>\n",
       "      <td>2668</td>\n",
       "      <td>22.3583</td>\n",
       "      <td>NaN</td>\n",
       "      <td>C</td>\n",
       "    </tr>\n",
       "  </tbody>\n",
       "</table>\n",
       "<p>1309 rows × 12 columns</p>\n",
       "</div>"
      ],
      "text/plain": [
       "     PassengerId  Survived  Pclass  \\\n",
       "0              1       0.0       3   \n",
       "1              2       1.0       1   \n",
       "2              3       1.0       3   \n",
       "3              4       1.0       1   \n",
       "4              5       0.0       3   \n",
       "..           ...       ...     ...   \n",
       "413         1305       NaN       3   \n",
       "414         1306       NaN       1   \n",
       "415         1307       NaN       3   \n",
       "416         1308       NaN       3   \n",
       "417         1309       NaN       3   \n",
       "\n",
       "                                                  Name     Sex   Age  SibSp  \\\n",
       "0                              Braund, Mr. Owen Harris    male  22.0      1   \n",
       "1    Cumings, Mrs. John Bradley (Florence Briggs Th...  female  38.0      1   \n",
       "2                               Heikkinen, Miss. Laina  female  26.0      0   \n",
       "3         Futrelle, Mrs. Jacques Heath (Lily May Peel)  female  35.0      1   \n",
       "4                             Allen, Mr. William Henry    male  35.0      0   \n",
       "..                                                 ...     ...   ...    ...   \n",
       "413                                 Spector, Mr. Woolf    male   NaN      0   \n",
       "414                       Oliva y Ocana, Dona. Fermina  female  39.0      0   \n",
       "415                       Saether, Mr. Simon Sivertsen    male  38.5      0   \n",
       "416                                Ware, Mr. Frederick    male   NaN      0   \n",
       "417                           Peter, Master. Michael J    male   NaN      1   \n",
       "\n",
       "     Parch              Ticket      Fare Cabin Embarked  \n",
       "0        0           A/5 21171    7.2500   NaN        S  \n",
       "1        0            PC 17599   71.2833   C85        C  \n",
       "2        0    STON/O2. 3101282    7.9250   NaN        S  \n",
       "3        0              113803   53.1000  C123        S  \n",
       "4        0              373450    8.0500   NaN        S  \n",
       "..     ...                 ...       ...   ...      ...  \n",
       "413      0           A.5. 3236    8.0500   NaN        S  \n",
       "414      0            PC 17758  108.9000  C105        C  \n",
       "415      0  SOTON/O.Q. 3101262    7.2500   NaN        S  \n",
       "416      0              359309    8.0500   NaN        S  \n",
       "417      1                2668   22.3583   NaN        C  \n",
       "\n",
       "[1309 rows x 12 columns]"
      ]
     },
     "execution_count": 8,
     "metadata": {},
     "output_type": "execute_result"
    }
   ],
   "source": [
    "data=train.append(test)\n",
    "data"
   ]
  },
  {
   "cell_type": "code",
   "execution_count": 9,
   "metadata": {},
   "outputs": [],
   "source": [
    "#取消重複index，重新排列index\n",
    "data.reset_index(inplace=True, drop=True)"
   ]
  },
  {
   "cell_type": "code",
   "execution_count": 10,
   "metadata": {},
   "outputs": [
    {
     "data": {
      "text/plain": [
       "<matplotlib.axes._subplots.AxesSubplot at 0x1a1eaef710>"
      ]
     },
     "execution_count": 10,
     "metadata": {},
     "output_type": "execute_result"
    },
    {
     "data": {
      "image/png": "[encoded data removed]",
      "text/plain": [
       "<Figure size 432x288 with 1 Axes>"
      ]
     },
     "metadata": {
      "needs_background": "light"
     },
     "output_type": "display_data"
    }
   ],
   "source": [
    "#x軸為survive or not\n",
    "sns.countplot(data['Survived'])"
   ]
  },
  {
   "cell_type": "code",
   "execution_count": 11,
   "metadata": {},
   "outputs": [
    {
     "data": {
      "text/plain": [
       "<matplotlib.axes._subplots.AxesSubplot at 0x1a1edf3c88>"
      ]
     },
     "execution_count": 11,
     "metadata": {},
     "output_type": "execute_result"
    },
    {
     "data": {
      "image/png": "[encoded data removed]",
      "text/plain": [
       "<Figure size 432x288 with 1 Axes>"
      ]
     },
     "metadata": {
      "needs_background": "light"
     },
     "output_type": "display_data"
    }
   ],
   "source": [
    "#hue可根據Pclass有不同顏色\n",
    "sns.countplot(data['Survived'],hue=data['Pclass'])"
   ]
  },
  {
   "cell_type": "markdown",
   "metadata": {},
   "source": [
    "# Feature Engineering"
   ]
  },
  {
   "cell_type": "code",
   "execution_count": 12,
   "metadata": {},
   "outputs": [],
   "source": [
    "#填補Fare的缺失值\n",
    "fare_mean=np.mean(data['Fare'])\n",
    "fare_std=np.std(data['Fare'])\n",
    "data['Fare']=data['Fare'].fillna(np.random.randint(fare_mean - fare_std,fare_mean + fare_std))"
   ]
  },
  {
   "cell_type": "code",
   "execution_count": 13,
   "metadata": {},
   "outputs": [
    {
     "data": {
      "text/plain": [
       "<seaborn.axisgrid.FacetGrid at 0x1a1f608da0>"
      ]
     },
     "execution_count": 13,
     "metadata": {},
     "output_type": "execute_result"
    },
    {
     "data": {
      "image/png": "[encoded data removed]",
      "text/plain": [
       "<Figure size 432x216 with 2 Axes>"
      ]
     },
     "metadata": {
      "needs_background": "light"
     },
     "output_type": "display_data"
    }
   ],
   "source": [
    "g=sns.FacetGrid(data,col='Survived')\n",
    "g.map(sns.distplot,'Fare',kde=False)"
   ]
  },
  {
   "cell_type": "code",
   "execution_count": 14,
   "metadata": {},
   "outputs": [
    {
     "data": {
      "image/png": "[encoded data removed]",
      "text/plain": [
       "<Figure size 432x288 with 1 Axes>"
      ]
     },
     "metadata": {
      "needs_background": "light"
     },
     "output_type": "display_data"
    }
   ],
   "source": [
    "plt.hist(data['Fare'],bins=[0,50,100,150,200])\n",
    "plt.title(\"Fare Histogram\")\n",
    "plt.show()"
   ]
  },
  {
   "cell_type": "code",
   "execution_count": 15,
   "metadata": {},
   "outputs": [
    {
     "data": {
      "text/plain": [
       "<matplotlib.axes._subplots.AxesSubplot at 0x1a1f915748>"
      ]
     },
     "execution_count": 15,
     "metadata": {},
     "output_type": "execute_result"
    },
    {
     "data": {
      "image/png": "[encoded data removed]",
      "text/plain": [
       "<Figure size 432x288 with 1 Axes>"
      ]
     },
     "metadata": {
      "needs_background": "light"
     },
     "output_type": "display_data"
    }
   ],
   "source": [
    "#資料右偏做log轉換，先+1保留所有值\n",
    "data['Fare']=(np.log(data['Fare']+1))\n",
    "sns.distplot(data['Fare'],kde=False)"
   ]
  },
  {
   "cell_type": "code",
   "execution_count": 16,
   "metadata": {},
   "outputs": [
    {
     "data": {
      "text/html": [
       "<div>\n",
       "<style scoped>\n",
       "    .dataframe tbody tr th:only-of-type {\n",
       "        vertical-align: middle;\n",
       "    }\n",
       "\n",
       "    .dataframe tbody tr th {\n",
       "        vertical-align: top;\n",
       "    }\n",
       "\n",
       "    .dataframe thead th {\n",
       "        text-align: right;\n",
       "    }\n",
       "</style>\n",
       "<table border=\"1\" class=\"dataframe\">\n",
       "  <thead>\n",
       "    <tr style=\"text-align: right;\">\n",
       "      <th></th>\n",
       "      <th>PassengerId</th>\n",
       "      <th>Survived</th>\n",
       "      <th>Pclass</th>\n",
       "      <th>Name</th>\n",
       "      <th>Sex</th>\n",
       "      <th>Age</th>\n",
       "      <th>SibSp</th>\n",
       "      <th>Parch</th>\n",
       "      <th>Ticket</th>\n",
       "      <th>Fare</th>\n",
       "      <th>Cabin</th>\n",
       "      <th>Embarked</th>\n",
       "    </tr>\n",
       "  </thead>\n",
       "  <tbody>\n",
       "    <tr>\n",
       "      <th>0</th>\n",
       "      <td>1</td>\n",
       "      <td>0</td>\n",
       "      <td>3</td>\n",
       "      <td>Braund, Mr. Owen Harris</td>\n",
       "      <td>male</td>\n",
       "      <td>22.0</td>\n",
       "      <td>1</td>\n",
       "      <td>0</td>\n",
       "      <td>A/5 21171</td>\n",
       "      <td>7.2500</td>\n",
       "      <td>NaN</td>\n",
       "      <td>S</td>\n",
       "    </tr>\n",
       "    <tr>\n",
       "      <th>1</th>\n",
       "      <td>2</td>\n",
       "      <td>1</td>\n",
       "      <td>1</td>\n",
       "      <td>Cumings, Mrs. John Bradley (Florence Briggs Th...</td>\n",
       "      <td>female</td>\n",
       "      <td>38.0</td>\n",
       "      <td>1</td>\n",
       "      <td>0</td>\n",
       "      <td>PC 17599</td>\n",
       "      <td>71.2833</td>\n",
       "      <td>C85</td>\n",
       "      <td>C</td>\n",
       "    </tr>\n",
       "    <tr>\n",
       "      <th>2</th>\n",
       "      <td>3</td>\n",
       "      <td>1</td>\n",
       "      <td>3</td>\n",
       "      <td>Heikkinen, Miss. Laina</td>\n",
       "      <td>female</td>\n",
       "      <td>26.0</td>\n",
       "      <td>0</td>\n",
       "      <td>0</td>\n",
       "      <td>STON/O2. 3101282</td>\n",
       "      <td>7.9250</td>\n",
       "      <td>NaN</td>\n",
       "      <td>S</td>\n",
       "    </tr>\n",
       "    <tr>\n",
       "      <th>3</th>\n",
       "      <td>4</td>\n",
       "      <td>1</td>\n",
       "      <td>1</td>\n",
       "      <td>Futrelle, Mrs. Jacques Heath (Lily May Peel)</td>\n",
       "      <td>female</td>\n",
       "      <td>35.0</td>\n",
       "      <td>1</td>\n",
       "      <td>0</td>\n",
       "      <td>113803</td>\n",
       "      <td>53.1000</td>\n",
       "      <td>C123</td>\n",
       "      <td>S</td>\n",
       "    </tr>\n",
       "    <tr>\n",
       "      <th>4</th>\n",
       "      <td>5</td>\n",
       "      <td>0</td>\n",
       "      <td>3</td>\n",
       "      <td>Allen, Mr. William Henry</td>\n",
       "      <td>male</td>\n",
       "      <td>35.0</td>\n",
       "      <td>0</td>\n",
       "      <td>0</td>\n",
       "      <td>373450</td>\n",
       "      <td>8.0500</td>\n",
       "      <td>NaN</td>\n",
       "      <td>S</td>\n",
       "    </tr>\n",
       "    <tr>\n",
       "      <th>...</th>\n",
       "      <td>...</td>\n",
       "      <td>...</td>\n",
       "      <td>...</td>\n",
       "      <td>...</td>\n",
       "      <td>...</td>\n",
       "      <td>...</td>\n",
       "      <td>...</td>\n",
       "      <td>...</td>\n",
       "      <td>...</td>\n",
       "      <td>...</td>\n",
       "      <td>...</td>\n",
       "      <td>...</td>\n",
       "    </tr>\n",
       "    <tr>\n",
       "      <th>886</th>\n",
       "      <td>887</td>\n",
       "      <td>0</td>\n",
       "      <td>2</td>\n",
       "      <td>Montvila, Rev. Juozas</td>\n",
       "      <td>male</td>\n",
       "      <td>27.0</td>\n",
       "      <td>0</td>\n",
       "      <td>0</td>\n",
       "      <td>211536</td>\n",
       "      <td>13.0000</td>\n",
       "      <td>NaN</td>\n",
       "      <td>S</td>\n",
       "    </tr>\n",
       "    <tr>\n",
       "      <th>887</th>\n",
       "      <td>888</td>\n",
       "      <td>1</td>\n",
       "      <td>1</td>\n",
       "      <td>Graham, Miss. Margaret Edith</td>\n",
       "      <td>female</td>\n",
       "      <td>19.0</td>\n",
       "      <td>0</td>\n",
       "      <td>0</td>\n",
       "      <td>112053</td>\n",
       "      <td>30.0000</td>\n",
       "      <td>B42</td>\n",
       "      <td>S</td>\n",
       "    </tr>\n",
       "    <tr>\n",
       "      <th>888</th>\n",
       "      <td>889</td>\n",
       "      <td>0</td>\n",
       "      <td>3</td>\n",
       "      <td>Johnston, Miss. Catherine Helen \"Carrie\"</td>\n",
       "      <td>female</td>\n",
       "      <td>NaN</td>\n",
       "      <td>1</td>\n",
       "      <td>2</td>\n",
       "      <td>W./C. 6607</td>\n",
       "      <td>23.4500</td>\n",
       "      <td>NaN</td>\n",
       "      <td>S</td>\n",
       "    </tr>\n",
       "    <tr>\n",
       "      <th>889</th>\n",
       "      <td>890</td>\n",
       "      <td>1</td>\n",
       "      <td>1</td>\n",
       "      <td>Behr, Mr. Karl Howell</td>\n",
       "      <td>male</td>\n",
       "      <td>26.0</td>\n",
       "      <td>0</td>\n",
       "      <td>0</td>\n",
       "      <td>111369</td>\n",
       "      <td>30.0000</td>\n",
       "      <td>C148</td>\n",
       "      <td>C</td>\n",
       "    </tr>\n",
       "    <tr>\n",
       "      <th>890</th>\n",
       "      <td>891</td>\n",
       "      <td>0</td>\n",
       "      <td>3</td>\n",
       "      <td>Dooley, Mr. Patrick</td>\n",
       "      <td>male</td>\n",
       "      <td>32.0</td>\n",
       "      <td>0</td>\n",
       "      <td>0</td>\n",
       "      <td>370376</td>\n",
       "      <td>7.7500</td>\n",
       "      <td>NaN</td>\n",
       "      <td>Q</td>\n",
       "    </tr>\n",
       "  </tbody>\n",
       "</table>\n",
       "<p>891 rows × 12 columns</p>\n",
       "</div>"
      ],
      "text/plain": [
       "     PassengerId  Survived  Pclass  \\\n",
       "0              1         0       3   \n",
       "1              2         1       1   \n",
       "2              3         1       3   \n",
       "3              4         1       1   \n",
       "4              5         0       3   \n",
       "..           ...       ...     ...   \n",
       "886          887         0       2   \n",
       "887          888         1       1   \n",
       "888          889         0       3   \n",
       "889          890         1       1   \n",
       "890          891         0       3   \n",
       "\n",
       "                                                  Name     Sex   Age  SibSp  \\\n",
       "0                              Braund, Mr. Owen Harris    male  22.0      1   \n",
       "1    Cumings, Mrs. John Bradley (Florence Briggs Th...  female  38.0      1   \n",
       "2                               Heikkinen, Miss. Laina  female  26.0      0   \n",
       "3         Futrelle, Mrs. Jacques Heath (Lily May Peel)  female  35.0      1   \n",
       "4                             Allen, Mr. William Henry    male  35.0      0   \n",
       "..                                                 ...     ...   ...    ...   \n",
       "886                              Montvila, Rev. Juozas    male  27.0      0   \n",
       "887                       Graham, Miss. Margaret Edith  female  19.0      0   \n",
       "888           Johnston, Miss. Catherine Helen \"Carrie\"  female   NaN      1   \n",
       "889                              Behr, Mr. Karl Howell    male  26.0      0   \n",
       "890                                Dooley, Mr. Patrick    male  32.0      0   \n",
       "\n",
       "     Parch            Ticket     Fare Cabin Embarked  \n",
       "0        0         A/5 21171   7.2500   NaN        S  \n",
       "1        0          PC 17599  71.2833   C85        C  \n",
       "2        0  STON/O2. 3101282   7.9250   NaN        S  \n",
       "3        0            113803  53.1000  C123        S  \n",
       "4        0            373450   8.0500   NaN        S  \n",
       "..     ...               ...      ...   ...      ...  \n",
       "886      0            211536  13.0000   NaN        S  \n",
       "887      0            112053  30.0000   B42        S  \n",
       "888      2        W./C. 6607  23.4500   NaN        S  \n",
       "889      0            111369  30.0000  C148        C  \n",
       "890      0            370376   7.7500   NaN        Q  \n",
       "\n",
       "[891 rows x 12 columns]"
      ]
     },
     "execution_count": 16,
     "metadata": {},
     "output_type": "execute_result"
    }
   ],
   "source": [
    "# 將 Age 遺漏值以 median 填補\n",
    "age_median = np.nanmedian(train[\"Age\"])\n",
    "new_Age = np.where(data[\"Age\"].isnull(), age_median, data[\"Age\"])\n",
    "data[\"Age\"] = new_Age\n",
    "train"
   ]
  },
  {
   "cell_type": "code",
   "execution_count": 17,
   "metadata": {},
   "outputs": [],
   "source": [
    "# 創造 dummy variables(只會產生一個變數)\n",
    "label_encoder = preprocessing.LabelEncoder()\n",
    "encoded_Sex = label_encoder.fit_transform(data[\"Sex\"])\n",
    "encoded_Sex\n",
    "#另一種做法\n",
    "data['Sex'] = data['Sex'].map({'male':0,'female':1})"
   ]
  },
  {
   "cell_type": "code",
   "execution_count": 18,
   "metadata": {},
   "outputs": [
    {
     "data": {
      "text/html": [
       "<div>\n",
       "<style scoped>\n",
       "    .dataframe tbody tr th:only-of-type {\n",
       "        vertical-align: middle;\n",
       "    }\n",
       "\n",
       "    .dataframe tbody tr th {\n",
       "        vertical-align: top;\n",
       "    }\n",
       "\n",
       "    .dataframe thead th {\n",
       "        text-align: right;\n",
       "    }\n",
       "</style>\n",
       "<table border=\"1\" class=\"dataframe\">\n",
       "  <thead>\n",
       "    <tr style=\"text-align: right;\">\n",
       "      <th></th>\n",
       "      <th>PassengerId</th>\n",
       "      <th>Survived</th>\n",
       "      <th>Pclass</th>\n",
       "      <th>Name</th>\n",
       "      <th>Sex</th>\n",
       "      <th>Age</th>\n",
       "      <th>SibSp</th>\n",
       "      <th>Parch</th>\n",
       "      <th>Ticket</th>\n",
       "      <th>Fare</th>\n",
       "      <th>Cabin</th>\n",
       "      <th>Embarked_C</th>\n",
       "      <th>Embarked_Q</th>\n",
       "      <th>Embarked_S</th>\n",
       "    </tr>\n",
       "  </thead>\n",
       "  <tbody>\n",
       "    <tr>\n",
       "      <th>0</th>\n",
       "      <td>1</td>\n",
       "      <td>0.0</td>\n",
       "      <td>3</td>\n",
       "      <td>Braund, Mr. Owen Harris</td>\n",
       "      <td>0</td>\n",
       "      <td>22.0</td>\n",
       "      <td>1</td>\n",
       "      <td>0</td>\n",
       "      <td>A/5 21171</td>\n",
       "      <td>2.110213</td>\n",
       "      <td>NaN</td>\n",
       "      <td>0</td>\n",
       "      <td>0</td>\n",
       "      <td>1</td>\n",
       "    </tr>\n",
       "    <tr>\n",
       "      <th>1</th>\n",
       "      <td>2</td>\n",
       "      <td>1.0</td>\n",
       "      <td>1</td>\n",
       "      <td>Cumings, Mrs. John Bradley (Florence Briggs Th...</td>\n",
       "      <td>1</td>\n",
       "      <td>38.0</td>\n",
       "      <td>1</td>\n",
       "      <td>0</td>\n",
       "      <td>PC 17599</td>\n",
       "      <td>4.280593</td>\n",
       "      <td>C85</td>\n",
       "      <td>1</td>\n",
       "      <td>0</td>\n",
       "      <td>0</td>\n",
       "    </tr>\n",
       "    <tr>\n",
       "      <th>2</th>\n",
       "      <td>3</td>\n",
       "      <td>1.0</td>\n",
       "      <td>3</td>\n",
       "      <td>Heikkinen, Miss. Laina</td>\n",
       "      <td>1</td>\n",
       "      <td>26.0</td>\n",
       "      <td>0</td>\n",
       "      <td>0</td>\n",
       "      <td>STON/O2. 3101282</td>\n",
       "      <td>2.188856</td>\n",
       "      <td>NaN</td>\n",
       "      <td>0</td>\n",
       "      <td>0</td>\n",
       "      <td>1</td>\n",
       "    </tr>\n",
       "    <tr>\n",
       "      <th>3</th>\n",
       "      <td>4</td>\n",
       "      <td>1.0</td>\n",
       "      <td>1</td>\n",
       "      <td>Futrelle, Mrs. Jacques Heath (Lily May Peel)</td>\n",
       "      <td>1</td>\n",
       "      <td>35.0</td>\n",
       "      <td>1</td>\n",
       "      <td>0</td>\n",
       "      <td>113803</td>\n",
       "      <td>3.990834</td>\n",
       "      <td>C123</td>\n",
       "      <td>0</td>\n",
       "      <td>0</td>\n",
       "      <td>1</td>\n",
       "    </tr>\n",
       "    <tr>\n",
       "      <th>4</th>\n",
       "      <td>5</td>\n",
       "      <td>0.0</td>\n",
       "      <td>3</td>\n",
       "      <td>Allen, Mr. William Henry</td>\n",
       "      <td>0</td>\n",
       "      <td>35.0</td>\n",
       "      <td>0</td>\n",
       "      <td>0</td>\n",
       "      <td>373450</td>\n",
       "      <td>2.202765</td>\n",
       "      <td>NaN</td>\n",
       "      <td>0</td>\n",
       "      <td>0</td>\n",
       "      <td>1</td>\n",
       "    </tr>\n",
       "    <tr>\n",
       "      <th>...</th>\n",
       "      <td>...</td>\n",
       "      <td>...</td>\n",
       "      <td>...</td>\n",
       "      <td>...</td>\n",
       "      <td>...</td>\n",
       "      <td>...</td>\n",
       "      <td>...</td>\n",
       "      <td>...</td>\n",
       "      <td>...</td>\n",
       "      <td>...</td>\n",
       "      <td>...</td>\n",
       "      <td>...</td>\n",
       "      <td>...</td>\n",
       "      <td>...</td>\n",
       "    </tr>\n",
       "    <tr>\n",
       "      <th>1304</th>\n",
       "      <td>1305</td>\n",
       "      <td>NaN</td>\n",
       "      <td>3</td>\n",
       "      <td>Spector, Mr. Woolf</td>\n",
       "      <td>0</td>\n",
       "      <td>28.0</td>\n",
       "      <td>0</td>\n",
       "      <td>0</td>\n",
       "      <td>A.5. 3236</td>\n",
       "      <td>2.202765</td>\n",
       "      <td>NaN</td>\n",
       "      <td>0</td>\n",
       "      <td>0</td>\n",
       "      <td>1</td>\n",
       "    </tr>\n",
       "    <tr>\n",
       "      <th>1305</th>\n",
       "      <td>1306</td>\n",
       "      <td>NaN</td>\n",
       "      <td>1</td>\n",
       "      <td>Oliva y Ocana, Dona. Fermina</td>\n",
       "      <td>1</td>\n",
       "      <td>39.0</td>\n",
       "      <td>0</td>\n",
       "      <td>0</td>\n",
       "      <td>PC 17758</td>\n",
       "      <td>4.699571</td>\n",
       "      <td>C105</td>\n",
       "      <td>1</td>\n",
       "      <td>0</td>\n",
       "      <td>0</td>\n",
       "    </tr>\n",
       "    <tr>\n",
       "      <th>1306</th>\n",
       "      <td>1307</td>\n",
       "      <td>NaN</td>\n",
       "      <td>3</td>\n",
       "      <td>Saether, Mr. Simon Sivertsen</td>\n",
       "      <td>0</td>\n",
       "      <td>38.5</td>\n",
       "      <td>0</td>\n",
       "      <td>0</td>\n",
       "      <td>SOTON/O.Q. 3101262</td>\n",
       "      <td>2.110213</td>\n",
       "      <td>NaN</td>\n",
       "      <td>0</td>\n",
       "      <td>0</td>\n",
       "      <td>1</td>\n",
       "    </tr>\n",
       "    <tr>\n",
       "      <th>1307</th>\n",
       "      <td>1308</td>\n",
       "      <td>NaN</td>\n",
       "      <td>3</td>\n",
       "      <td>Ware, Mr. Frederick</td>\n",
       "      <td>0</td>\n",
       "      <td>28.0</td>\n",
       "      <td>0</td>\n",
       "      <td>0</td>\n",
       "      <td>359309</td>\n",
       "      <td>2.202765</td>\n",
       "      <td>NaN</td>\n",
       "      <td>0</td>\n",
       "      <td>0</td>\n",
       "      <td>1</td>\n",
       "    </tr>\n",
       "    <tr>\n",
       "      <th>1308</th>\n",
       "      <td>1309</td>\n",
       "      <td>NaN</td>\n",
       "      <td>3</td>\n",
       "      <td>Peter, Master. Michael J</td>\n",
       "      <td>0</td>\n",
       "      <td>28.0</td>\n",
       "      <td>1</td>\n",
       "      <td>1</td>\n",
       "      <td>2668</td>\n",
       "      <td>3.150952</td>\n",
       "      <td>NaN</td>\n",
       "      <td>1</td>\n",
       "      <td>0</td>\n",
       "      <td>0</td>\n",
       "    </tr>\n",
       "  </tbody>\n",
       "</table>\n",
       "<p>1309 rows × 14 columns</p>\n",
       "</div>"
      ],
      "text/plain": [
       "      PassengerId  Survived  Pclass  \\\n",
       "0               1       0.0       3   \n",
       "1               2       1.0       1   \n",
       "2               3       1.0       3   \n",
       "3               4       1.0       1   \n",
       "4               5       0.0       3   \n",
       "...           ...       ...     ...   \n",
       "1304         1305       NaN       3   \n",
       "1305         1306       NaN       1   \n",
       "1306         1307       NaN       3   \n",
       "1307         1308       NaN       3   \n",
       "1308         1309       NaN       3   \n",
       "\n",
       "                                                   Name  Sex   Age  SibSp  \\\n",
       "0                               Braund, Mr. Owen Harris    0  22.0      1   \n",
       "1     Cumings, Mrs. John Bradley (Florence Briggs Th...    1  38.0      1   \n",
       "2                                Heikkinen, Miss. Laina    1  26.0      0   \n",
       "3          Futrelle, Mrs. Jacques Heath (Lily May Peel)    1  35.0      1   \n",
       "4                              Allen, Mr. William Henry    0  35.0      0   \n",
       "...                                                 ...  ...   ...    ...   \n",
       "1304                                 Spector, Mr. Woolf    0  28.0      0   \n",
       "1305                       Oliva y Ocana, Dona. Fermina    1  39.0      0   \n",
       "1306                       Saether, Mr. Simon Sivertsen    0  38.5      0   \n",
       "1307                                Ware, Mr. Frederick    0  28.0      0   \n",
       "1308                           Peter, Master. Michael J    0  28.0      1   \n",
       "\n",
       "      Parch              Ticket      Fare Cabin  Embarked_C  Embarked_Q  \\\n",
       "0         0           A/5 21171  2.110213   NaN           0           0   \n",
       "1         0            PC 17599  4.280593   C85           1           0   \n",
       "2         0    STON/O2. 3101282  2.188856   NaN           0           0   \n",
       "3         0              113803  3.990834  C123           0           0   \n",
       "4         0              373450  2.202765   NaN           0           0   \n",
       "...     ...                 ...       ...   ...         ...         ...   \n",
       "1304      0           A.5. 3236  2.202765   NaN           0           0   \n",
       "1305      0            PC 17758  4.699571  C105           1           0   \n",
       "1306      0  SOTON/O.Q. 3101262  2.110213   NaN           0           0   \n",
       "1307      0              359309  2.202765   NaN           0           0   \n",
       "1308      1                2668  3.150952   NaN           1           0   \n",
       "\n",
       "      Embarked_S  \n",
       "0              1  \n",
       "1              0  \n",
       "2              1  \n",
       "3              1  \n",
       "4              1  \n",
       "...          ...  \n",
       "1304           1  \n",
       "1305           0  \n",
       "1306           1  \n",
       "1307           1  \n",
       "1308           0  \n",
       "\n",
       "[1309 rows x 14 columns]"
      ]
     },
     "execution_count": 18,
     "metadata": {},
     "output_type": "execute_result"
    }
   ],
   "source": [
    "# 創造 one-hot(產生多個變數)\n",
    "data = pd.get_dummies(data=data,columns=['Embarked'])\n",
    "data"
   ]
  },
  {
   "cell_type": "code",
   "execution_count": 19,
   "metadata": {},
   "outputs": [
    {
     "data": {
      "text/plain": [
       "PassengerId    False\n",
       "Survived        True\n",
       "Pclass         False\n",
       "Name           False\n",
       "Sex            False\n",
       "Age            False\n",
       "SibSp          False\n",
       "Parch          False\n",
       "Ticket         False\n",
       "Fare           False\n",
       "Cabin           True\n",
       "Embarked_C     False\n",
       "Embarked_Q     False\n",
       "Embarked_S     False\n",
       "dtype: bool"
      ]
     },
     "execution_count": 19,
     "metadata": {},
     "output_type": "execute_result"
    }
   ],
   "source": [
    "data.isna().any()"
   ]
  },
  {
   "cell_type": "code",
   "execution_count": 20,
   "metadata": {},
   "outputs": [
    {
     "data": {
      "text/plain": [
       "<matplotlib.axes._subplots.AxesSubplot at 0x1a1f812400>"
      ]
     },
     "execution_count": 20,
     "metadata": {},
     "output_type": "execute_result"
    },
    {
     "data": {
      "image/png": "[encoded data removed]",
      "text/plain": [
       "<Figure size 432x288 with 1 Axes>"
      ]
     },
     "metadata": {
      "needs_background": "light"
     },
     "output_type": "display_data"
    }
   ],
   "source": [
    "data['family']=data['SibSp']+data['Parch']\n",
    "sns.distplot(data['family'],kde=False)"
   ]
  },
  {
   "cell_type": "code",
   "execution_count": 21,
   "metadata": {},
   "outputs": [],
   "source": [
    "data['Alone']= data['family'].apply(lambda x: 0 if x==0  else 1)"
   ]
  },
  {
   "cell_type": "markdown",
   "metadata": {},
   "source": [
    "# 檢驗共線性"
   ]
  },
  {
   "cell_type": "code",
   "execution_count": 22,
   "metadata": {},
   "outputs": [
    {
     "data": {
      "image/png": "[encoded data removed]",
      "text/plain": [
       "<Figure size 720x360 with 2 Axes>"
      ]
     },
     "metadata": {
      "needs_background": "light"
     },
     "output_type": "display_data"
    }
   ],
   "source": [
    "crr_f =data[['Pclass', 'Age', 'Embarked_C',\n",
    "       'Embarked_Q', 'Embarked_S','Sex','SibSp','Fare','Alone','Parch']]\n",
    "plt.figure(figsize=(10,5))\n",
    "cor = crr_f.corr()\n",
    "sns.heatmap(cor, annot=True, cmap=plt.cm.Reds)\n",
    "plt.show()"
   ]
  },
  {
   "cell_type": "markdown",
   "metadata": {},
   "source": [
    "都小於0.7，因此不移除"
   ]
  },
  {
   "cell_type": "code",
   "execution_count": 23,
   "metadata": {},
   "outputs": [],
   "source": [
    "train_data=data.iloc[0:891,:]\n",
    "test_data=data.iloc[891:1309,:]"
   ]
  },
  {
   "cell_type": "code",
   "execution_count": 24,
   "metadata": {},
   "outputs": [],
   "source": [
    "from sklearn.model_selection import train_test_split\n",
    "from sklearn import preprocessing\n",
    "\n",
    "X =train_data[['Pclass', 'Age', 'Embarked_C',\n",
    "       'Embarked_Q', 'Embarked_S','Sex','SibSp','Fare','Alone','Parch']]\n",
    "y =train_data['Survived']\n",
    "#Minmax標準化特徵值(結果變差所以不用)\n",
    "# minmax_scale=preprocessing.MinMaxScaler(feature_range=(0,1))\n",
    "# Minmax_X=minmax_scale.fit_transform(X)\n",
    "# #Minmax後，(type會變numpy、column names會改變)，(轉回dataframe、columns=X.columns將column names還原)\n",
    "# X=pd.DataFrame(Minmax_X,columns=X.columns) "
   ]
  },
  {
   "cell_type": "markdown",
   "metadata": {},
   "source": [
    "# PCA降維"
   ]
  },
  {
   "cell_type": "code",
   "execution_count": 25,
   "metadata": {},
   "outputs": [
    {
     "name": "stdout",
     "output_type": "stream",
     "text": [
      "(891, 9)\n",
      "[9.75752434e-01 1.06078187e-02 5.85140986e-03 2.75660114e-03\n",
      " 1.81140279e-03 1.13866797e-03 9.62973283e-04 5.90190745e-04\n",
      " 5.24294540e-04]\n"
     ]
    },
    {
     "data": {
      "text/plain": [
       "<matplotlib.axes._subplots.AxesSubplot at 0x1a1fd5bbe0>"
      ]
     },
     "execution_count": 25,
     "metadata": {},
     "output_type": "execute_result"
    },
    {
     "data": {
      "image/png": "[encoded data removed]",
      "text/plain": [
       "<Figure size 432x288 with 1 Axes>"
      ]
     },
     "metadata": {
      "needs_background": "light"
     },
     "output_type": "display_data"
    }
   ],
   "source": [
    "from sklearn import decomposition\n",
    "pca = decomposition.PCA(n_components='mle')\n",
    "X_pca=pca.fit_transform(X)\n",
    "print(X_pca.shape)\n",
    "print(pca.explained_variance_ratio_)\n",
    "#PCA結果視覺化\n",
    "pc=list(range(0,X_pca.shape[1]))\n",
    "explain_pca=pca.explained_variance_ratio_\n",
    "dic_pointplot_PCA={\"PC\":pc,\"Explained Variance Ratio\":explain_pca}\n",
    "sns.pointplot(x=\"PC\",y=\"Explained Variance Ratio\",data=dic_pointplot_PCA)"
   ]
  },
  {
   "cell_type": "markdown",
   "metadata": {},
   "source": [
    "# LDA降維"
   ]
  },
  {
   "cell_type": "code",
   "execution_count": 26,
   "metadata": {},
   "outputs": [],
   "source": [
    "# from sklearn.discriminant_analysis import LinearDiscriminantAnalysis\n",
    "# lda = LinearDiscriminantAnalysis(n_components=1)\n",
    "# lda.fit(X,y)\n",
    "# X_lda = lda.transform(X)\n",
    "# ld=list(range(0,X_lda.shape[0]))\n",
    "# X_lda.shape\n",
    "# dic_pointplot_lda={\"LD\":ld,\"Explained Variance Ratio\":X_lda}\n",
    "# sns.pointplot(x=\"LD\",y=\"Explained Variance Ratio\",data=dic_pointplot_lda)"
   ]
  },
  {
   "cell_type": "code",
   "execution_count": 27,
   "metadata": {},
   "outputs": [],
   "source": [
    "X_train, X_val, y_train, y_val = train_test_split(X_pca, y, test_size=0.3, random_state=33)"
   ]
  },
  {
   "cell_type": "code",
   "execution_count": 28,
   "metadata": {},
   "outputs": [],
   "source": [
    "from sklearn.linear_model import LogisticRegression\n",
    "lr_model= LogisticRegression(random_state=10,max_iter=100)\n",
    "lr_model.fit(X_train,y_train)\n",
    "lr_predictions = lr_model.predict(X_val)\n",
    "lr_probs = lr_model.predict_proba(X_val)[:, 1]"
   ]
  },
  {
   "cell_type": "code",
   "execution_count": 29,
   "metadata": {},
   "outputs": [],
   "source": [
    "from sklearn import tree\n",
    "tree_model = tree.DecisionTreeClassifier(max_depth = 3)\n",
    "tree_model.fit(X_train,y_train)\n",
    "# Predicting results for test dataset\n",
    "tree_predictions = tree_model.predict(X_val)\n",
    "tree_probs = tree_model.predict_proba(X_val)[:, 1]"
   ]
  },
  {
   "cell_type": "code",
   "execution_count": 30,
   "metadata": {},
   "outputs": [
    {
     "data": {
      "text/plain": [
       "<function matplotlib.pyplot.show(*args, **kw)>"
      ]
     },
     "execution_count": 30,
     "metadata": {},
     "output_type": "execute_result"
    },
    {
     "data": {
      "image/png": "[encoded data removed]",
      "text/plain": [
       "<Figure size 1152x576 with 1 Axes>"
      ]
     },
     "metadata": {
      "needs_background": "light"
     },
     "output_type": "display_data"
    }
   ],
   "source": [
    "#決策樹視覺化，左邊是True，右邊是False(較簡單畫法)\n",
    "y_train_df=pd.DataFrame(y_train) #將series轉成dataframe才可以放入class_names\n",
    "plt.figure(figsize = (16, 8))\n",
    "tree.plot_tree(tree_model,\n",
    "               feature_names = X.columns,\n",
    "               class_names = ['Died','Survived'],\n",
    "               filled = True)#著色\n",
    "plt.show"
   ]
  },
  {
   "cell_type": "code",
   "execution_count": 31,
   "metadata": {},
   "outputs": [],
   "source": [
    "from sklearn.ensemble import RandomForestClassifier\n",
    "# Create the model with 100 trees\n",
    "rf_model = RandomForestClassifier(n_estimators=3000,\n",
    "                                  max_depth=3,\n",
    "                                  random_state=10,\n",
    "                               bootstrap = True,\n",
    "                               max_features = 'sqrt')\n",
    "# Fit on training data\n",
    "rf_model.fit(X_train, y_train)\n",
    "# Actual class predictions\n",
    "rf_predictions = rf_model.predict(X_val)\n",
    "# Probabilities for each class\n",
    "rf_probs = rf_model.predict_proba(X_val)[:, 1]"
   ]
  },
  {
   "cell_type": "code",
   "execution_count": 32,
   "metadata": {},
   "outputs": [],
   "source": [
    "from xgboost import XGBClassifier\n",
    "from xgboost import plot_tree\n",
    "\n",
    "xgb_model = XGBClassifier(max_depth=3, n_estimators=3000, learning_rate=0.00015,nfold=5)\n",
    "xgb_model.fit(X_train, y_train)\n",
    "xgb_predictions = xgb_model.predict(X_val)\n",
    "xgb_probs = xgb_model.predict_proba(X_val)[:, 1]"
   ]
  },
  {
   "cell_type": "markdown",
   "metadata": {},
   "source": [
    "# ROC Curve"
   ]
  },
  {
   "cell_type": "code",
   "execution_count": 33,
   "metadata": {},
   "outputs": [
    {
     "data": {
      "image/png": "[encoded data removed]",
      "text/plain": [
       "<Figure size 720x360 with 1 Axes>"
      ]
     },
     "metadata": {
      "needs_background": "light"
     },
     "output_type": "display_data"
    }
   ],
   "source": [
    "from sklearn.metrics import roc_curve, auc\n",
    "#Pos_label事先定義好\n",
    "fpr, tpr, threshold =roc_curve(y_val, lr_probs)\n",
    "roc_auc = auc(fpr, tpr)\n",
    "fpr0, tpr0, threshold0 =roc_curve(y_val, tree_probs)\n",
    "roc_auc0 = auc(fpr0, tpr0)\n",
    "fpr1, tpr1, threshold1 =roc_curve(y_val, rf_probs)\n",
    "roc_auc1 = auc(fpr1, tpr1)\n",
    "fpr2, tpr2, threshold2 =roc_curve(y_val, xgb_probs)\n",
    "roc_auc2 = auc(fpr2, tpr2)\n",
    "\n",
    "plt.figure(figsize=(10,5))\n",
    "plt.plot(fpr, tpr, color='darkorange',\n",
    "             label='LR ROC curve (AUC = %0.2f)'%roc_auc)#四捨五入到小數點第二位\n",
    "plt.plot(fpr0, tpr0, 'm',\n",
    "             label='Tree ROC curve (AUC = %0.2f)'%roc_auc0)#四捨五入到小數點第二位\n",
    "plt.plot(fpr1, tpr1, 'y',\n",
    "             label='RF ROC curve (AUC = %0.2f)'%roc_auc1)#四捨五入到小數點第二位\n",
    "plt.plot(fpr2, tpr2, 'b',\n",
    "             label='XGB ROC curve (AUC = %0.2f)'%roc_auc2)#四捨五入到小數點第二位\n",
    "\n",
    "plt.plot([0, 1], [0, 1], color='navy',linestyle='--')\n",
    "plt.xlabel('False Positive Rate')\n",
    "plt.ylabel('True Positive Rate')\n",
    "plt.title('Receiver operating characteristic example')\n",
    "plt.legend(loc=\"lower right\")\n",
    "plt.show()   "
   ]
  },
  {
   "cell_type": "markdown",
   "metadata": {},
   "source": [
    "# K-flod cross-validation F1 score"
   ]
  },
  {
   "cell_type": "code",
   "execution_count": 34,
   "metadata": {},
   "outputs": [],
   "source": [
    "from sklearn.model_selection import cross_val_score\n",
    "lr_scores=cross_val_score(lr_model,X_pca,y,cv=5,scoring='f1')\n",
    "tree_scores=cross_val_score(tree_model,X_pca,y,cv=5,scoring='f1')\n",
    "rf_scores=cross_val_score(rf_model,X_pca,y,cv=5,scoring='f1')\n",
    "xgb_scores = cross_val_score(xgb_model,X_pca,y,cv=5,scoring='f1')  "
   ]
  },
  {
   "cell_type": "code",
   "execution_count": 35,
   "metadata": {},
   "outputs": [
    {
     "data": {
      "image/png": "[encoded data removed]",
      "text/plain": [
       "<Figure size 720x360 with 1 Axes>"
      ]
     },
     "metadata": {
      "needs_background": "light"
     },
     "output_type": "display_data"
    }
   ],
   "source": [
    "cv=np.arange(1,6)\n",
    "plt.figure(figsize=(10,5))\n",
    "plt.plot(cv, lr_scores, color='darkorange',label='LR Score')\n",
    "plt.plot(cv, tree_scores, 'm',label='Tree Score')\n",
    "plt.plot(cv, rf_scores, 'y',label='RF Score')\n",
    "plt.plot(cv, xgb_scores, 'b',label='XGB Score')\n",
    "plt.xlabel('Fold')\n",
    "plt.ylabel('F1')\n",
    "plt.title('Cross-Validation Scores')\n",
    "plt.legend(loc=\"lower right\")\n",
    "plt.show() "
   ]
  },
  {
   "cell_type": "code",
   "execution_count": 36,
   "metadata": {},
   "outputs": [],
   "source": [
    "X_test =test_data[['Pclass', 'Age', 'Embarked_C',\n",
    "       'Embarked_Q', 'Embarked_S','Sex','SibSp','Fare','Alone','Parch']]\n",
    "#PCA降維\n",
    "X_test=pca.transform(X_test)\n",
    "lr_predict = lr_model.predict(X_test)\n",
    "tree_predict = tree_model.predict(X_test)\n",
    "rf_predict = rf_model.predict(X_test)\n",
    "xgb_predict = xgb_model.predict(X_test)"
   ]
  },
  {
   "cell_type": "code",
   "execution_count": 37,
   "metadata": {},
   "outputs": [],
   "source": [
    "#相同時優先選擇順序： XGB > RandomForest > Logistic Regression > Decision Tree\n",
    "def best_model():\n",
    "    if(roc_auc2==max(roc_auc,roc_auc0,roc_auc1,roc_auc2)):\n",
    "        submit['Survived'] = xgb_predict\n",
    "        print('Best model is XGBoost')\n",
    "    elif(roc_auc1==max(roc_auc,roc_auc0,roc_auc1,roc_auc2)):\n",
    "        submit['Survived'] = rf_predict\n",
    "        print('Best model is RandomForest')\n",
    "    elif(roc_auc==max(roc_auc,roc_auc0,roc_auc1,roc_auc2)):\n",
    "        submit['Survived'] = lr_predict\n",
    "        print('Best model is Logistic Regression')\n",
    "    else:\n",
    "        submit['Survived'] = tree_predict\n",
    "        print('Best model is Decision Tree')"
   ]
  },
  {
   "cell_type": "code",
   "execution_count": 38,
   "metadata": {},
   "outputs": [
    {
     "name": "stdout",
     "output_type": "stream",
     "text": [
      "Best model is RandomForest\n"
     ]
    }
   ],
   "source": [
    "submit = pd.read_csv('/Users/jimmyfu87/JupyterNotebook/Dataset/titanic/gender_submission.csv')\n",
    "best_model()\n",
    "submit['Survived'] = submit['Survived'].astype(int)\n",
    "submit.to_csv('/Users/jimmyfu87/JupyterNotebook/Submit_result/submit_titanic.csv', index= False)"
   ]
  },
  {
   "cell_type": "markdown",
   "metadata": {},
   "source": [
    "## RandomForest Kaggle_score=0.76555"
   ]
  },
  {
   "cell_type": "markdown",
   "metadata": {},
   "source": [
    "# Deep Learning(Keras)"
   ]
  },
  {
   "cell_type": "code",
   "execution_count": 39,
   "metadata": {},
   "outputs": [
    {
     "name": "stderr",
     "output_type": "stream",
     "text": [
      "Using TensorFlow backend.\n"
     ]
    },
    {
     "name": "stdout",
     "output_type": "stream",
     "text": [
      "Model: \"sequential_1\"\n",
      "_________________________________________________________________\n",
      "Layer (type)                 Output Shape              Param #   \n",
      "=================================================================\n",
      "dense_1 (Dense)              (None, 10)                100       \n",
      "_________________________________________________________________\n",
      "dense_2 (Dense)              (None, 20)                220       \n",
      "_________________________________________________________________\n",
      "dropout_1 (Dropout)          (None, 20)                0         \n",
      "_________________________________________________________________\n",
      "dense_3 (Dense)              (None, 20)                420       \n",
      "_________________________________________________________________\n",
      "dense_4 (Dense)              (None, 1)                 21        \n",
      "=================================================================\n",
      "Total params: 761\n",
      "Trainable params: 761\n",
      "Non-trainable params: 0\n",
      "_________________________________________________________________\n"
     ]
    }
   ],
   "source": [
    "#建立模型\n",
    "from keras.models import Sequential\n",
    "from keras.layers import Dense,Dropout\n",
    "model=Sequential()\n",
    "model.add(Dense(units=10,input_dim=X_train.shape[1],kernel_initializer='uniform',activation='relu'))\n",
    "model.add(Dense(units=20,kernel_initializer='uniform',activation='relu'))\n",
    "model.add(Dropout(0.5))\n",
    "model.add(Dense(units=20,kernel_initializer='uniform',activation='relu'))\n",
    "model.add(Dense(units=1,kernel_initializer='uniform',activation='relu'))\n",
    "model.summary()"
   ]
  },
  {
   "cell_type": "code",
   "execution_count": 40,
   "metadata": {},
   "outputs": [],
   "source": [
    "from keras.optimizers import Adam\n",
    "from keras.metrics import binary_crossentropy\n",
    "model.compile(Adam(lr=.0001), loss='binary_crossentropy', metrics=['accuracy'])"
   ]
  },
  {
   "cell_type": "code",
   "execution_count": 41,
   "metadata": {},
   "outputs": [
    {
     "name": "stdout",
     "output_type": "stream",
     "text": [
      "Train on 436 samples, validate on 187 samples\n",
      "Epoch 1/100\n",
      "436/436 [==============================] - 1s 1ms/step - loss: 3.8355 - accuracy: 0.5986 - val_loss: 2.2442 - val_accuracy: 0.6631\n",
      "Epoch 2/100\n",
      "436/436 [==============================] - 0s 714us/step - loss: 2.5845 - accuracy: 0.5986 - val_loss: 2.0962 - val_accuracy: 0.6631\n",
      "Epoch 3/100\n",
      "436/436 [==============================] - 0s 562us/step - loss: 2.4308 - accuracy: 0.5986 - val_loss: 1.9880 - val_accuracy: 0.6631\n",
      "Epoch 4/100\n",
      "436/436 [==============================] - 0s 462us/step - loss: 2.3141 - accuracy: 0.5986 - val_loss: 1.8949 - val_accuracy: 0.6631\n",
      "Epoch 5/100\n",
      "436/436 [==============================] - 0s 557us/step - loss: 2.2122 - accuracy: 0.5986 - val_loss: 1.8179 - val_accuracy: 0.6631\n",
      "Epoch 6/100\n",
      "436/436 [==============================] - 0s 560us/step - loss: 2.1142 - accuracy: 0.5986 - val_loss: 1.7465 - val_accuracy: 0.6631\n",
      "Epoch 7/100\n",
      "436/436 [==============================] - 0s 535us/step - loss: 2.0375 - accuracy: 0.5986 - val_loss: 1.6796 - val_accuracy: 0.6631\n",
      "Epoch 8/100\n",
      "436/436 [==============================] - 0s 418us/step - loss: 1.9621 - accuracy: 0.5986 - val_loss: 1.6213 - val_accuracy: 0.6631\n",
      "Epoch 9/100\n",
      "436/436 [==============================] - 0s 350us/step - loss: 1.8812 - accuracy: 0.5986 - val_loss: 1.5614 - val_accuracy: 0.6631\n",
      "Epoch 10/100\n",
      "436/436 [==============================] - 0s 444us/step - loss: 1.8224 - accuracy: 0.5986 - val_loss: 1.5047 - val_accuracy: 0.6631\n",
      "Epoch 11/100\n",
      "436/436 [==============================] - 0s 605us/step - loss: 1.7516 - accuracy: 0.5986 - val_loss: 1.4526 - val_accuracy: 0.6631\n",
      "Epoch 12/100\n",
      "436/436 [==============================] - 0s 980us/step - loss: 1.6814 - accuracy: 0.5986 - val_loss: 1.3994 - val_accuracy: 0.6631\n",
      "Epoch 13/100\n",
      "436/436 [==============================] - 0s 495us/step - loss: 1.6115 - accuracy: 0.5986 - val_loss: 1.3506 - val_accuracy: 0.6631\n",
      "Epoch 14/100\n",
      "436/436 [==============================] - 0s 550us/step - loss: 1.5430 - accuracy: 0.5986 - val_loss: 1.3024 - val_accuracy: 0.6631\n",
      "Epoch 15/100\n",
      "436/436 [==============================] - 0s 535us/step - loss: 1.5092 - accuracy: 0.5986 - val_loss: 1.2566 - val_accuracy: 0.6631\n",
      "Epoch 16/100\n",
      "436/436 [==============================] - 0s 465us/step - loss: 1.4453 - accuracy: 0.5986 - val_loss: 1.2124 - val_accuracy: 0.6631\n",
      "Epoch 17/100\n",
      "436/436 [==============================] - 0s 406us/step - loss: 1.3803 - accuracy: 0.5986 - val_loss: 1.1695 - val_accuracy: 0.6631\n",
      "Epoch 18/100\n",
      "436/436 [==============================] - 0s 430us/step - loss: 1.3507 - accuracy: 0.5986 - val_loss: 1.1269 - val_accuracy: 0.6631\n",
      "Epoch 19/100\n",
      "436/436 [==============================] - 0s 416us/step - loss: 1.2764 - accuracy: 0.5986 - val_loss: 1.0774 - val_accuracy: 0.6631\n",
      "Epoch 20/100\n",
      "436/436 [==============================] - 0s 438us/step - loss: 1.2061 - accuracy: 0.5986 - val_loss: 1.0298 - val_accuracy: 0.6631\n",
      "Epoch 21/100\n",
      "436/436 [==============================] - 0s 424us/step - loss: 1.1603 - accuracy: 0.5986 - val_loss: 0.9840 - val_accuracy: 0.6631\n",
      "Epoch 22/100\n",
      "436/436 [==============================] - 0s 401us/step - loss: 1.1098 - accuracy: 0.5986 - val_loss: 0.9477 - val_accuracy: 0.6631\n",
      "Epoch 23/100\n",
      "436/436 [==============================] - 0s 429us/step - loss: 1.0778 - accuracy: 0.5940 - val_loss: 0.9110 - val_accuracy: 0.6631\n",
      "Epoch 24/100\n",
      "436/436 [==============================] - 0s 435us/step - loss: 1.0336 - accuracy: 0.5917 - val_loss: 0.8818 - val_accuracy: 0.6631\n",
      "Epoch 25/100\n",
      "436/436 [==============================] - 0s 440us/step - loss: 0.9803 - accuracy: 0.5963 - val_loss: 0.8556 - val_accuracy: 0.6524\n",
      "Epoch 26/100\n",
      "436/436 [==============================] - 0s 421us/step - loss: 0.9731 - accuracy: 0.5894 - val_loss: 0.8319 - val_accuracy: 0.6524\n",
      "Epoch 27/100\n",
      "436/436 [==============================] - 0s 423us/step - loss: 0.9186 - accuracy: 0.5917 - val_loss: 0.8109 - val_accuracy: 0.6471\n",
      "Epoch 28/100\n",
      "436/436 [==============================] - 0s 393us/step - loss: 0.8995 - accuracy: 0.5917 - val_loss: 0.8003 - val_accuracy: 0.6471\n",
      "Epoch 29/100\n",
      "436/436 [==============================] - 0s 460us/step - loss: 0.9078 - accuracy: 0.5803 - val_loss: 0.7930 - val_accuracy: 0.6524\n",
      "Epoch 30/100\n",
      "436/436 [==============================] - 0s 426us/step - loss: 0.8880 - accuracy: 0.5940 - val_loss: 0.7819 - val_accuracy: 0.6524\n",
      "Epoch 31/100\n",
      "436/436 [==============================] - 0s 429us/step - loss: 0.8875 - accuracy: 0.5963 - val_loss: 0.7708 - val_accuracy: 0.6471\n",
      "Epoch 32/100\n",
      "436/436 [==============================] - 0s 432us/step - loss: 0.8524 - accuracy: 0.5986 - val_loss: 0.7588 - val_accuracy: 0.6471\n",
      "Epoch 33/100\n",
      "436/436 [==============================] - 0s 440us/step - loss: 0.8206 - accuracy: 0.5894 - val_loss: 0.7476 - val_accuracy: 0.6524\n",
      "Epoch 34/100\n",
      "436/436 [==============================] - 0s 403us/step - loss: 0.8149 - accuracy: 0.5917 - val_loss: 0.7370 - val_accuracy: 0.6578\n",
      "Epoch 35/100\n",
      "436/436 [==============================] - 0s 416us/step - loss: 0.8157 - accuracy: 0.5849 - val_loss: 0.7273 - val_accuracy: 0.6524\n",
      "Epoch 36/100\n",
      "436/436 [==============================] - 0s 411us/step - loss: 0.7894 - accuracy: 0.5872 - val_loss: 0.7174 - val_accuracy: 0.6524\n",
      "Epoch 37/100\n",
      "436/436 [==============================] - 0s 444us/step - loss: 0.7981 - accuracy: 0.5986 - val_loss: 0.7087 - val_accuracy: 0.6524\n",
      "Epoch 38/100\n",
      "436/436 [==============================] - 0s 386us/step - loss: 0.8092 - accuracy: 0.5826 - val_loss: 0.7015 - val_accuracy: 0.6578\n",
      "Epoch 39/100\n",
      "436/436 [==============================] - 0s 468us/step - loss: 0.7852 - accuracy: 0.5849 - val_loss: 0.6931 - val_accuracy: 0.6524\n",
      "Epoch 40/100\n",
      "436/436 [==============================] - 0s 545us/step - loss: 0.7660 - accuracy: 0.5986 - val_loss: 0.6852 - val_accuracy: 0.6524\n",
      "Epoch 41/100\n",
      "436/436 [==============================] - 0s 491us/step - loss: 0.7423 - accuracy: 0.5963 - val_loss: 0.6777 - val_accuracy: 0.6524\n",
      "Epoch 42/100\n",
      "436/436 [==============================] - 0s 517us/step - loss: 0.7371 - accuracy: 0.6055 - val_loss: 0.6708 - val_accuracy: 0.6524\n",
      "Epoch 43/100\n",
      "436/436 [==============================] - 0s 432us/step - loss: 0.7660 - accuracy: 0.5940 - val_loss: 0.6645 - val_accuracy: 0.6524\n",
      "Epoch 44/100\n",
      "436/436 [==============================] - 0s 414us/step - loss: 0.7276 - accuracy: 0.5872 - val_loss: 0.6586 - val_accuracy: 0.6524\n",
      "Epoch 45/100\n",
      "436/436 [==============================] - 0s 378us/step - loss: 0.7595 - accuracy: 0.6009 - val_loss: 0.6524 - val_accuracy: 0.6524\n",
      "Epoch 46/100\n",
      "436/436 [==============================] - 0s 344us/step - loss: 0.6970 - accuracy: 0.6055 - val_loss: 0.6467 - val_accuracy: 0.6631\n",
      "Epoch 47/100\n",
      "436/436 [==============================] - 0s 360us/step - loss: 0.7087 - accuracy: 0.6307 - val_loss: 0.6412 - val_accuracy: 0.6791\n",
      "Epoch 48/100\n",
      "436/436 [==============================] - 0s 375us/step - loss: 0.7138 - accuracy: 0.6078 - val_loss: 0.6364 - val_accuracy: 0.6738\n",
      "Epoch 49/100\n",
      "436/436 [==============================] - 0s 354us/step - loss: 0.7037 - accuracy: 0.6055 - val_loss: 0.6316 - val_accuracy: 0.6738\n",
      "Epoch 50/100\n",
      "436/436 [==============================] - 0s 384us/step - loss: 0.6852 - accuracy: 0.6170 - val_loss: 0.6272 - val_accuracy: 0.6791\n",
      "Epoch 51/100\n",
      "436/436 [==============================] - 0s 289us/step - loss: 0.6669 - accuracy: 0.6422 - val_loss: 0.6227 - val_accuracy: 0.6738\n",
      "Epoch 52/100\n",
      "436/436 [==============================] - 0s 287us/step - loss: 0.6644 - accuracy: 0.6307 - val_loss: 0.6188 - val_accuracy: 0.6898\n",
      "Epoch 53/100\n",
      "436/436 [==============================] - 0s 310us/step - loss: 0.6522 - accuracy: 0.6376 - val_loss: 0.6153 - val_accuracy: 0.6791\n",
      "Epoch 54/100\n",
      "436/436 [==============================] - 0s 318us/step - loss: 0.6666 - accuracy: 0.6239 - val_loss: 0.6121 - val_accuracy: 0.6738\n",
      "Epoch 55/100\n",
      "436/436 [==============================] - 0s 302us/step - loss: 0.6576 - accuracy: 0.6193 - val_loss: 0.6089 - val_accuracy: 0.6738\n",
      "Epoch 56/100\n",
      "436/436 [==============================] - 0s 292us/step - loss: 0.6816 - accuracy: 0.6101 - val_loss: 0.6060 - val_accuracy: 0.6738\n"
     ]
    },
    {
     "name": "stdout",
     "output_type": "stream",
     "text": [
      "Epoch 57/100\n",
      "436/436 [==============================] - 0s 278us/step - loss: 0.6283 - accuracy: 0.6491 - val_loss: 0.6035 - val_accuracy: 0.6684\n",
      "Epoch 58/100\n",
      "436/436 [==============================] - 0s 278us/step - loss: 0.6606 - accuracy: 0.6353 - val_loss: 0.6010 - val_accuracy: 0.6791\n",
      "Epoch 59/100\n",
      "436/436 [==============================] - 0s 328us/step - loss: 0.6296 - accuracy: 0.6651 - val_loss: 0.5981 - val_accuracy: 0.6898\n",
      "Epoch 60/100\n",
      "436/436 [==============================] - 0s 334us/step - loss: 0.6397 - accuracy: 0.6514 - val_loss: 0.5947 - val_accuracy: 0.7005\n",
      "Epoch 61/100\n",
      "436/436 [==============================] - 0s 394us/step - loss: 0.6373 - accuracy: 0.6628 - val_loss: 0.5922 - val_accuracy: 0.6952\n",
      "Epoch 62/100\n",
      "436/436 [==============================] - 0s 394us/step - loss: 0.6437 - accuracy: 0.6353 - val_loss: 0.5894 - val_accuracy: 0.6952\n",
      "Epoch 63/100\n",
      "436/436 [==============================] - 0s 340us/step - loss: 0.6384 - accuracy: 0.6422 - val_loss: 0.5866 - val_accuracy: 0.6952\n",
      "Epoch 64/100\n",
      "436/436 [==============================] - 0s 298us/step - loss: 0.6204 - accuracy: 0.6537 - val_loss: 0.5841 - val_accuracy: 0.6952\n",
      "Epoch 65/100\n",
      "436/436 [==============================] - 0s 312us/step - loss: 0.6147 - accuracy: 0.6674 - val_loss: 0.5814 - val_accuracy: 0.6952\n",
      "Epoch 66/100\n",
      "436/436 [==============================] - 0s 318us/step - loss: 0.6319 - accuracy: 0.6812 - val_loss: 0.5790 - val_accuracy: 0.7005\n",
      "Epoch 67/100\n",
      "436/436 [==============================] - 0s 322us/step - loss: 0.6147 - accuracy: 0.6606 - val_loss: 0.5766 - val_accuracy: 0.6898\n",
      "Epoch 68/100\n",
      "436/436 [==============================] - 0s 380us/step - loss: 0.5933 - accuracy: 0.6789 - val_loss: 0.5748 - val_accuracy: 0.7005\n",
      "Epoch 69/100\n",
      "436/436 [==============================] - 0s 307us/step - loss: 0.6380 - accuracy: 0.6606 - val_loss: 0.5727 - val_accuracy: 0.7059\n",
      "Epoch 70/100\n",
      "436/436 [==============================] - 0s 303us/step - loss: 0.5919 - accuracy: 0.6651 - val_loss: 0.5707 - val_accuracy: 0.7059\n",
      "Epoch 71/100\n",
      "436/436 [==============================] - 0s 343us/step - loss: 0.6269 - accuracy: 0.6720 - val_loss: 0.5690 - val_accuracy: 0.7005\n",
      "Epoch 72/100\n",
      "436/436 [==============================] - 0s 416us/step - loss: 0.6168 - accuracy: 0.6789 - val_loss: 0.5671 - val_accuracy: 0.7005\n",
      "Epoch 73/100\n",
      "436/436 [==============================] - 0s 431us/step - loss: 0.5907 - accuracy: 0.6720 - val_loss: 0.5643 - val_accuracy: 0.7112\n",
      "Epoch 74/100\n",
      "436/436 [==============================] - 0s 324us/step - loss: 0.5883 - accuracy: 0.7018 - val_loss: 0.5627 - val_accuracy: 0.7112\n",
      "Epoch 75/100\n",
      "436/436 [==============================] - 0s 285us/step - loss: 0.5956 - accuracy: 0.7041 - val_loss: 0.5604 - val_accuracy: 0.7112\n",
      "Epoch 76/100\n",
      "436/436 [==============================] - 0s 365us/step - loss: 0.5852 - accuracy: 0.6766 - val_loss: 0.5580 - val_accuracy: 0.7219\n",
      "Epoch 77/100\n",
      "436/436 [==============================] - 0s 368us/step - loss: 0.5736 - accuracy: 0.6927 - val_loss: 0.5557 - val_accuracy: 0.7219\n",
      "Epoch 78/100\n",
      "436/436 [==============================] - 0s 376us/step - loss: 0.5899 - accuracy: 0.6904 - val_loss: 0.5537 - val_accuracy: 0.7219\n",
      "Epoch 79/100\n",
      "436/436 [==============================] - 0s 317us/step - loss: 0.5916 - accuracy: 0.6927 - val_loss: 0.5514 - val_accuracy: 0.7219\n",
      "Epoch 80/100\n",
      "436/436 [==============================] - 0s 343us/step - loss: 0.5610 - accuracy: 0.6881 - val_loss: 0.5493 - val_accuracy: 0.7219\n",
      "Epoch 81/100\n",
      "436/436 [==============================] - 0s 315us/step - loss: 0.6147 - accuracy: 0.6812 - val_loss: 0.5473 - val_accuracy: 0.7166\n",
      "Epoch 82/100\n",
      "436/436 [==============================] - 0s 264us/step - loss: 0.5700 - accuracy: 0.6995 - val_loss: 0.5445 - val_accuracy: 0.7166\n",
      "Epoch 83/100\n",
      "436/436 [==============================] - 0s 265us/step - loss: 0.5644 - accuracy: 0.7271 - val_loss: 0.5429 - val_accuracy: 0.7112\n",
      "Epoch 84/100\n",
      "436/436 [==============================] - 0s 289us/step - loss: 0.5578 - accuracy: 0.6972 - val_loss: 0.5401 - val_accuracy: 0.7166\n",
      "Epoch 85/100\n",
      "436/436 [==============================] - 0s 311us/step - loss: 0.5403 - accuracy: 0.7156 - val_loss: 0.5380 - val_accuracy: 0.7166\n",
      "Epoch 86/100\n",
      "436/436 [==============================] - 0s 287us/step - loss: 0.5925 - accuracy: 0.7110 - val_loss: 0.5347 - val_accuracy: 0.7219\n",
      "Epoch 87/100\n",
      "436/436 [==============================] - 0s 285us/step - loss: 0.5338 - accuracy: 0.7225 - val_loss: 0.5325 - val_accuracy: 0.7219\n",
      "Epoch 88/100\n",
      "436/436 [==============================] - 0s 305us/step - loss: 0.5676 - accuracy: 0.7271 - val_loss: 0.5306 - val_accuracy: 0.7219\n",
      "Epoch 89/100\n",
      "436/436 [==============================] - 0s 307us/step - loss: 0.6064 - accuracy: 0.7133 - val_loss: 0.5309 - val_accuracy: 0.7273\n",
      "Epoch 90/100\n",
      "436/436 [==============================] - 0s 269us/step - loss: 0.5375 - accuracy: 0.7248 - val_loss: 0.5300 - val_accuracy: 0.7273\n",
      "Epoch 91/100\n",
      "436/436 [==============================] - 0s 266us/step - loss: 0.5563 - accuracy: 0.6950 - val_loss: 0.5291 - val_accuracy: 0.7273\n",
      "Epoch 92/100\n",
      "436/436 [==============================] - 0s 258us/step - loss: 0.5489 - accuracy: 0.7133 - val_loss: 0.5278 - val_accuracy: 0.7219\n",
      "Epoch 93/100\n",
      "436/436 [==============================] - 0s 279us/step - loss: 0.5555 - accuracy: 0.7133 - val_loss: 0.5271 - val_accuracy: 0.7273\n",
      "Epoch 94/100\n",
      "436/436 [==============================] - 0s 306us/step - loss: 0.5478 - accuracy: 0.7156 - val_loss: 0.5260 - val_accuracy: 0.7273\n",
      "Epoch 95/100\n",
      "436/436 [==============================] - 0s 289us/step - loss: 0.5454 - accuracy: 0.7248 - val_loss: 0.5251 - val_accuracy: 0.7273\n",
      "Epoch 96/100\n",
      "436/436 [==============================] - 0s 287us/step - loss: 0.5401 - accuracy: 0.7248 - val_loss: 0.5237 - val_accuracy: 0.7273\n",
      "Epoch 97/100\n",
      "436/436 [==============================] - 0s 268us/step - loss: 0.5384 - accuracy: 0.7064 - val_loss: 0.5230 - val_accuracy: 0.7273\n",
      "Epoch 98/100\n",
      "436/436 [==============================] - 0s 263us/step - loss: 0.5216 - accuracy: 0.7179 - val_loss: 0.5221 - val_accuracy: 0.7273\n",
      "Epoch 99/100\n",
      "436/436 [==============================] - 0s 264us/step - loss: 0.5351 - accuracy: 0.7110 - val_loss: 0.5210 - val_accuracy: 0.7273\n",
      "Epoch 100/100\n",
      "436/436 [==============================] - 0s 274us/step - loss: 0.5771 - accuracy: 0.7087 - val_loss: 0.5192 - val_accuracy: 0.7326\n"
     ]
    }
   ],
   "source": [
    "train_history=model.fit(x=X_train,y=y_train,validation_split=0.3,epochs=100,batch_size=10,verbose=1)"
   ]
  },
  {
   "cell_type": "code",
   "execution_count": 42,
   "metadata": {},
   "outputs": [],
   "source": [
    "import matplotlib.pyplot as plt\n",
    "def show_train_history(train_history,train,validation):\n",
    "    plt.plot(train_history.history[train])\n",
    "    plt.plot(train_history.history[validation])\n",
    "    plt.title('Train History')\n",
    "    plt.ylabel(train)\n",
    "    plt.xlabel('Epoch')\n",
    "    plt.legend(['train','validation'],loc='upper left')\n",
    "    plt.show()"
   ]
  },
  {
   "cell_type": "code",
   "execution_count": 43,
   "metadata": {},
   "outputs": [
    {
     "data": {
      "image/png": "[encoded data removed]",
      "text/plain": [
       "<Figure size 432x288 with 1 Axes>"
      ]
     },
     "metadata": {
      "needs_background": "light"
     },
     "output_type": "display_data"
    }
   ],
   "source": [
    "show_train_history(train_history,'accuracy','val_accuracy')"
   ]
  },
  {
   "cell_type": "code",
   "execution_count": 44,
   "metadata": {},
   "outputs": [
    {
     "data": {
      "image/png": "[encoded data removed]",
      "text/plain": [
       "<Figure size 432x288 with 1 Axes>"
      ]
     },
     "metadata": {
      "needs_background": "light"
     },
     "output_type": "display_data"
    }
   ],
   "source": [
    "show_train_history(train_history,'loss','val_loss')"
   ]
  },
  {
   "cell_type": "markdown",
   "metadata": {},
   "source": [
    "# ROC v.s Sklearn model"
   ]
  },
  {
   "cell_type": "code",
   "execution_count": 45,
   "metadata": {},
   "outputs": [
    {
     "name": "stdout",
     "output_type": "stream",
     "text": [
      "268/268 [==============================] - 0s 246us/step\n"
     ]
    }
   ],
   "source": [
    "deep_val=model.predict(X_val, batch_size=5, verbose=1)\n",
    "fpr_keras, tpr_keras, thresholds_keras = roc_curve(y_val, deep_val)\n",
    "roc_auc_keras = auc(fpr_keras, tpr_keras)"
   ]
  },
  {
   "cell_type": "code",
   "execution_count": 46,
   "metadata": {},
   "outputs": [
    {
     "data": {
      "image/png": "[encoded data removed]",
      "text/plain": [
       "<Figure size 720x360 with 1 Axes>"
      ]
     },
     "metadata": {
      "needs_background": "light"
     },
     "output_type": "display_data"
    }
   ],
   "source": [
    "from sklearn.metrics import roc_curve, auc\n",
    "#Pos_label事先定義好\n",
    "fpr, tpr, threshold =roc_curve(y_val, lr_probs)\n",
    "roc_auc = auc(fpr, tpr)\n",
    "fpr0, tpr0, threshold0 =roc_curve(y_val, tree_probs)\n",
    "roc_auc0 = auc(fpr0, tpr0)\n",
    "fpr1, tpr1, threshold1 =roc_curve(y_val, rf_probs)\n",
    "roc_auc1 = auc(fpr1, tpr1)\n",
    "fpr2, tpr2, threshold2 =roc_curve(y_val, xgb_probs)\n",
    "roc_auc2 = auc(fpr2, tpr2)\n",
    "\n",
    "plt.figure(figsize=(10,5))\n",
    "plt.plot(fpr, tpr, color='darkorange',\n",
    "             label='LR ROC curve (AUC = %0.2f)'%roc_auc)#四捨五入到小數點第二位\n",
    "plt.plot(fpr0, tpr0, 'm',\n",
    "             label='Tree ROC curve (AUC = %0.2f)'%roc_auc0)#四捨五入到小數點第二位\n",
    "plt.plot(fpr1, tpr1, 'y',\n",
    "             label='RF ROC curve (AUC = %0.2f)'%roc_auc1)#四捨五入到小數點第二位\n",
    "plt.plot(fpr2, tpr2, 'b',\n",
    "             label='XGB ROC curve (AUC = %0.2f)'%roc_auc2)#四捨五入到小數點第二位\n",
    "plt.plot(fpr_keras, tpr_keras,'g',\n",
    "             label='Keras ROC curve (AUC = %0.2f)'%roc_auc_keras)#四捨五入到小數點第二位\n",
    "\n",
    "\n",
    "plt.plot([0, 1], [0, 1], color='navy',linestyle='--')\n",
    "plt.xlabel('False Positive Rate')\n",
    "plt.ylabel('True Positive Rate')\n",
    "plt.title('Receiver operating characteristic example')\n",
    "plt.legend(loc=\"lower right\")\n",
    "plt.show()   "
   ]
  },
  {
   "cell_type": "markdown",
   "metadata": {},
   "source": [
    "# Prediction"
   ]
  },
  {
   "cell_type": "code",
   "execution_count": 47,
   "metadata": {},
   "outputs": [
    {
     "name": "stdout",
     "output_type": "stream",
     "text": [
      "418/418 [==============================] - 0s 110us/step\n"
     ]
    }
   ],
   "source": [
    "deep_predict=model.predict(X_test, batch_size=5, verbose=1)"
   ]
  },
  {
   "cell_type": "code",
   "execution_count": 48,
   "metadata": {},
   "outputs": [],
   "source": [
    "for i in range(deep_predict.shape[0]):\n",
    "    if deep_predict[i] >=0.5:\n",
    "        deep_predict[i]=1\n",
    "    else:\n",
    "        deep_predict[i]=0"
   ]
  },
  {
   "cell_type": "code",
   "execution_count": 49,
   "metadata": {},
   "outputs": [],
   "source": [
    "submit_deep = pd.read_csv('/Users/jimmyfu87/JupyterNotebook/Dataset/titanic/gender_submission.csv')\n",
    "submit_deep['Survived'] = deep_predict\n",
    "submit_deep['Survived'] = submit_deep['Survived'].astype(int)\n",
    "submit.to_csv('/Users/jimmyfu87/JupyterNotebook/Submit_result/submit_titanic_deep.csv', index= False)"
   ]
  },
  {
   "cell_type": "markdown",
   "metadata": {},
   "source": [
    "## DeepLearning Kaggle_score=0.76076"
   ]
  }
 ],
 "metadata": {
  "kernelspec": {
   "display_name": "Python 3",
   "language": "python",
   "name": "python3"
  },
  "language_info": {
   "codemirror_mode": {
    "name": "ipython",
    "version": 3
   },
   "file_extension": ".py",
   "mimetype": "text/x-python",
   "name": "python",
   "nbconvert_exporter": "python",
   "pygments_lexer": "ipython3",
   "version": "3.7.3"
  }
 },
 "nbformat": 4,
 "nbformat_minor": 2
}
