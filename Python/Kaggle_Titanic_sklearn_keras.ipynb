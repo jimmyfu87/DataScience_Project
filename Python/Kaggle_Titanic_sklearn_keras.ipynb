{
 "cells": [
  {
   "cell_type": "markdown",
   "metadata": {},
   "source": [
    "# Kaggle_Titanic_sklearn_keras"
   ]
  },
  {
   "cell_type": "code",
   "execution_count": 1,
   "metadata": {},
   "outputs": [],
   "source": [
    "from sklearn import preprocessing\n",
    "from sklearn.model_selection import GridSearchCV\n",
    "from sklearn.ensemble import RandomForestClassifier\n",
    "from sklearn.ensemble import RandomForestRegressor\n",
    "from sklearn import preprocessing, linear_model\n",
    "import numpy as np\n",
    "import pandas as pd\n",
    "import matplotlib.pyplot as plt\n",
    "import seaborn as sns\n",
    "\n",
    "%matplotlib inline"
   ]
  },
  {
   "cell_type": "code",
   "execution_count": 2,
   "metadata": {},
   "outputs": [],
   "source": [
    "train=pd.read_csv('/Users/jimmyfu87/JupyterNotebook/Dataset/titanic/titanic_train.csv')\n",
    "test=pd.read_csv('/Users/jimmyfu87/JupyterNotebook/Dataset/titanic/titanic_test.csv')"
   ]
  },
  {
   "cell_type": "code",
   "execution_count": 3,
   "metadata": {},
   "outputs": [
    {
     "data": {
      "text/html": [
       "<div>\n",
       "<style scoped>\n",
       "    .dataframe tbody tr th:only-of-type {\n",
       "        vertical-align: middle;\n",
       "    }\n",
       "\n",
       "    .dataframe tbody tr th {\n",
       "        vertical-align: top;\n",
       "    }\n",
       "\n",
       "    .dataframe thead th {\n",
       "        text-align: right;\n",
       "    }\n",
       "</style>\n",
       "<table border=\"1\" class=\"dataframe\">\n",
       "  <thead>\n",
       "    <tr style=\"text-align: right;\">\n",
       "      <th></th>\n",
       "      <th>PassengerId</th>\n",
       "      <th>Survived</th>\n",
       "      <th>Pclass</th>\n",
       "      <th>Name</th>\n",
       "      <th>Sex</th>\n",
       "      <th>Age</th>\n",
       "      <th>SibSp</th>\n",
       "      <th>Parch</th>\n",
       "      <th>Ticket</th>\n",
       "      <th>Fare</th>\n",
       "      <th>Cabin</th>\n",
       "      <th>Embarked</th>\n",
       "    </tr>\n",
       "  </thead>\n",
       "  <tbody>\n",
       "    <tr>\n",
       "      <th>0</th>\n",
       "      <td>1</td>\n",
       "      <td>0</td>\n",
       "      <td>3</td>\n",
       "      <td>Braund, Mr. Owen Harris</td>\n",
       "      <td>male</td>\n",
       "      <td>22.0</td>\n",
       "      <td>1</td>\n",
       "      <td>0</td>\n",
       "      <td>A/5 21171</td>\n",
       "      <td>7.2500</td>\n",
       "      <td>NaN</td>\n",
       "      <td>S</td>\n",
       "    </tr>\n",
       "    <tr>\n",
       "      <th>1</th>\n",
       "      <td>2</td>\n",
       "      <td>1</td>\n",
       "      <td>1</td>\n",
       "      <td>Cumings, Mrs. John Bradley (Florence Briggs Th...</td>\n",
       "      <td>female</td>\n",
       "      <td>38.0</td>\n",
       "      <td>1</td>\n",
       "      <td>0</td>\n",
       "      <td>PC 17599</td>\n",
       "      <td>71.2833</td>\n",
       "      <td>C85</td>\n",
       "      <td>C</td>\n",
       "    </tr>\n",
       "    <tr>\n",
       "      <th>2</th>\n",
       "      <td>3</td>\n",
       "      <td>1</td>\n",
       "      <td>3</td>\n",
       "      <td>Heikkinen, Miss. Laina</td>\n",
       "      <td>female</td>\n",
       "      <td>26.0</td>\n",
       "      <td>0</td>\n",
       "      <td>0</td>\n",
       "      <td>STON/O2. 3101282</td>\n",
       "      <td>7.9250</td>\n",
       "      <td>NaN</td>\n",
       "      <td>S</td>\n",
       "    </tr>\n",
       "    <tr>\n",
       "      <th>3</th>\n",
       "      <td>4</td>\n",
       "      <td>1</td>\n",
       "      <td>1</td>\n",
       "      <td>Futrelle, Mrs. Jacques Heath (Lily May Peel)</td>\n",
       "      <td>female</td>\n",
       "      <td>35.0</td>\n",
       "      <td>1</td>\n",
       "      <td>0</td>\n",
       "      <td>113803</td>\n",
       "      <td>53.1000</td>\n",
       "      <td>C123</td>\n",
       "      <td>S</td>\n",
       "    </tr>\n",
       "    <tr>\n",
       "      <th>4</th>\n",
       "      <td>5</td>\n",
       "      <td>0</td>\n",
       "      <td>3</td>\n",
       "      <td>Allen, Mr. William Henry</td>\n",
       "      <td>male</td>\n",
       "      <td>35.0</td>\n",
       "      <td>0</td>\n",
       "      <td>0</td>\n",
       "      <td>373450</td>\n",
       "      <td>8.0500</td>\n",
       "      <td>NaN</td>\n",
       "      <td>S</td>\n",
       "    </tr>\n",
       "  </tbody>\n",
       "</table>\n",
       "</div>"
      ],
      "text/plain": [
       "   PassengerId  Survived  Pclass  \\\n",
       "0            1         0       3   \n",
       "1            2         1       1   \n",
       "2            3         1       3   \n",
       "3            4         1       1   \n",
       "4            5         0       3   \n",
       "\n",
       "                                                Name     Sex   Age  SibSp  \\\n",
       "0                            Braund, Mr. Owen Harris    male  22.0      1   \n",
       "1  Cumings, Mrs. John Bradley (Florence Briggs Th...  female  38.0      1   \n",
       "2                             Heikkinen, Miss. Laina  female  26.0      0   \n",
       "3       Futrelle, Mrs. Jacques Heath (Lily May Peel)  female  35.0      1   \n",
       "4                           Allen, Mr. William Henry    male  35.0      0   \n",
       "\n",
       "   Parch            Ticket     Fare Cabin Embarked  \n",
       "0      0         A/5 21171   7.2500   NaN        S  \n",
       "1      0          PC 17599  71.2833   C85        C  \n",
       "2      0  STON/O2. 3101282   7.9250   NaN        S  \n",
       "3      0            113803  53.1000  C123        S  \n",
       "4      0            373450   8.0500   NaN        S  "
      ]
     },
     "execution_count": 3,
     "metadata": {},
     "output_type": "execute_result"
    }
   ],
   "source": [
    "train.head()"
   ]
  },
  {
   "cell_type": "code",
   "execution_count": 4,
   "metadata": {},
   "outputs": [
    {
     "name": "stdout",
     "output_type": "stream",
     "text": [
      "<class 'pandas.core.frame.DataFrame'>\n",
      "RangeIndex: 891 entries, 0 to 890\n",
      "Data columns (total 12 columns):\n",
      " #   Column       Non-Null Count  Dtype  \n",
      "---  ------       --------------  -----  \n",
      " 0   PassengerId  891 non-null    int64  \n",
      " 1   Survived     891 non-null    int64  \n",
      " 2   Pclass       891 non-null    int64  \n",
      " 3   Name         891 non-null    object \n",
      " 4   Sex          891 non-null    object \n",
      " 5   Age          714 non-null    float64\n",
      " 6   SibSp        891 non-null    int64  \n",
      " 7   Parch        891 non-null    int64  \n",
      " 8   Ticket       891 non-null    object \n",
      " 9   Fare         891 non-null    float64\n",
      " 10  Cabin        204 non-null    object \n",
      " 11  Embarked     889 non-null    object \n",
      "dtypes: float64(2), int64(5), object(5)\n",
      "memory usage: 83.7+ KB\n"
     ]
    }
   ],
   "source": [
    "train.info()"
   ]
  },
  {
   "cell_type": "code",
   "execution_count": 5,
   "metadata": {},
   "outputs": [
    {
     "data": {
      "text/plain": [
       "(418, 11)"
      ]
     },
     "execution_count": 5,
     "metadata": {},
     "output_type": "execute_result"
    }
   ],
   "source": [
    "test.shape"
   ]
  },
  {
   "cell_type": "code",
   "execution_count": 6,
   "metadata": {},
   "outputs": [
    {
     "data": {
      "text/plain": [
       "(891, 12)"
      ]
     },
     "execution_count": 6,
     "metadata": {},
     "output_type": "execute_result"
    }
   ],
   "source": [
    "train.shape"
   ]
  },
  {
   "cell_type": "code",
   "execution_count": 7,
   "metadata": {},
   "outputs": [
    {
     "data": {
      "text/html": [
       "<div>\n",
       "<style scoped>\n",
       "    .dataframe tbody tr th:only-of-type {\n",
       "        vertical-align: middle;\n",
       "    }\n",
       "\n",
       "    .dataframe tbody tr th {\n",
       "        vertical-align: top;\n",
       "    }\n",
       "\n",
       "    .dataframe thead th {\n",
       "        text-align: right;\n",
       "    }\n",
       "</style>\n",
       "<table border=\"1\" class=\"dataframe\">\n",
       "  <thead>\n",
       "    <tr style=\"text-align: right;\">\n",
       "      <th></th>\n",
       "      <th>PassengerId</th>\n",
       "      <th>Pclass</th>\n",
       "      <th>Name</th>\n",
       "      <th>Sex</th>\n",
       "      <th>Age</th>\n",
       "      <th>SibSp</th>\n",
       "      <th>Parch</th>\n",
       "      <th>Ticket</th>\n",
       "      <th>Fare</th>\n",
       "      <th>Cabin</th>\n",
       "      <th>Embarked</th>\n",
       "    </tr>\n",
       "  </thead>\n",
       "  <tbody>\n",
       "    <tr>\n",
       "      <th>0</th>\n",
       "      <td>892</td>\n",
       "      <td>3</td>\n",
       "      <td>Kelly, Mr. James</td>\n",
       "      <td>male</td>\n",
       "      <td>34.5</td>\n",
       "      <td>0</td>\n",
       "      <td>0</td>\n",
       "      <td>330911</td>\n",
       "      <td>7.8292</td>\n",
       "      <td>NaN</td>\n",
       "      <td>Q</td>\n",
       "    </tr>\n",
       "    <tr>\n",
       "      <th>1</th>\n",
       "      <td>893</td>\n",
       "      <td>3</td>\n",
       "      <td>Wilkes, Mrs. James (Ellen Needs)</td>\n",
       "      <td>female</td>\n",
       "      <td>47.0</td>\n",
       "      <td>1</td>\n",
       "      <td>0</td>\n",
       "      <td>363272</td>\n",
       "      <td>7.0000</td>\n",
       "      <td>NaN</td>\n",
       "      <td>S</td>\n",
       "    </tr>\n",
       "    <tr>\n",
       "      <th>2</th>\n",
       "      <td>894</td>\n",
       "      <td>2</td>\n",
       "      <td>Myles, Mr. Thomas Francis</td>\n",
       "      <td>male</td>\n",
       "      <td>62.0</td>\n",
       "      <td>0</td>\n",
       "      <td>0</td>\n",
       "      <td>240276</td>\n",
       "      <td>9.6875</td>\n",
       "      <td>NaN</td>\n",
       "      <td>Q</td>\n",
       "    </tr>\n",
       "    <tr>\n",
       "      <th>3</th>\n",
       "      <td>895</td>\n",
       "      <td>3</td>\n",
       "      <td>Wirz, Mr. Albert</td>\n",
       "      <td>male</td>\n",
       "      <td>27.0</td>\n",
       "      <td>0</td>\n",
       "      <td>0</td>\n",
       "      <td>315154</td>\n",
       "      <td>8.6625</td>\n",
       "      <td>NaN</td>\n",
       "      <td>S</td>\n",
       "    </tr>\n",
       "    <tr>\n",
       "      <th>4</th>\n",
       "      <td>896</td>\n",
       "      <td>3</td>\n",
       "      <td>Hirvonen, Mrs. Alexander (Helga E Lindqvist)</td>\n",
       "      <td>female</td>\n",
       "      <td>22.0</td>\n",
       "      <td>1</td>\n",
       "      <td>1</td>\n",
       "      <td>3101298</td>\n",
       "      <td>12.2875</td>\n",
       "      <td>NaN</td>\n",
       "      <td>S</td>\n",
       "    </tr>\n",
       "    <tr>\n",
       "      <th>...</th>\n",
       "      <td>...</td>\n",
       "      <td>...</td>\n",
       "      <td>...</td>\n",
       "      <td>...</td>\n",
       "      <td>...</td>\n",
       "      <td>...</td>\n",
       "      <td>...</td>\n",
       "      <td>...</td>\n",
       "      <td>...</td>\n",
       "      <td>...</td>\n",
       "      <td>...</td>\n",
       "    </tr>\n",
       "    <tr>\n",
       "      <th>413</th>\n",
       "      <td>1305</td>\n",
       "      <td>3</td>\n",
       "      <td>Spector, Mr. Woolf</td>\n",
       "      <td>male</td>\n",
       "      <td>NaN</td>\n",
       "      <td>0</td>\n",
       "      <td>0</td>\n",
       "      <td>A.5. 3236</td>\n",
       "      <td>8.0500</td>\n",
       "      <td>NaN</td>\n",
       "      <td>S</td>\n",
       "    </tr>\n",
       "    <tr>\n",
       "      <th>414</th>\n",
       "      <td>1306</td>\n",
       "      <td>1</td>\n",
       "      <td>Oliva y Ocana, Dona. Fermina</td>\n",
       "      <td>female</td>\n",
       "      <td>39.0</td>\n",
       "      <td>0</td>\n",
       "      <td>0</td>\n",
       "      <td>PC 17758</td>\n",
       "      <td>108.9000</td>\n",
       "      <td>C105</td>\n",
       "      <td>C</td>\n",
       "    </tr>\n",
       "    <tr>\n",
       "      <th>415</th>\n",
       "      <td>1307</td>\n",
       "      <td>3</td>\n",
       "      <td>Saether, Mr. Simon Sivertsen</td>\n",
       "      <td>male</td>\n",
       "      <td>38.5</td>\n",
       "      <td>0</td>\n",
       "      <td>0</td>\n",
       "      <td>SOTON/O.Q. 3101262</td>\n",
       "      <td>7.2500</td>\n",
       "      <td>NaN</td>\n",
       "      <td>S</td>\n",
       "    </tr>\n",
       "    <tr>\n",
       "      <th>416</th>\n",
       "      <td>1308</td>\n",
       "      <td>3</td>\n",
       "      <td>Ware, Mr. Frederick</td>\n",
       "      <td>male</td>\n",
       "      <td>NaN</td>\n",
       "      <td>0</td>\n",
       "      <td>0</td>\n",
       "      <td>359309</td>\n",
       "      <td>8.0500</td>\n",
       "      <td>NaN</td>\n",
       "      <td>S</td>\n",
       "    </tr>\n",
       "    <tr>\n",
       "      <th>417</th>\n",
       "      <td>1309</td>\n",
       "      <td>3</td>\n",
       "      <td>Peter, Master. Michael J</td>\n",
       "      <td>male</td>\n",
       "      <td>NaN</td>\n",
       "      <td>1</td>\n",
       "      <td>1</td>\n",
       "      <td>2668</td>\n",
       "      <td>22.3583</td>\n",
       "      <td>NaN</td>\n",
       "      <td>C</td>\n",
       "    </tr>\n",
       "  </tbody>\n",
       "</table>\n",
       "<p>418 rows × 11 columns</p>\n",
       "</div>"
      ],
      "text/plain": [
       "     PassengerId  Pclass                                          Name  \\\n",
       "0            892       3                              Kelly, Mr. James   \n",
       "1            893       3              Wilkes, Mrs. James (Ellen Needs)   \n",
       "2            894       2                     Myles, Mr. Thomas Francis   \n",
       "3            895       3                              Wirz, Mr. Albert   \n",
       "4            896       3  Hirvonen, Mrs. Alexander (Helga E Lindqvist)   \n",
       "..           ...     ...                                           ...   \n",
       "413         1305       3                            Spector, Mr. Woolf   \n",
       "414         1306       1                  Oliva y Ocana, Dona. Fermina   \n",
       "415         1307       3                  Saether, Mr. Simon Sivertsen   \n",
       "416         1308       3                           Ware, Mr. Frederick   \n",
       "417         1309       3                      Peter, Master. Michael J   \n",
       "\n",
       "        Sex   Age  SibSp  Parch              Ticket      Fare Cabin Embarked  \n",
       "0      male  34.5      0      0              330911    7.8292   NaN        Q  \n",
       "1    female  47.0      1      0              363272    7.0000   NaN        S  \n",
       "2      male  62.0      0      0              240276    9.6875   NaN        Q  \n",
       "3      male  27.0      0      0              315154    8.6625   NaN        S  \n",
       "4    female  22.0      1      1             3101298   12.2875   NaN        S  \n",
       "..      ...   ...    ...    ...                 ...       ...   ...      ...  \n",
       "413    male   NaN      0      0           A.5. 3236    8.0500   NaN        S  \n",
       "414  female  39.0      0      0            PC 17758  108.9000  C105        C  \n",
       "415    male  38.5      0      0  SOTON/O.Q. 3101262    7.2500   NaN        S  \n",
       "416    male   NaN      0      0              359309    8.0500   NaN        S  \n",
       "417    male   NaN      1      1                2668   22.3583   NaN        C  \n",
       "\n",
       "[418 rows x 11 columns]"
      ]
     },
     "execution_count": 7,
     "metadata": {},
     "output_type": "execute_result"
    }
   ],
   "source": [
    "test"
   ]
  },
  {
   "cell_type": "code",
   "execution_count": 8,
   "metadata": {},
   "outputs": [
    {
     "data": {
      "text/html": [
       "<div>\n",
       "<style scoped>\n",
       "    .dataframe tbody tr th:only-of-type {\n",
       "        vertical-align: middle;\n",
       "    }\n",
       "\n",
       "    .dataframe tbody tr th {\n",
       "        vertical-align: top;\n",
       "    }\n",
       "\n",
       "    .dataframe thead th {\n",
       "        text-align: right;\n",
       "    }\n",
       "</style>\n",
       "<table border=\"1\" class=\"dataframe\">\n",
       "  <thead>\n",
       "    <tr style=\"text-align: right;\">\n",
       "      <th></th>\n",
       "      <th>PassengerId</th>\n",
       "      <th>Survived</th>\n",
       "      <th>Pclass</th>\n",
       "      <th>Name</th>\n",
       "      <th>Sex</th>\n",
       "      <th>Age</th>\n",
       "      <th>SibSp</th>\n",
       "      <th>Parch</th>\n",
       "      <th>Ticket</th>\n",
       "      <th>Fare</th>\n",
       "      <th>Cabin</th>\n",
       "      <th>Embarked</th>\n",
       "    </tr>\n",
       "  </thead>\n",
       "  <tbody>\n",
       "    <tr>\n",
       "      <th>0</th>\n",
       "      <td>1</td>\n",
       "      <td>0.0</td>\n",
       "      <td>3</td>\n",
       "      <td>Braund, Mr. Owen Harris</td>\n",
       "      <td>male</td>\n",
       "      <td>22.0</td>\n",
       "      <td>1</td>\n",
       "      <td>0</td>\n",
       "      <td>A/5 21171</td>\n",
       "      <td>7.2500</td>\n",
       "      <td>NaN</td>\n",
       "      <td>S</td>\n",
       "    </tr>\n",
       "    <tr>\n",
       "      <th>1</th>\n",
       "      <td>2</td>\n",
       "      <td>1.0</td>\n",
       "      <td>1</td>\n",
       "      <td>Cumings, Mrs. John Bradley (Florence Briggs Th...</td>\n",
       "      <td>female</td>\n",
       "      <td>38.0</td>\n",
       "      <td>1</td>\n",
       "      <td>0</td>\n",
       "      <td>PC 17599</td>\n",
       "      <td>71.2833</td>\n",
       "      <td>C85</td>\n",
       "      <td>C</td>\n",
       "    </tr>\n",
       "    <tr>\n",
       "      <th>2</th>\n",
       "      <td>3</td>\n",
       "      <td>1.0</td>\n",
       "      <td>3</td>\n",
       "      <td>Heikkinen, Miss. Laina</td>\n",
       "      <td>female</td>\n",
       "      <td>26.0</td>\n",
       "      <td>0</td>\n",
       "      <td>0</td>\n",
       "      <td>STON/O2. 3101282</td>\n",
       "      <td>7.9250</td>\n",
       "      <td>NaN</td>\n",
       "      <td>S</td>\n",
       "    </tr>\n",
       "    <tr>\n",
       "      <th>3</th>\n",
       "      <td>4</td>\n",
       "      <td>1.0</td>\n",
       "      <td>1</td>\n",
       "      <td>Futrelle, Mrs. Jacques Heath (Lily May Peel)</td>\n",
       "      <td>female</td>\n",
       "      <td>35.0</td>\n",
       "      <td>1</td>\n",
       "      <td>0</td>\n",
       "      <td>113803</td>\n",
       "      <td>53.1000</td>\n",
       "      <td>C123</td>\n",
       "      <td>S</td>\n",
       "    </tr>\n",
       "    <tr>\n",
       "      <th>4</th>\n",
       "      <td>5</td>\n",
       "      <td>0.0</td>\n",
       "      <td>3</td>\n",
       "      <td>Allen, Mr. William Henry</td>\n",
       "      <td>male</td>\n",
       "      <td>35.0</td>\n",
       "      <td>0</td>\n",
       "      <td>0</td>\n",
       "      <td>373450</td>\n",
       "      <td>8.0500</td>\n",
       "      <td>NaN</td>\n",
       "      <td>S</td>\n",
       "    </tr>\n",
       "    <tr>\n",
       "      <th>...</th>\n",
       "      <td>...</td>\n",
       "      <td>...</td>\n",
       "      <td>...</td>\n",
       "      <td>...</td>\n",
       "      <td>...</td>\n",
       "      <td>...</td>\n",
       "      <td>...</td>\n",
       "      <td>...</td>\n",
       "      <td>...</td>\n",
       "      <td>...</td>\n",
       "      <td>...</td>\n",
       "      <td>...</td>\n",
       "    </tr>\n",
       "    <tr>\n",
       "      <th>413</th>\n",
       "      <td>1305</td>\n",
       "      <td>NaN</td>\n",
       "      <td>3</td>\n",
       "      <td>Spector, Mr. Woolf</td>\n",
       "      <td>male</td>\n",
       "      <td>NaN</td>\n",
       "      <td>0</td>\n",
       "      <td>0</td>\n",
       "      <td>A.5. 3236</td>\n",
       "      <td>8.0500</td>\n",
       "      <td>NaN</td>\n",
       "      <td>S</td>\n",
       "    </tr>\n",
       "    <tr>\n",
       "      <th>414</th>\n",
       "      <td>1306</td>\n",
       "      <td>NaN</td>\n",
       "      <td>1</td>\n",
       "      <td>Oliva y Ocana, Dona. Fermina</td>\n",
       "      <td>female</td>\n",
       "      <td>39.0</td>\n",
       "      <td>0</td>\n",
       "      <td>0</td>\n",
       "      <td>PC 17758</td>\n",
       "      <td>108.9000</td>\n",
       "      <td>C105</td>\n",
       "      <td>C</td>\n",
       "    </tr>\n",
       "    <tr>\n",
       "      <th>415</th>\n",
       "      <td>1307</td>\n",
       "      <td>NaN</td>\n",
       "      <td>3</td>\n",
       "      <td>Saether, Mr. Simon Sivertsen</td>\n",
       "      <td>male</td>\n",
       "      <td>38.5</td>\n",
       "      <td>0</td>\n",
       "      <td>0</td>\n",
       "      <td>SOTON/O.Q. 3101262</td>\n",
       "      <td>7.2500</td>\n",
       "      <td>NaN</td>\n",
       "      <td>S</td>\n",
       "    </tr>\n",
       "    <tr>\n",
       "      <th>416</th>\n",
       "      <td>1308</td>\n",
       "      <td>NaN</td>\n",
       "      <td>3</td>\n",
       "      <td>Ware, Mr. Frederick</td>\n",
       "      <td>male</td>\n",
       "      <td>NaN</td>\n",
       "      <td>0</td>\n",
       "      <td>0</td>\n",
       "      <td>359309</td>\n",
       "      <td>8.0500</td>\n",
       "      <td>NaN</td>\n",
       "      <td>S</td>\n",
       "    </tr>\n",
       "    <tr>\n",
       "      <th>417</th>\n",
       "      <td>1309</td>\n",
       "      <td>NaN</td>\n",
       "      <td>3</td>\n",
       "      <td>Peter, Master. Michael J</td>\n",
       "      <td>male</td>\n",
       "      <td>NaN</td>\n",
       "      <td>1</td>\n",
       "      <td>1</td>\n",
       "      <td>2668</td>\n",
       "      <td>22.3583</td>\n",
       "      <td>NaN</td>\n",
       "      <td>C</td>\n",
       "    </tr>\n",
       "  </tbody>\n",
       "</table>\n",
       "<p>1309 rows × 12 columns</p>\n",
       "</div>"
      ],
      "text/plain": [
       "     PassengerId  Survived  Pclass  \\\n",
       "0              1       0.0       3   \n",
       "1              2       1.0       1   \n",
       "2              3       1.0       3   \n",
       "3              4       1.0       1   \n",
       "4              5       0.0       3   \n",
       "..           ...       ...     ...   \n",
       "413         1305       NaN       3   \n",
       "414         1306       NaN       1   \n",
       "415         1307       NaN       3   \n",
       "416         1308       NaN       3   \n",
       "417         1309       NaN       3   \n",
       "\n",
       "                                                  Name     Sex   Age  SibSp  \\\n",
       "0                              Braund, Mr. Owen Harris    male  22.0      1   \n",
       "1    Cumings, Mrs. John Bradley (Florence Briggs Th...  female  38.0      1   \n",
       "2                               Heikkinen, Miss. Laina  female  26.0      0   \n",
       "3         Futrelle, Mrs. Jacques Heath (Lily May Peel)  female  35.0      1   \n",
       "4                             Allen, Mr. William Henry    male  35.0      0   \n",
       "..                                                 ...     ...   ...    ...   \n",
       "413                                 Spector, Mr. Woolf    male   NaN      0   \n",
       "414                       Oliva y Ocana, Dona. Fermina  female  39.0      0   \n",
       "415                       Saether, Mr. Simon Sivertsen    male  38.5      0   \n",
       "416                                Ware, Mr. Frederick    male   NaN      0   \n",
       "417                           Peter, Master. Michael J    male   NaN      1   \n",
       "\n",
       "     Parch              Ticket      Fare Cabin Embarked  \n",
       "0        0           A/5 21171    7.2500   NaN        S  \n",
       "1        0            PC 17599   71.2833   C85        C  \n",
       "2        0    STON/O2. 3101282    7.9250   NaN        S  \n",
       "3        0              113803   53.1000  C123        S  \n",
       "4        0              373450    8.0500   NaN        S  \n",
       "..     ...                 ...       ...   ...      ...  \n",
       "413      0           A.5. 3236    8.0500   NaN        S  \n",
       "414      0            PC 17758  108.9000  C105        C  \n",
       "415      0  SOTON/O.Q. 3101262    7.2500   NaN        S  \n",
       "416      0              359309    8.0500   NaN        S  \n",
       "417      1                2668   22.3583   NaN        C  \n",
       "\n",
       "[1309 rows x 12 columns]"
      ]
     },
     "execution_count": 8,
     "metadata": {},
     "output_type": "execute_result"
    }
   ],
   "source": [
    "data=train.append(test)\n",
    "data"
   ]
  },
  {
   "cell_type": "code",
   "execution_count": 9,
   "metadata": {},
   "outputs": [],
   "source": [
    "#取消重複index，重新排列index\n",
    "data.reset_index(inplace=True, drop=True)"
   ]
  },
  {
   "cell_type": "code",
   "execution_count": 10,
   "metadata": {},
   "outputs": [
    {
     "data": {
      "text/plain": [
       "<matplotlib.axes._subplots.AxesSubplot at 0x1a1f418f28>"
      ]
     },
     "execution_count": 10,
     "metadata": {},
     "output_type": "execute_result"
    },
    {
     "data": {
      "image/png": "[encoded data removed]",
      "text/plain": [
       "<Figure size 432x288 with 1 Axes>"
      ]
     },
     "metadata": {
      "needs_background": "light"
     },
     "output_type": "display_data"
    }
   ],
   "source": [
    "#x軸為survive or not\n",
    "sns.countplot(data['Survived'])"
   ]
  },
  {
   "cell_type": "code",
   "execution_count": 11,
   "metadata": {},
   "outputs": [
    {
     "data": {
      "text/plain": [
       "<matplotlib.axes._subplots.AxesSubplot at 0x1a1f6ea5c0>"
      ]
     },
     "execution_count": 11,
     "metadata": {},
     "output_type": "execute_result"
    },
    {
     "data": {
      "image/png": "[encoded data removed]",
      "text/plain": [
       "<Figure size 432x288 with 1 Axes>"
      ]
     },
     "metadata": {
      "needs_background": "light"
     },
     "output_type": "display_data"
    }
   ],
   "source": [
    "#hue可根據Pclass有不同顏色\n",
    "sns.countplot(data['Survived'],hue=data['Pclass'])"
   ]
  },
  {
   "cell_type": "code",
   "execution_count": 12,
   "metadata": {},
   "outputs": [
    {
     "data": {
      "text/plain": [
       "<seaborn.axisgrid.FacetGrid at 0x1a1ff2e518>"
      ]
     },
     "execution_count": 12,
     "metadata": {},
     "output_type": "execute_result"
    },
    {
     "data": {
      "image/png": "[encoded data removed]",
      "text/plain": [
       "<Figure size 432x216 with 2 Axes>"
      ]
     },
     "metadata": {
      "needs_background": "light"
     },
     "output_type": "display_data"
    }
   ],
   "source": [
    "g=sns.FacetGrid(data,col='Survived')\n",
    "g.map(sns.distplot,'Fare',kde=False)"
   ]
  },
  {
   "cell_type": "code",
   "execution_count": 13,
   "metadata": {},
   "outputs": [
    {
     "data": {
      "text/plain": [
       "<matplotlib.axes._subplots.AxesSubplot at 0x1a200d46d8>"
      ]
     },
     "execution_count": 13,
     "metadata": {},
     "output_type": "execute_result"
    },
    {
     "data": {
      "image/png": "[encoded data removed]",
      "text/plain": [
       "<Figure size 432x288 with 1 Axes>"
      ]
     },
     "metadata": {
      "needs_background": "light"
     },
     "output_type": "display_data"
    }
   ],
   "source": [
    "#取Fare的平均值\n",
    "fare_mean=np.mean(data['Fare'])\n",
    "#用平均值填補NaN\n",
    "data['Fare']=data['Fare'].fillna(fare_mean)\n",
    "#將Fare的Float轉乘int\n",
    "data['Fare'].astype('int')\n",
    "sns.distplot(data['Fare'])"
   ]
  },
  {
   "cell_type": "code",
   "execution_count": 14,
   "metadata": {},
   "outputs": [
    {
     "data": {
      "image/png": "[encoded data removed]",
      "text/plain": [
       "<Figure size 432x288 with 1 Axes>"
      ]
     },
     "metadata": {
      "needs_background": "light"
     },
     "output_type": "display_data"
    }
   ],
   "source": [
    "plt.hist(data['Fare'],bins=[0,50,100,150,200,250,300,350,400,500,550])\n",
    "plt.title(\"Fare Histogram\")\n",
    "plt.show()"
   ]
  },
  {
   "cell_type": "code",
   "execution_count": 15,
   "metadata": {},
   "outputs": [
    {
     "data": {
      "text/html": [
       "<div>\n",
       "<style scoped>\n",
       "    .dataframe tbody tr th:only-of-type {\n",
       "        vertical-align: middle;\n",
       "    }\n",
       "\n",
       "    .dataframe tbody tr th {\n",
       "        vertical-align: top;\n",
       "    }\n",
       "\n",
       "    .dataframe thead th {\n",
       "        text-align: right;\n",
       "    }\n",
       "</style>\n",
       "<table border=\"1\" class=\"dataframe\">\n",
       "  <thead>\n",
       "    <tr style=\"text-align: right;\">\n",
       "      <th></th>\n",
       "      <th>PassengerId</th>\n",
       "      <th>Survived</th>\n",
       "      <th>Pclass</th>\n",
       "      <th>Name</th>\n",
       "      <th>Sex</th>\n",
       "      <th>Age</th>\n",
       "      <th>SibSp</th>\n",
       "      <th>Parch</th>\n",
       "      <th>Ticket</th>\n",
       "      <th>Fare</th>\n",
       "      <th>Cabin</th>\n",
       "      <th>Embarked</th>\n",
       "    </tr>\n",
       "  </thead>\n",
       "  <tbody>\n",
       "    <tr>\n",
       "      <th>0</th>\n",
       "      <td>1</td>\n",
       "      <td>0</td>\n",
       "      <td>3</td>\n",
       "      <td>Braund, Mr. Owen Harris</td>\n",
       "      <td>male</td>\n",
       "      <td>22.0</td>\n",
       "      <td>1</td>\n",
       "      <td>0</td>\n",
       "      <td>A/5 21171</td>\n",
       "      <td>7.2500</td>\n",
       "      <td>NaN</td>\n",
       "      <td>S</td>\n",
       "    </tr>\n",
       "    <tr>\n",
       "      <th>1</th>\n",
       "      <td>2</td>\n",
       "      <td>1</td>\n",
       "      <td>1</td>\n",
       "      <td>Cumings, Mrs. John Bradley (Florence Briggs Th...</td>\n",
       "      <td>female</td>\n",
       "      <td>38.0</td>\n",
       "      <td>1</td>\n",
       "      <td>0</td>\n",
       "      <td>PC 17599</td>\n",
       "      <td>71.2833</td>\n",
       "      <td>C85</td>\n",
       "      <td>C</td>\n",
       "    </tr>\n",
       "    <tr>\n",
       "      <th>2</th>\n",
       "      <td>3</td>\n",
       "      <td>1</td>\n",
       "      <td>3</td>\n",
       "      <td>Heikkinen, Miss. Laina</td>\n",
       "      <td>female</td>\n",
       "      <td>26.0</td>\n",
       "      <td>0</td>\n",
       "      <td>0</td>\n",
       "      <td>STON/O2. 3101282</td>\n",
       "      <td>7.9250</td>\n",
       "      <td>NaN</td>\n",
       "      <td>S</td>\n",
       "    </tr>\n",
       "    <tr>\n",
       "      <th>3</th>\n",
       "      <td>4</td>\n",
       "      <td>1</td>\n",
       "      <td>1</td>\n",
       "      <td>Futrelle, Mrs. Jacques Heath (Lily May Peel)</td>\n",
       "      <td>female</td>\n",
       "      <td>35.0</td>\n",
       "      <td>1</td>\n",
       "      <td>0</td>\n",
       "      <td>113803</td>\n",
       "      <td>53.1000</td>\n",
       "      <td>C123</td>\n",
       "      <td>S</td>\n",
       "    </tr>\n",
       "    <tr>\n",
       "      <th>4</th>\n",
       "      <td>5</td>\n",
       "      <td>0</td>\n",
       "      <td>3</td>\n",
       "      <td>Allen, Mr. William Henry</td>\n",
       "      <td>male</td>\n",
       "      <td>35.0</td>\n",
       "      <td>0</td>\n",
       "      <td>0</td>\n",
       "      <td>373450</td>\n",
       "      <td>8.0500</td>\n",
       "      <td>NaN</td>\n",
       "      <td>S</td>\n",
       "    </tr>\n",
       "    <tr>\n",
       "      <th>...</th>\n",
       "      <td>...</td>\n",
       "      <td>...</td>\n",
       "      <td>...</td>\n",
       "      <td>...</td>\n",
       "      <td>...</td>\n",
       "      <td>...</td>\n",
       "      <td>...</td>\n",
       "      <td>...</td>\n",
       "      <td>...</td>\n",
       "      <td>...</td>\n",
       "      <td>...</td>\n",
       "      <td>...</td>\n",
       "    </tr>\n",
       "    <tr>\n",
       "      <th>886</th>\n",
       "      <td>887</td>\n",
       "      <td>0</td>\n",
       "      <td>2</td>\n",
       "      <td>Montvila, Rev. Juozas</td>\n",
       "      <td>male</td>\n",
       "      <td>27.0</td>\n",
       "      <td>0</td>\n",
       "      <td>0</td>\n",
       "      <td>211536</td>\n",
       "      <td>13.0000</td>\n",
       "      <td>NaN</td>\n",
       "      <td>S</td>\n",
       "    </tr>\n",
       "    <tr>\n",
       "      <th>887</th>\n",
       "      <td>888</td>\n",
       "      <td>1</td>\n",
       "      <td>1</td>\n",
       "      <td>Graham, Miss. Margaret Edith</td>\n",
       "      <td>female</td>\n",
       "      <td>19.0</td>\n",
       "      <td>0</td>\n",
       "      <td>0</td>\n",
       "      <td>112053</td>\n",
       "      <td>30.0000</td>\n",
       "      <td>B42</td>\n",
       "      <td>S</td>\n",
       "    </tr>\n",
       "    <tr>\n",
       "      <th>888</th>\n",
       "      <td>889</td>\n",
       "      <td>0</td>\n",
       "      <td>3</td>\n",
       "      <td>Johnston, Miss. Catherine Helen \"Carrie\"</td>\n",
       "      <td>female</td>\n",
       "      <td>NaN</td>\n",
       "      <td>1</td>\n",
       "      <td>2</td>\n",
       "      <td>W./C. 6607</td>\n",
       "      <td>23.4500</td>\n",
       "      <td>NaN</td>\n",
       "      <td>S</td>\n",
       "    </tr>\n",
       "    <tr>\n",
       "      <th>889</th>\n",
       "      <td>890</td>\n",
       "      <td>1</td>\n",
       "      <td>1</td>\n",
       "      <td>Behr, Mr. Karl Howell</td>\n",
       "      <td>male</td>\n",
       "      <td>26.0</td>\n",
       "      <td>0</td>\n",
       "      <td>0</td>\n",
       "      <td>111369</td>\n",
       "      <td>30.0000</td>\n",
       "      <td>C148</td>\n",
       "      <td>C</td>\n",
       "    </tr>\n",
       "    <tr>\n",
       "      <th>890</th>\n",
       "      <td>891</td>\n",
       "      <td>0</td>\n",
       "      <td>3</td>\n",
       "      <td>Dooley, Mr. Patrick</td>\n",
       "      <td>male</td>\n",
       "      <td>32.0</td>\n",
       "      <td>0</td>\n",
       "      <td>0</td>\n",
       "      <td>370376</td>\n",
       "      <td>7.7500</td>\n",
       "      <td>NaN</td>\n",
       "      <td>Q</td>\n",
       "    </tr>\n",
       "  </tbody>\n",
       "</table>\n",
       "<p>891 rows × 12 columns</p>\n",
       "</div>"
      ],
      "text/plain": [
       "     PassengerId  Survived  Pclass  \\\n",
       "0              1         0       3   \n",
       "1              2         1       1   \n",
       "2              3         1       3   \n",
       "3              4         1       1   \n",
       "4              5         0       3   \n",
       "..           ...       ...     ...   \n",
       "886          887         0       2   \n",
       "887          888         1       1   \n",
       "888          889         0       3   \n",
       "889          890         1       1   \n",
       "890          891         0       3   \n",
       "\n",
       "                                                  Name     Sex   Age  SibSp  \\\n",
       "0                              Braund, Mr. Owen Harris    male  22.0      1   \n",
       "1    Cumings, Mrs. John Bradley (Florence Briggs Th...  female  38.0      1   \n",
       "2                               Heikkinen, Miss. Laina  female  26.0      0   \n",
       "3         Futrelle, Mrs. Jacques Heath (Lily May Peel)  female  35.0      1   \n",
       "4                             Allen, Mr. William Henry    male  35.0      0   \n",
       "..                                                 ...     ...   ...    ...   \n",
       "886                              Montvila, Rev. Juozas    male  27.0      0   \n",
       "887                       Graham, Miss. Margaret Edith  female  19.0      0   \n",
       "888           Johnston, Miss. Catherine Helen \"Carrie\"  female   NaN      1   \n",
       "889                              Behr, Mr. Karl Howell    male  26.0      0   \n",
       "890                                Dooley, Mr. Patrick    male  32.0      0   \n",
       "\n",
       "     Parch            Ticket     Fare Cabin Embarked  \n",
       "0        0         A/5 21171   7.2500   NaN        S  \n",
       "1        0          PC 17599  71.2833   C85        C  \n",
       "2        0  STON/O2. 3101282   7.9250   NaN        S  \n",
       "3        0            113803  53.1000  C123        S  \n",
       "4        0            373450   8.0500   NaN        S  \n",
       "..     ...               ...      ...   ...      ...  \n",
       "886      0            211536  13.0000   NaN        S  \n",
       "887      0            112053  30.0000   B42        S  \n",
       "888      2        W./C. 6607  23.4500   NaN        S  \n",
       "889      0            111369  30.0000  C148        C  \n",
       "890      0            370376   7.7500   NaN        Q  \n",
       "\n",
       "[891 rows x 12 columns]"
      ]
     },
     "execution_count": 15,
     "metadata": {},
     "output_type": "execute_result"
    }
   ],
   "source": [
    "# 將 Age 遺漏值以 median 填補\n",
    "age_median = np.nanmedian(train[\"Age\"])\n",
    "new_Age = np.where(data[\"Age\"].isnull(), age_median, data[\"Age\"])\n",
    "data[\"Age\"] = new_Age\n",
    "train"
   ]
  },
  {
   "cell_type": "code",
   "execution_count": 16,
   "metadata": {},
   "outputs": [
    {
     "data": {
      "text/plain": [
       "array([1, 0, 0, ..., 1, 1, 1])"
      ]
     },
     "execution_count": 16,
     "metadata": {},
     "output_type": "execute_result"
    }
   ],
   "source": [
    "# 創造 dummy variables(只會產生一個變數)\n",
    "label_encoder = preprocessing.LabelEncoder()\n",
    "encoded_Sex = label_encoder.fit_transform(data[\"Sex\"])\n",
    "encoded_Sex"
   ]
  },
  {
   "cell_type": "code",
   "execution_count": 17,
   "metadata": {},
   "outputs": [
    {
     "data": {
      "text/html": [
       "<div>\n",
       "<style scoped>\n",
       "    .dataframe tbody tr th:only-of-type {\n",
       "        vertical-align: middle;\n",
       "    }\n",
       "\n",
       "    .dataframe tbody tr th {\n",
       "        vertical-align: top;\n",
       "    }\n",
       "\n",
       "    .dataframe thead th {\n",
       "        text-align: right;\n",
       "    }\n",
       "</style>\n",
       "<table border=\"1\" class=\"dataframe\">\n",
       "  <thead>\n",
       "    <tr style=\"text-align: right;\">\n",
       "      <th></th>\n",
       "      <th>PassengerId</th>\n",
       "      <th>Survived</th>\n",
       "      <th>Pclass</th>\n",
       "      <th>Name</th>\n",
       "      <th>Sex</th>\n",
       "      <th>Age</th>\n",
       "      <th>SibSp</th>\n",
       "      <th>Parch</th>\n",
       "      <th>Ticket</th>\n",
       "      <th>Fare</th>\n",
       "      <th>Cabin</th>\n",
       "      <th>Embarked_C</th>\n",
       "      <th>Embarked_Q</th>\n",
       "      <th>Embarked_S</th>\n",
       "    </tr>\n",
       "  </thead>\n",
       "  <tbody>\n",
       "    <tr>\n",
       "      <th>0</th>\n",
       "      <td>1</td>\n",
       "      <td>0.0</td>\n",
       "      <td>3</td>\n",
       "      <td>Braund, Mr. Owen Harris</td>\n",
       "      <td>male</td>\n",
       "      <td>22.0</td>\n",
       "      <td>1</td>\n",
       "      <td>0</td>\n",
       "      <td>A/5 21171</td>\n",
       "      <td>7.2500</td>\n",
       "      <td>NaN</td>\n",
       "      <td>0</td>\n",
       "      <td>0</td>\n",
       "      <td>1</td>\n",
       "    </tr>\n",
       "    <tr>\n",
       "      <th>1</th>\n",
       "      <td>2</td>\n",
       "      <td>1.0</td>\n",
       "      <td>1</td>\n",
       "      <td>Cumings, Mrs. John Bradley (Florence Briggs Th...</td>\n",
       "      <td>female</td>\n",
       "      <td>38.0</td>\n",
       "      <td>1</td>\n",
       "      <td>0</td>\n",
       "      <td>PC 17599</td>\n",
       "      <td>71.2833</td>\n",
       "      <td>C85</td>\n",
       "      <td>1</td>\n",
       "      <td>0</td>\n",
       "      <td>0</td>\n",
       "    </tr>\n",
       "    <tr>\n",
       "      <th>2</th>\n",
       "      <td>3</td>\n",
       "      <td>1.0</td>\n",
       "      <td>3</td>\n",
       "      <td>Heikkinen, Miss. Laina</td>\n",
       "      <td>female</td>\n",
       "      <td>26.0</td>\n",
       "      <td>0</td>\n",
       "      <td>0</td>\n",
       "      <td>STON/O2. 3101282</td>\n",
       "      <td>7.9250</td>\n",
       "      <td>NaN</td>\n",
       "      <td>0</td>\n",
       "      <td>0</td>\n",
       "      <td>1</td>\n",
       "    </tr>\n",
       "    <tr>\n",
       "      <th>3</th>\n",
       "      <td>4</td>\n",
       "      <td>1.0</td>\n",
       "      <td>1</td>\n",
       "      <td>Futrelle, Mrs. Jacques Heath (Lily May Peel)</td>\n",
       "      <td>female</td>\n",
       "      <td>35.0</td>\n",
       "      <td>1</td>\n",
       "      <td>0</td>\n",
       "      <td>113803</td>\n",
       "      <td>53.1000</td>\n",
       "      <td>C123</td>\n",
       "      <td>0</td>\n",
       "      <td>0</td>\n",
       "      <td>1</td>\n",
       "    </tr>\n",
       "    <tr>\n",
       "      <th>4</th>\n",
       "      <td>5</td>\n",
       "      <td>0.0</td>\n",
       "      <td>3</td>\n",
       "      <td>Allen, Mr. William Henry</td>\n",
       "      <td>male</td>\n",
       "      <td>35.0</td>\n",
       "      <td>0</td>\n",
       "      <td>0</td>\n",
       "      <td>373450</td>\n",
       "      <td>8.0500</td>\n",
       "      <td>NaN</td>\n",
       "      <td>0</td>\n",
       "      <td>0</td>\n",
       "      <td>1</td>\n",
       "    </tr>\n",
       "    <tr>\n",
       "      <th>...</th>\n",
       "      <td>...</td>\n",
       "      <td>...</td>\n",
       "      <td>...</td>\n",
       "      <td>...</td>\n",
       "      <td>...</td>\n",
       "      <td>...</td>\n",
       "      <td>...</td>\n",
       "      <td>...</td>\n",
       "      <td>...</td>\n",
       "      <td>...</td>\n",
       "      <td>...</td>\n",
       "      <td>...</td>\n",
       "      <td>...</td>\n",
       "      <td>...</td>\n",
       "    </tr>\n",
       "    <tr>\n",
       "      <th>1304</th>\n",
       "      <td>1305</td>\n",
       "      <td>NaN</td>\n",
       "      <td>3</td>\n",
       "      <td>Spector, Mr. Woolf</td>\n",
       "      <td>male</td>\n",
       "      <td>28.0</td>\n",
       "      <td>0</td>\n",
       "      <td>0</td>\n",
       "      <td>A.5. 3236</td>\n",
       "      <td>8.0500</td>\n",
       "      <td>NaN</td>\n",
       "      <td>0</td>\n",
       "      <td>0</td>\n",
       "      <td>1</td>\n",
       "    </tr>\n",
       "    <tr>\n",
       "      <th>1305</th>\n",
       "      <td>1306</td>\n",
       "      <td>NaN</td>\n",
       "      <td>1</td>\n",
       "      <td>Oliva y Ocana, Dona. Fermina</td>\n",
       "      <td>female</td>\n",
       "      <td>39.0</td>\n",
       "      <td>0</td>\n",
       "      <td>0</td>\n",
       "      <td>PC 17758</td>\n",
       "      <td>108.9000</td>\n",
       "      <td>C105</td>\n",
       "      <td>1</td>\n",
       "      <td>0</td>\n",
       "      <td>0</td>\n",
       "    </tr>\n",
       "    <tr>\n",
       "      <th>1306</th>\n",
       "      <td>1307</td>\n",
       "      <td>NaN</td>\n",
       "      <td>3</td>\n",
       "      <td>Saether, Mr. Simon Sivertsen</td>\n",
       "      <td>male</td>\n",
       "      <td>38.5</td>\n",
       "      <td>0</td>\n",
       "      <td>0</td>\n",
       "      <td>SOTON/O.Q. 3101262</td>\n",
       "      <td>7.2500</td>\n",
       "      <td>NaN</td>\n",
       "      <td>0</td>\n",
       "      <td>0</td>\n",
       "      <td>1</td>\n",
       "    </tr>\n",
       "    <tr>\n",
       "      <th>1307</th>\n",
       "      <td>1308</td>\n",
       "      <td>NaN</td>\n",
       "      <td>3</td>\n",
       "      <td>Ware, Mr. Frederick</td>\n",
       "      <td>male</td>\n",
       "      <td>28.0</td>\n",
       "      <td>0</td>\n",
       "      <td>0</td>\n",
       "      <td>359309</td>\n",
       "      <td>8.0500</td>\n",
       "      <td>NaN</td>\n",
       "      <td>0</td>\n",
       "      <td>0</td>\n",
       "      <td>1</td>\n",
       "    </tr>\n",
       "    <tr>\n",
       "      <th>1308</th>\n",
       "      <td>1309</td>\n",
       "      <td>NaN</td>\n",
       "      <td>3</td>\n",
       "      <td>Peter, Master. Michael J</td>\n",
       "      <td>male</td>\n",
       "      <td>28.0</td>\n",
       "      <td>1</td>\n",
       "      <td>1</td>\n",
       "      <td>2668</td>\n",
       "      <td>22.3583</td>\n",
       "      <td>NaN</td>\n",
       "      <td>1</td>\n",
       "      <td>0</td>\n",
       "      <td>0</td>\n",
       "    </tr>\n",
       "  </tbody>\n",
       "</table>\n",
       "<p>1309 rows × 14 columns</p>\n",
       "</div>"
      ],
      "text/plain": [
       "      PassengerId  Survived  Pclass  \\\n",
       "0               1       0.0       3   \n",
       "1               2       1.0       1   \n",
       "2               3       1.0       3   \n",
       "3               4       1.0       1   \n",
       "4               5       0.0       3   \n",
       "...           ...       ...     ...   \n",
       "1304         1305       NaN       3   \n",
       "1305         1306       NaN       1   \n",
       "1306         1307       NaN       3   \n",
       "1307         1308       NaN       3   \n",
       "1308         1309       NaN       3   \n",
       "\n",
       "                                                   Name     Sex   Age  SibSp  \\\n",
       "0                               Braund, Mr. Owen Harris    male  22.0      1   \n",
       "1     Cumings, Mrs. John Bradley (Florence Briggs Th...  female  38.0      1   \n",
       "2                                Heikkinen, Miss. Laina  female  26.0      0   \n",
       "3          Futrelle, Mrs. Jacques Heath (Lily May Peel)  female  35.0      1   \n",
       "4                              Allen, Mr. William Henry    male  35.0      0   \n",
       "...                                                 ...     ...   ...    ...   \n",
       "1304                                 Spector, Mr. Woolf    male  28.0      0   \n",
       "1305                       Oliva y Ocana, Dona. Fermina  female  39.0      0   \n",
       "1306                       Saether, Mr. Simon Sivertsen    male  38.5      0   \n",
       "1307                                Ware, Mr. Frederick    male  28.0      0   \n",
       "1308                           Peter, Master. Michael J    male  28.0      1   \n",
       "\n",
       "      Parch              Ticket      Fare Cabin  Embarked_C  Embarked_Q  \\\n",
       "0         0           A/5 21171    7.2500   NaN           0           0   \n",
       "1         0            PC 17599   71.2833   C85           1           0   \n",
       "2         0    STON/O2. 3101282    7.9250   NaN           0           0   \n",
       "3         0              113803   53.1000  C123           0           0   \n",
       "4         0              373450    8.0500   NaN           0           0   \n",
       "...     ...                 ...       ...   ...         ...         ...   \n",
       "1304      0           A.5. 3236    8.0500   NaN           0           0   \n",
       "1305      0            PC 17758  108.9000  C105           1           0   \n",
       "1306      0  SOTON/O.Q. 3101262    7.2500   NaN           0           0   \n",
       "1307      0              359309    8.0500   NaN           0           0   \n",
       "1308      1                2668   22.3583   NaN           1           0   \n",
       "\n",
       "      Embarked_S  \n",
       "0              1  \n",
       "1              0  \n",
       "2              1  \n",
       "3              1  \n",
       "4              1  \n",
       "...          ...  \n",
       "1304           1  \n",
       "1305           0  \n",
       "1306           1  \n",
       "1307           1  \n",
       "1308           0  \n",
       "\n",
       "[1309 rows x 14 columns]"
      ]
     },
     "execution_count": 17,
     "metadata": {},
     "output_type": "execute_result"
    }
   ],
   "source": [
    "# 創造 one-hot(產生多個變數)\n",
    "data = pd.get_dummies(data=data,columns=['Embarked'])\n",
    "data"
   ]
  },
  {
   "cell_type": "code",
   "execution_count": 18,
   "metadata": {},
   "outputs": [
    {
     "name": "stdout",
     "output_type": "stream",
     "text": [
      "It has null\n",
      "It has null\n"
     ]
    }
   ],
   "source": [
    "for i in range(len(train)):\n",
    "    if(data[\"Embarked_C\"][i]==0 and data[\"Embarked_Q\"][i]==0 and data[\"Embarked_S\"][i]==0):\n",
    "        print(\"It has null\")"
   ]
  },
  {
   "cell_type": "code",
   "execution_count": 19,
   "metadata": {},
   "outputs": [
    {
     "data": {
      "text/plain": [
       "pandas.core.frame.DataFrame"
      ]
     },
     "execution_count": 19,
     "metadata": {},
     "output_type": "execute_result"
    }
   ],
   "source": [
    "type(data)"
   ]
  },
  {
   "cell_type": "code",
   "execution_count": 20,
   "metadata": {},
   "outputs": [],
   "source": [
    "data['Age'] = data['Age'].fillna(data['Age'].mean())\n",
    "data['Sex'] = data['Sex'].map({'male':0,'female':1})"
   ]
  },
  {
   "cell_type": "code",
   "execution_count": 21,
   "metadata": {},
   "outputs": [
    {
     "data": {
      "text/plain": [
       "PassengerId      int64\n",
       "Survived       float64\n",
       "Pclass           int64\n",
       "Name            object\n",
       "Sex              int64\n",
       "Age            float64\n",
       "SibSp            int64\n",
       "Parch            int64\n",
       "Ticket          object\n",
       "Fare           float64\n",
       "Cabin           object\n",
       "Embarked_C       uint8\n",
       "Embarked_Q       uint8\n",
       "Embarked_S       uint8\n",
       "dtype: object"
      ]
     },
     "execution_count": 21,
     "metadata": {},
     "output_type": "execute_result"
    }
   ],
   "source": [
    "data['Embarked_C'] = data['Embarked_C'].fillna(data['Embarked_C'].mean())\n",
    "data['Embarked_Q'] = data['Embarked_Q'].fillna(data['Embarked_Q'].mean())\n",
    "data['Embarked_S'] = data['Embarked_S'].fillna(data['Embarked_S'].mean())\n",
    "data['Sex'].isnull().sum()\n",
    "data.dtypes"
   ]
  },
  {
   "cell_type": "code",
   "execution_count": 22,
   "metadata": {},
   "outputs": [],
   "source": [
    "train_data=data.iloc[0:891,:]\n",
    "test_data=data.iloc[891:1309,:]"
   ]
  },
  {
   "cell_type": "code",
   "execution_count": 23,
   "metadata": {},
   "outputs": [],
   "source": [
    "from sklearn.model_selection import train_test_split\n",
    "from sklearn import preprocessing\n",
    "\n",
    "X =train_data[['Pclass', 'Age', 'Embarked_C',\n",
    "       'Embarked_Q', 'Embarked_S','Sex']]\n",
    "y =train_data['Survived']\n",
    "#Minmax標準化特徵值\n",
    "# minmax_scale=preprocessing.MinMaxScaler(feature_range=(0,1))\n",
    "# Minmax_X=minmax_scale.fit_transform(X)\n",
    "# #Minmax後，(type會變numpy、column names會改變)，(轉回dataframe、columns=X.columns將column names還原)\n",
    "# X=pd.DataFrame(Minmax_X,columns=X.columns) \n",
    "X_train, X_val, y_train, y_val = train_test_split(X, y, test_size=0.3, random_state=33)"
   ]
  },
  {
   "cell_type": "code",
   "execution_count": 24,
   "metadata": {},
   "outputs": [],
   "source": [
    "from sklearn.linear_model import LogisticRegression\n",
    "lr_model= LogisticRegression(random_state=10,max_iter=100)\n",
    "lr_model.fit(X_train,y_train)\n",
    "lr_predictions = lr_model.predict(X_val)\n",
    "lr_probs = lr_model.predict_proba(X_val)[:, 1]"
   ]
  },
  {
   "cell_type": "code",
   "execution_count": 25,
   "metadata": {},
   "outputs": [],
   "source": [
    "from sklearn import tree\n",
    "tree_model = tree.DecisionTreeClassifier(max_depth = 3)\n",
    "tree_model.fit(X_train,y_train)\n",
    "# Predicting results for test dataset\n",
    "tree_predictions = tree_model.predict(X_val)\n",
    "tree_probs = tree_model.predict_proba(X_val)[:, 1]"
   ]
  },
  {
   "cell_type": "code",
   "execution_count": 26,
   "metadata": {},
   "outputs": [
    {
     "data": {
      "text/plain": [
       "<function matplotlib.pyplot.show(*args, **kw)>"
      ]
     },
     "execution_count": 26,
     "metadata": {},
     "output_type": "execute_result"
    },
    {
     "data": {
      "image/png": "[encoded data removed]",
      "text/plain": [
       "<Figure size 1152x576 with 1 Axes>"
      ]
     },
     "metadata": {
      "needs_background": "light"
     },
     "output_type": "display_data"
    }
   ],
   "source": [
    "#決策樹視覺化，左邊是True，右邊是False(較簡單畫法)\n",
    "y_train_df=pd.DataFrame(y_train) #將series轉成dataframe才可以放入class_names\n",
    "plt.figure(figsize = (16, 8))\n",
    "tree.plot_tree(tree_model,\n",
    "               feature_names = X_train.columns,\n",
    "               class_names = ['Died','Survived'],\n",
    "               filled = True)#著色\n",
    "plt.show"
   ]
  },
  {
   "cell_type": "code",
   "execution_count": 27,
   "metadata": {},
   "outputs": [],
   "source": [
    "from sklearn.ensemble import RandomForestClassifier\n",
    "# Create the model with 100 trees\n",
    "rf_model = RandomForestClassifier(n_estimators=100, \n",
    "                               bootstrap = True,\n",
    "                               max_features = 'sqrt')\n",
    "# Fit on training data\n",
    "rf_model.fit(X_train, y_train)\n",
    "# Actual class predictions\n",
    "rf_predictions = rf_model.predict(X_val)\n",
    "# Probabilities for each class\n",
    "rf_probs = rf_model.predict_proba(X_val)[:, 1]"
   ]
  },
  {
   "cell_type": "code",
   "execution_count": 28,
   "metadata": {},
   "outputs": [],
   "source": [
    "from xgboost import XGBClassifier\n",
    "from xgboost import plot_tree\n",
    "\n",
    "xgb_model = XGBClassifier(max_depth=3, n_estimators=3000, learning_rate=0.0015)\n",
    "xgb_model.fit(X_train, y_train)\n",
    "xgb_predictions = xgb_model.predict(X_val)\n",
    "xgb_probs = xgb_model.predict_proba(X_val)[:, 1]"
   ]
  },
  {
   "cell_type": "code",
   "execution_count": 29,
   "metadata": {},
   "outputs": [
    {
     "data": {
      "image/png": "[encoded data removed]",
      "text/plain": [
       "<Figure size 720x360 with 1 Axes>"
      ]
     },
     "metadata": {
      "needs_background": "light"
     },
     "output_type": "display_data"
    }
   ],
   "source": [
    "from sklearn.metrics import roc_curve, auc\n",
    "#Pos_label事先定義好\n",
    "fpr, tpr, threshold =roc_curve(y_val, lr_probs)\n",
    "roc_auc = auc(fpr, tpr)\n",
    "fpr0, tpr0, threshold0 =roc_curve(y_val, tree_probs)\n",
    "roc_auc0 = auc(fpr0, tpr0)\n",
    "fpr1, tpr1, threshold1 =roc_curve(y_val, rf_probs)\n",
    "roc_auc1 = auc(fpr1, tpr1)\n",
    "fpr2, tpr2, threshold2 =roc_curve(y_val, xgb_probs)\n",
    "roc_auc2 = auc(fpr2, tpr2)\n",
    "\n",
    "plt.figure(figsize=(10,5))\n",
    "plt.plot(fpr, tpr, color='darkorange',\n",
    "             label='LR ROC curve (AUC = %0.2f)'%roc_auc)#四捨五入到小數點第二位\n",
    "plt.plot(fpr0, tpr0, 'm',\n",
    "             label='Tree ROC curve (AUC = %0.2f)'%roc_auc0)#四捨五入到小數點第二位\n",
    "plt.plot(fpr1, tpr1, 'y',\n",
    "             label='RF ROC curve (AUC = %0.2f)'%roc_auc1)#四捨五入到小數點第二位\n",
    "plt.plot(fpr2, tpr2, 'b',\n",
    "             label='XGB ROC curve (AUC = %0.2f)'%roc_auc2)#四捨五入到小數點第二位\n",
    "\n",
    "plt.plot([0, 1], [0, 1], color='navy',linestyle='--')\n",
    "plt.xlabel('False Positive Rate')\n",
    "plt.ylabel('True Positive Rate')\n",
    "plt.title('Receiver operating characteristic example')\n",
    "plt.legend(loc=\"lower right\")\n",
    "plt.show()   "
   ]
  },
  {
   "cell_type": "code",
   "execution_count": 30,
   "metadata": {},
   "outputs": [
    {
     "data": {
      "text/plain": [
       "array([0., 0., 0., 0., 0., 0., 1., 0., 1., 0., 0., 0., 1., 0., 1., 1., 0.,\n",
       "       0., 1., 0., 0., 0., 1., 1., 1., 0., 1., 0., 0., 0., 0., 0., 0., 0.,\n",
       "       0., 0., 0., 0., 0., 0., 0., 0., 0., 1., 1., 0., 0., 0., 1., 0., 0.,\n",
       "       0., 1., 1., 0., 0., 0., 0., 0., 1., 0., 0., 0., 1., 1., 1., 1., 0.,\n",
       "       0., 1., 1., 0., 0., 0., 1., 0., 0., 1., 0., 1., 0., 0., 0., 0., 0.,\n",
       "       0., 1., 0., 1., 1., 0., 0., 1., 0., 1., 0., 1., 0., 0., 0., 1., 0.,\n",
       "       0., 0., 1., 0., 0., 0., 0., 0., 0., 1., 1., 1., 1., 0., 0., 1., 0.,\n",
       "       1., 1., 0., 1., 0., 0., 0., 0., 1., 0., 0., 0., 0., 0., 0., 0., 0.,\n",
       "       0., 0., 0., 0., 0., 1., 0., 0., 0., 0., 0., 0., 0., 0., 1., 0., 0.,\n",
       "       0., 0., 0., 1., 0., 0., 0., 1., 0., 1., 0., 0., 0., 0., 0., 1., 0.,\n",
       "       0., 0., 0., 0., 0., 1., 1., 0., 1., 1., 0., 0., 1., 0., 1., 0., 1.,\n",
       "       0., 0., 0., 0., 0., 0., 0., 1., 0., 1., 0., 0., 0., 1., 1., 0., 1.,\n",
       "       0., 0., 1., 0., 1., 0., 0., 0., 0., 1., 0., 0., 1., 0., 1., 0., 1.,\n",
       "       0., 1., 0., 1., 1., 0., 1., 0., 0., 0., 1., 0., 0., 0., 0., 0., 0.,\n",
       "       1., 1., 1., 1., 0., 0., 0., 0., 1., 0., 1., 1., 1., 0., 0., 0., 0.,\n",
       "       0., 0., 0., 1., 0., 0., 0., 1., 1., 0., 0., 0., 0., 0., 0., 0., 0.,\n",
       "       1., 1., 0., 1., 0., 0., 0., 0., 0., 1., 1., 1., 0., 0., 0., 0., 0.,\n",
       "       0., 0., 1., 0., 0., 0., 0., 1., 0., 0., 0., 0., 0., 0., 0., 1., 1.,\n",
       "       0., 1., 0., 0., 0., 0., 0., 1., 1., 1., 0., 0., 0., 0., 0., 0., 0.,\n",
       "       0., 1., 0., 1., 0., 0., 0., 1., 0., 0., 1., 0., 0., 0., 0., 0., 0.,\n",
       "       0., 0., 0., 1., 0., 0., 0., 0., 0., 1., 1., 0., 0., 0., 1., 0., 1.,\n",
       "       0., 0., 0., 0., 1., 1., 0., 1., 0., 0., 0., 1., 0., 0., 1., 0., 0.,\n",
       "       1., 1., 0., 0., 0., 1., 0., 0., 0., 0., 0., 1., 0., 0., 0., 0., 0.,\n",
       "       1., 0., 0., 0., 1., 0., 1., 0., 0., 1., 0., 1., 0., 0., 0., 0., 0.,\n",
       "       1., 1., 1., 1., 0., 0., 1., 0., 0., 0.])"
      ]
     },
     "execution_count": 30,
     "metadata": {},
     "output_type": "execute_result"
    }
   ],
   "source": [
    "X_test =test_data[['Pclass', 'Age', 'Embarked_C',\n",
    "       'Embarked_Q', 'Embarked_S','Sex']]\n",
    "xgb_predict = xgb_model.predict(X_test)\n",
    "xgb_predict"
   ]
  },
  {
   "cell_type": "code",
   "execution_count": 31,
   "metadata": {},
   "outputs": [],
   "source": [
    "submit = pd.read_csv('/Users/jimmyfu87/JupyterNotebook/Dataset/titanic/gender_submission.csv')\n",
    "submit['Survived'] = xgb_predict\n",
    "submit['Survived'] = submit['Survived'].astype(int)\n",
    "submit.to_csv('/Users/jimmyfu87/JupyterNotebook/Submit_result/submit_titanic.csv', index= False)"
   ]
  },
  {
   "cell_type": "markdown",
   "metadata": {},
   "source": [
    "# XGB Kaggle_score=0.76555"
   ]
  },
  {
   "cell_type": "markdown",
   "metadata": {},
   "source": [
    "# Deep Learning(Keras)"
   ]
  },
  {
   "cell_type": "code",
   "execution_count": 32,
   "metadata": {},
   "outputs": [
    {
     "name": "stderr",
     "output_type": "stream",
     "text": [
      "Using TensorFlow backend.\n"
     ]
    },
    {
     "name": "stdout",
     "output_type": "stream",
     "text": [
      "Model: \"sequential_1\"\n",
      "_________________________________________________________________\n",
      "Layer (type)                 Output Shape              Param #   \n",
      "=================================================================\n",
      "dense_1 (Dense)              (None, 10)                70        \n",
      "_________________________________________________________________\n",
      "dense_2 (Dense)              (None, 10)                110       \n",
      "_________________________________________________________________\n",
      "dropout_1 (Dropout)          (None, 10)                0         \n",
      "_________________________________________________________________\n",
      "dense_3 (Dense)              (None, 20)                220       \n",
      "_________________________________________________________________\n",
      "dense_4 (Dense)              (None, 1)                 21        \n",
      "=================================================================\n",
      "Total params: 421\n",
      "Trainable params: 421\n",
      "Non-trainable params: 0\n",
      "_________________________________________________________________\n"
     ]
    }
   ],
   "source": [
    "#建立模型\n",
    "from keras.models import Sequential\n",
    "from keras.layers import Dense,Dropout\n",
    "model=Sequential()\n",
    "model.add(Dense(units=10,input_dim=X_train.shape[1],kernel_initializer='uniform',activation='relu'))\n",
    "model.add(Dense(units=10,kernel_initializer='uniform',activation='relu'))\n",
    "model.add(Dropout(0.2))\n",
    "model.add(Dense(units=20,kernel_initializer='uniform',activation='relu'))\n",
    "model.add(Dense(units=1,kernel_initializer='uniform',activation='relu'))\n",
    "model.summary()"
   ]
  },
  {
   "cell_type": "code",
   "execution_count": 33,
   "metadata": {},
   "outputs": [],
   "source": [
    "from keras.optimizers import Adam\n",
    "from keras.metrics import binary_crossentropy\n",
    "model.compile(Adam(lr=.0001), loss='binary_crossentropy', metrics=['accuracy'])"
   ]
  },
  {
   "cell_type": "code",
   "execution_count": 34,
   "metadata": {},
   "outputs": [
    {
     "name": "stdout",
     "output_type": "stream",
     "text": [
      "Train on 436 samples, validate on 187 samples\n",
      "Epoch 1/100\n",
      "436/436 [==============================] - 1s 2ms/step - loss: 2.7460 - accuracy: 0.5986 - val_loss: 2.0565 - val_accuracy: 0.6631\n",
      "Epoch 2/100\n",
      "436/436 [==============================] - 0s 473us/step - loss: 2.3684 - accuracy: 0.5986 - val_loss: 1.9159 - val_accuracy: 0.6631\n",
      "Epoch 3/100\n",
      "436/436 [==============================] - 0s 461us/step - loss: 2.2144 - accuracy: 0.5986 - val_loss: 1.7904 - val_accuracy: 0.6631\n",
      "Epoch 4/100\n",
      "436/436 [==============================] - 0s 488us/step - loss: 2.0697 - accuracy: 0.5986 - val_loss: 1.6776 - val_accuracy: 0.6631\n",
      "Epoch 5/100\n",
      "436/436 [==============================] - 0s 387us/step - loss: 1.9303 - accuracy: 0.5986 - val_loss: 1.5684 - val_accuracy: 0.6631\n",
      "Epoch 6/100\n",
      "436/436 [==============================] - 0s 326us/step - loss: 1.8156 - accuracy: 0.5986 - val_loss: 1.4797 - val_accuracy: 0.6631\n",
      "Epoch 7/100\n",
      "436/436 [==============================] - 0s 384us/step - loss: 1.7143 - accuracy: 0.5986 - val_loss: 1.4022 - val_accuracy: 0.6631\n",
      "Epoch 8/100\n",
      "436/436 [==============================] - 0s 338us/step - loss: 1.6197 - accuracy: 0.5986 - val_loss: 1.3283 - val_accuracy: 0.6631\n",
      "Epoch 9/100\n",
      "436/436 [==============================] - 0s 317us/step - loss: 1.5405 - accuracy: 0.5986 - val_loss: 1.2594 - val_accuracy: 0.6631\n",
      "Epoch 10/100\n",
      "436/436 [==============================] - 0s 375us/step - loss: 1.4624 - accuracy: 0.5986 - val_loss: 1.1924 - val_accuracy: 0.6631\n",
      "Epoch 11/100\n",
      "436/436 [==============================] - 0s 279us/step - loss: 1.3678 - accuracy: 0.5986 - val_loss: 1.1261 - val_accuracy: 0.6631\n",
      "Epoch 12/100\n",
      "436/436 [==============================] - 0s 365us/step - loss: 1.2908 - accuracy: 0.5986 - val_loss: 1.0637 - val_accuracy: 0.6631\n",
      "Epoch 13/100\n",
      "436/436 [==============================] - 0s 283us/step - loss: 1.2228 - accuracy: 0.5986 - val_loss: 1.0041 - val_accuracy: 0.6631\n",
      "Epoch 14/100\n",
      "436/436 [==============================] - 0s 404us/step - loss: 1.1295 - accuracy: 0.5986 - val_loss: 0.9360 - val_accuracy: 0.6631\n",
      "Epoch 15/100\n",
      "436/436 [==============================] - 0s 450us/step - loss: 1.0514 - accuracy: 0.5986 - val_loss: 0.8797 - val_accuracy: 0.6631\n",
      "Epoch 16/100\n",
      "436/436 [==============================] - 0s 565us/step - loss: 0.9809 - accuracy: 0.5986 - val_loss: 0.8305 - val_accuracy: 0.6631\n",
      "Epoch 17/100\n",
      "436/436 [==============================] - 0s 359us/step - loss: 0.9288 - accuracy: 0.5986 - val_loss: 0.7955 - val_accuracy: 0.6631\n",
      "Epoch 18/100\n",
      "436/436 [==============================] - 0s 342us/step - loss: 0.8896 - accuracy: 0.5986 - val_loss: 0.7678 - val_accuracy: 0.6631\n",
      "Epoch 19/100\n",
      "436/436 [==============================] - 0s 517us/step - loss: 0.8487 - accuracy: 0.5986 - val_loss: 0.7460 - val_accuracy: 0.6631\n",
      "Epoch 20/100\n",
      "436/436 [==============================] - 0s 512us/step - loss: 0.8254 - accuracy: 0.5986 - val_loss: 0.7297 - val_accuracy: 0.6631\n",
      "Epoch 21/100\n",
      "436/436 [==============================] - 0s 526us/step - loss: 0.7970 - accuracy: 0.5986 - val_loss: 0.7199 - val_accuracy: 0.6631\n",
      "Epoch 22/100\n",
      "436/436 [==============================] - 0s 471us/step - loss: 0.7937 - accuracy: 0.5963 - val_loss: 0.7124 - val_accuracy: 0.6524\n",
      "Epoch 23/100\n",
      "436/436 [==============================] - 0s 427us/step - loss: 0.7741 - accuracy: 0.5757 - val_loss: 0.7091 - val_accuracy: 0.6471\n",
      "Epoch 24/100\n",
      "436/436 [==============================] - 0s 404us/step - loss: 0.7524 - accuracy: 0.5826 - val_loss: 0.7077 - val_accuracy: 0.6524\n",
      "Epoch 25/100\n",
      "436/436 [==============================] - 0s 333us/step - loss: 0.7582 - accuracy: 0.5757 - val_loss: 0.7074 - val_accuracy: 0.6524\n",
      "Epoch 26/100\n",
      "436/436 [==============================] - 0s 457us/step - loss: 0.7568 - accuracy: 0.5849 - val_loss: 0.7074 - val_accuracy: 0.6364\n",
      "Epoch 27/100\n",
      "436/436 [==============================] - 0s 510us/step - loss: 0.7632 - accuracy: 0.5711 - val_loss: 0.7073 - val_accuracy: 0.6310\n",
      "Epoch 28/100\n",
      "436/436 [==============================] - 0s 337us/step - loss: 0.7548 - accuracy: 0.5665 - val_loss: 0.7076 - val_accuracy: 0.6257\n",
      "Epoch 29/100\n",
      "436/436 [==============================] - 0s 324us/step - loss: 0.7757 - accuracy: 0.5482 - val_loss: 0.7056 - val_accuracy: 0.6310\n",
      "Epoch 30/100\n",
      "436/436 [==============================] - 0s 290us/step - loss: 0.7720 - accuracy: 0.5573 - val_loss: 0.7046 - val_accuracy: 0.6310\n",
      "Epoch 31/100\n",
      "436/436 [==============================] - 0s 466us/step - loss: 0.7624 - accuracy: 0.5711 - val_loss: 0.7040 - val_accuracy: 0.6310\n",
      "Epoch 32/100\n",
      "436/436 [==============================] - 0s 469us/step - loss: 0.7487 - accuracy: 0.5596 - val_loss: 0.7044 - val_accuracy: 0.6257\n",
      "Epoch 33/100\n",
      "436/436 [==============================] - 0s 536us/step - loss: 0.7523 - accuracy: 0.5642 - val_loss: 0.7033 - val_accuracy: 0.6257\n",
      "Epoch 34/100\n",
      "436/436 [==============================] - 0s 449us/step - loss: 0.7519 - accuracy: 0.5849 - val_loss: 0.7028 - val_accuracy: 0.6257\n",
      "Epoch 35/100\n",
      "436/436 [==============================] - 0s 517us/step - loss: 0.7583 - accuracy: 0.5711 - val_loss: 0.7018 - val_accuracy: 0.6257\n",
      "Epoch 36/100\n",
      "436/436 [==============================] - 0s 503us/step - loss: 0.7287 - accuracy: 0.5688 - val_loss: 0.7019 - val_accuracy: 0.6257\n",
      "Epoch 37/100\n",
      "436/436 [==============================] - 0s 343us/step - loss: 0.7411 - accuracy: 0.5642 - val_loss: 0.7012 - val_accuracy: 0.6257\n",
      "Epoch 38/100\n",
      "436/436 [==============================] - 0s 313us/step - loss: 0.7481 - accuracy: 0.5780 - val_loss: 0.7000 - val_accuracy: 0.6257\n",
      "Epoch 39/100\n",
      "436/436 [==============================] - 0s 749us/step - loss: 0.7441 - accuracy: 0.6032 - val_loss: 0.6994 - val_accuracy: 0.6257\n",
      "Epoch 40/100\n",
      "436/436 [==============================] - 0s 493us/step - loss: 0.7509 - accuracy: 0.5780 - val_loss: 0.6977 - val_accuracy: 0.6257\n",
      "Epoch 41/100\n",
      "436/436 [==============================] - 0s 390us/step - loss: 0.7565 - accuracy: 0.5550 - val_loss: 0.6965 - val_accuracy: 0.6310\n",
      "Epoch 42/100\n",
      "436/436 [==============================] - 0s 534us/step - loss: 0.7430 - accuracy: 0.5688 - val_loss: 0.6955 - val_accuracy: 0.6310\n",
      "Epoch 43/100\n",
      "436/436 [==============================] - 0s 448us/step - loss: 0.7345 - accuracy: 0.5688 - val_loss: 0.6962 - val_accuracy: 0.6257\n",
      "Epoch 44/100\n",
      "436/436 [==============================] - 0s 404us/step - loss: 0.7490 - accuracy: 0.5780 - val_loss: 0.6950 - val_accuracy: 0.6257\n",
      "Epoch 45/100\n",
      "436/436 [==============================] - 0s 327us/step - loss: 0.7361 - accuracy: 0.5780 - val_loss: 0.6946 - val_accuracy: 0.6203\n",
      "Epoch 46/100\n",
      "436/436 [==============================] - 0s 330us/step - loss: 0.7400 - accuracy: 0.5734 - val_loss: 0.6929 - val_accuracy: 0.6310\n",
      "Epoch 47/100\n",
      "436/436 [==============================] - 0s 344us/step - loss: 0.7384 - accuracy: 0.5688 - val_loss: 0.6930 - val_accuracy: 0.6203\n",
      "Epoch 48/100\n",
      "436/436 [==============================] - 0s 311us/step - loss: 0.7309 - accuracy: 0.5734 - val_loss: 0.6926 - val_accuracy: 0.6203\n",
      "Epoch 49/100\n",
      "436/436 [==============================] - 0s 318us/step - loss: 0.7459 - accuracy: 0.5573 - val_loss: 0.6900 - val_accuracy: 0.6310\n",
      "Epoch 50/100\n",
      "436/436 [==============================] - 0s 510us/step - loss: 0.7286 - accuracy: 0.5573 - val_loss: 0.6897 - val_accuracy: 0.6310\n",
      "Epoch 51/100\n",
      "436/436 [==============================] - 0s 359us/step - loss: 0.7244 - accuracy: 0.5826 - val_loss: 0.6886 - val_accuracy: 0.6310\n",
      "Epoch 52/100\n",
      "436/436 [==============================] - 0s 246us/step - loss: 0.7453 - accuracy: 0.5734 - val_loss: 0.6868 - val_accuracy: 0.6364\n",
      "Epoch 53/100\n",
      "436/436 [==============================] - 0s 293us/step - loss: 0.7175 - accuracy: 0.5940 - val_loss: 0.6874 - val_accuracy: 0.6257\n",
      "Epoch 54/100\n",
      "436/436 [==============================] - 0s 324us/step - loss: 0.7231 - accuracy: 0.5917 - val_loss: 0.6872 - val_accuracy: 0.6203\n",
      "Epoch 55/100\n",
      "436/436 [==============================] - 0s 304us/step - loss: 0.7249 - accuracy: 0.5757 - val_loss: 0.6862 - val_accuracy: 0.6257\n",
      "Epoch 56/100\n",
      "436/436 [==============================] - 0s 391us/step - loss: 0.7130 - accuracy: 0.5917 - val_loss: 0.6850 - val_accuracy: 0.6257\n"
     ]
    },
    {
     "name": "stdout",
     "output_type": "stream",
     "text": [
      "Epoch 57/100\n",
      "436/436 [==============================] - 0s 328us/step - loss: 0.7298 - accuracy: 0.5757 - val_loss: 0.6829 - val_accuracy: 0.6364\n",
      "Epoch 58/100\n",
      "436/436 [==============================] - 0s 325us/step - loss: 0.7115 - accuracy: 0.5917 - val_loss: 0.6825 - val_accuracy: 0.6310\n",
      "Epoch 59/100\n",
      "436/436 [==============================] - 0s 264us/step - loss: 0.7358 - accuracy: 0.5573 - val_loss: 0.6810 - val_accuracy: 0.6310\n",
      "Epoch 60/100\n",
      "436/436 [==============================] - 0s 382us/step - loss: 0.7281 - accuracy: 0.5711 - val_loss: 0.6791 - val_accuracy: 0.6524\n",
      "Epoch 61/100\n",
      "436/436 [==============================] - 0s 276us/step - loss: 0.7286 - accuracy: 0.5803 - val_loss: 0.6786 - val_accuracy: 0.6524\n",
      "Epoch 62/100\n",
      "436/436 [==============================] - 0s 277us/step - loss: 0.7300 - accuracy: 0.5665 - val_loss: 0.6772 - val_accuracy: 0.6524\n",
      "Epoch 63/100\n",
      "436/436 [==============================] - 0s 396us/step - loss: 0.7294 - accuracy: 0.5711 - val_loss: 0.6753 - val_accuracy: 0.6524\n",
      "Epoch 64/100\n",
      "436/436 [==============================] - 0s 311us/step - loss: 0.7412 - accuracy: 0.5665 - val_loss: 0.6739 - val_accuracy: 0.6524\n",
      "Epoch 65/100\n",
      "436/436 [==============================] - 0s 346us/step - loss: 0.7121 - accuracy: 0.5986 - val_loss: 0.6744 - val_accuracy: 0.6471\n",
      "Epoch 66/100\n",
      "436/436 [==============================] - 0s 285us/step - loss: 0.7170 - accuracy: 0.5734 - val_loss: 0.6735 - val_accuracy: 0.6471\n",
      "Epoch 67/100\n",
      "436/436 [==============================] - 0s 280us/step - loss: 0.7248 - accuracy: 0.5757 - val_loss: 0.6725 - val_accuracy: 0.6471\n",
      "Epoch 68/100\n",
      "436/436 [==============================] - 0s 332us/step - loss: 0.7372 - accuracy: 0.5619 - val_loss: 0.6707 - val_accuracy: 0.6471\n",
      "Epoch 69/100\n",
      "436/436 [==============================] - 0s 318us/step - loss: 0.7088 - accuracy: 0.5894 - val_loss: 0.6693 - val_accuracy: 0.6524\n",
      "Epoch 70/100\n",
      "436/436 [==============================] - 0s 363us/step - loss: 0.7089 - accuracy: 0.5734 - val_loss: 0.6670 - val_accuracy: 0.6524\n",
      "Epoch 71/100\n",
      "436/436 [==============================] - 0s 306us/step - loss: 0.7180 - accuracy: 0.5757 - val_loss: 0.6670 - val_accuracy: 0.6471\n",
      "Epoch 72/100\n",
      "436/436 [==============================] - 0s 324us/step - loss: 0.6861 - accuracy: 0.6009 - val_loss: 0.6658 - val_accuracy: 0.6471\n",
      "Epoch 73/100\n",
      "436/436 [==============================] - 0s 390us/step - loss: 0.6970 - accuracy: 0.5780 - val_loss: 0.6652 - val_accuracy: 0.6471\n",
      "Epoch 74/100\n",
      "436/436 [==============================] - 0s 266us/step - loss: 0.7002 - accuracy: 0.5872 - val_loss: 0.6643 - val_accuracy: 0.6471\n",
      "Epoch 75/100\n",
      "436/436 [==============================] - 0s 273us/step - loss: 0.6985 - accuracy: 0.5803 - val_loss: 0.6624 - val_accuracy: 0.6471\n",
      "Epoch 76/100\n",
      "436/436 [==============================] - 0s 275us/step - loss: 0.7111 - accuracy: 0.5734 - val_loss: 0.6612 - val_accuracy: 0.6471\n",
      "Epoch 77/100\n",
      "436/436 [==============================] - 0s 264us/step - loss: 0.7035 - accuracy: 0.5803 - val_loss: 0.6596 - val_accuracy: 0.6471\n",
      "Epoch 78/100\n",
      "436/436 [==============================] - 0s 270us/step - loss: 0.6900 - accuracy: 0.6009 - val_loss: 0.6583 - val_accuracy: 0.6471\n",
      "Epoch 79/100\n",
      "436/436 [==============================] - 0s 275us/step - loss: 0.6910 - accuracy: 0.5963 - val_loss: 0.6569 - val_accuracy: 0.6471\n",
      "Epoch 80/100\n",
      "436/436 [==============================] - 0s 276us/step - loss: 0.6979 - accuracy: 0.5688 - val_loss: 0.6565 - val_accuracy: 0.6471\n",
      "Epoch 81/100\n",
      "436/436 [==============================] - 0s 351us/step - loss: 0.6913 - accuracy: 0.5849 - val_loss: 0.6550 - val_accuracy: 0.6471\n",
      "Epoch 82/100\n",
      "436/436 [==============================] - 0s 357us/step - loss: 0.6824 - accuracy: 0.5872 - val_loss: 0.6524 - val_accuracy: 0.6524\n",
      "Epoch 83/100\n",
      "436/436 [==============================] - 0s 322us/step - loss: 0.6876 - accuracy: 0.5963 - val_loss: 0.6537 - val_accuracy: 0.6471\n",
      "Epoch 84/100\n",
      "436/436 [==============================] - 0s 312us/step - loss: 0.6842 - accuracy: 0.6009 - val_loss: 0.6513 - val_accuracy: 0.6471\n",
      "Epoch 85/100\n",
      "436/436 [==============================] - 0s 319us/step - loss: 0.6872 - accuracy: 0.5894 - val_loss: 0.6499 - val_accuracy: 0.6471\n",
      "Epoch 86/100\n",
      "436/436 [==============================] - 0s 312us/step - loss: 0.6870 - accuracy: 0.5780 - val_loss: 0.6462 - val_accuracy: 0.6578\n",
      "Epoch 87/100\n",
      "436/436 [==============================] - 0s 312us/step - loss: 0.6792 - accuracy: 0.5963 - val_loss: 0.6462 - val_accuracy: 0.6578\n",
      "Epoch 88/100\n",
      "436/436 [==============================] - 0s 396us/step - loss: 0.6753 - accuracy: 0.6078 - val_loss: 0.6450 - val_accuracy: 0.6578\n",
      "Epoch 89/100\n",
      "436/436 [==============================] - 0s 327us/step - loss: 0.6629 - accuracy: 0.6078 - val_loss: 0.6436 - val_accuracy: 0.6578\n",
      "Epoch 90/100\n",
      "436/436 [==============================] - 0s 331us/step - loss: 0.6671 - accuracy: 0.6101 - val_loss: 0.6420 - val_accuracy: 0.6578\n",
      "Epoch 91/100\n",
      "436/436 [==============================] - 0s 293us/step - loss: 0.6690 - accuracy: 0.6124 - val_loss: 0.6402 - val_accuracy: 0.6578\n",
      "Epoch 92/100\n",
      "436/436 [==============================] - 0s 351us/step - loss: 0.6692 - accuracy: 0.5894 - val_loss: 0.6374 - val_accuracy: 0.6578\n",
      "Epoch 93/100\n",
      "436/436 [==============================] - 0s 335us/step - loss: 0.6739 - accuracy: 0.6009 - val_loss: 0.6350 - val_accuracy: 0.6631\n",
      "Epoch 94/100\n",
      "436/436 [==============================] - 0s 334us/step - loss: 0.6675 - accuracy: 0.5963 - val_loss: 0.6327 - val_accuracy: 0.6684\n",
      "Epoch 95/100\n",
      "436/436 [==============================] - 0s 321us/step - loss: 0.6569 - accuracy: 0.6193 - val_loss: 0.6320 - val_accuracy: 0.6631\n",
      "Epoch 96/100\n",
      "436/436 [==============================] - 0s 325us/step - loss: 0.6610 - accuracy: 0.6193 - val_loss: 0.6297 - val_accuracy: 0.6684\n",
      "Epoch 97/100\n",
      "436/436 [==============================] - 0s 366us/step - loss: 0.6619 - accuracy: 0.6078 - val_loss: 0.6279 - val_accuracy: 0.6684\n",
      "Epoch 98/100\n",
      "436/436 [==============================] - 0s 301us/step - loss: 0.6534 - accuracy: 0.6422 - val_loss: 0.6260 - val_accuracy: 0.6684\n",
      "Epoch 99/100\n",
      "436/436 [==============================] - 0s 327us/step - loss: 0.6580 - accuracy: 0.6193 - val_loss: 0.6232 - val_accuracy: 0.6684\n",
      "Epoch 100/100\n",
      "436/436 [==============================] - 0s 282us/step - loss: 0.6644 - accuracy: 0.6193 - val_loss: 0.6208 - val_accuracy: 0.6631\n"
     ]
    }
   ],
   "source": [
    "train_history=model.fit(x=X_train,y=y_train,validation_split=0.3,epochs=100,batch_size=10,verbose=1)"
   ]
  },
  {
   "cell_type": "code",
   "execution_count": 35,
   "metadata": {},
   "outputs": [],
   "source": [
    "import matplotlib.pyplot as plt\n",
    "def show_train_history(train_history,train,validation):\n",
    "    plt.plot(train_history.history[train])\n",
    "    plt.plot(train_history.history[validation])\n",
    "    plt.title('Train History')\n",
    "    plt.ylabel(train)\n",
    "    plt.xlabel('Epoch')\n",
    "    plt.legend(['train','validation'],loc='upper left')\n",
    "    plt.show()"
   ]
  },
  {
   "cell_type": "code",
   "execution_count": 36,
   "metadata": {},
   "outputs": [
    {
     "data": {
      "image/png": "[encoded data removed]",
      "text/plain": [
       "<Figure size 432x288 with 1 Axes>"
      ]
     },
     "metadata": {
      "needs_background": "light"
     },
     "output_type": "display_data"
    }
   ],
   "source": [
    "show_train_history(train_history,'accuracy','val_accuracy')"
   ]
  },
  {
   "cell_type": "code",
   "execution_count": 37,
   "metadata": {},
   "outputs": [
    {
     "data": {
      "image/png": "[encoded data removed]",
      "text/plain": [
       "<Figure size 432x288 with 1 Axes>"
      ]
     },
     "metadata": {
      "needs_background": "light"
     },
     "output_type": "display_data"
    }
   ],
   "source": [
    "show_train_history(train_history,'loss','val_loss')"
   ]
  },
  {
   "cell_type": "markdown",
   "metadata": {},
   "source": [
    "# ROC v.s Sklearn model"
   ]
  },
  {
   "cell_type": "code",
   "execution_count": 38,
   "metadata": {},
   "outputs": [
    {
     "name": "stdout",
     "output_type": "stream",
     "text": [
      "268/268 [==============================] - 0s 272us/step\n"
     ]
    }
   ],
   "source": [
    "deep_val=model.predict(X_val, batch_size=5, verbose=1)\n",
    "fpr_keras, tpr_keras, thresholds_keras = roc_curve(y_val, deep_val)\n",
    "roc_auc_keras = auc(fpr_keras, tpr_keras)"
   ]
  },
  {
   "cell_type": "code",
   "execution_count": 39,
   "metadata": {},
   "outputs": [
    {
     "data": {
      "image/png": "[encoded data removed]",
      "text/plain": [
       "<Figure size 720x360 with 1 Axes>"
      ]
     },
     "metadata": {
      "needs_background": "light"
     },
     "output_type": "display_data"
    }
   ],
   "source": [
    "from sklearn.metrics import roc_curve, auc\n",
    "#Pos_label事先定義好\n",
    "fpr, tpr, threshold =roc_curve(y_val, lr_probs)\n",
    "roc_auc = auc(fpr, tpr)\n",
    "fpr0, tpr0, threshold0 =roc_curve(y_val, tree_probs)\n",
    "roc_auc0 = auc(fpr0, tpr0)\n",
    "fpr1, tpr1, threshold1 =roc_curve(y_val, rf_probs)\n",
    "roc_auc1 = auc(fpr1, tpr1)\n",
    "fpr2, tpr2, threshold2 =roc_curve(y_val, xgb_probs)\n",
    "roc_auc2 = auc(fpr2, tpr2)\n",
    "\n",
    "plt.figure(figsize=(10,5))\n",
    "plt.plot(fpr, tpr, color='darkorange',\n",
    "             label='LR ROC curve (AUC = %0.2f)'%roc_auc)#四捨五入到小數點第二位\n",
    "plt.plot(fpr0, tpr0, 'm',\n",
    "             label='Tree ROC curve (AUC = %0.2f)'%roc_auc0)#四捨五入到小數點第二位\n",
    "plt.plot(fpr1, tpr1, 'y',\n",
    "             label='RF ROC curve (AUC = %0.2f)'%roc_auc1)#四捨五入到小數點第二位\n",
    "plt.plot(fpr2, tpr2, 'b',\n",
    "             label='XGB ROC curve (AUC = %0.2f)'%roc_auc2)#四捨五入到小數點第二位\n",
    "plt.plot(fpr_keras, tpr_keras,'g',\n",
    "             label='Keras ROC curve (AUC = %0.2f)'%roc_auc_keras)#四捨五入到小數點第二位\n",
    "\n",
    "\n",
    "plt.plot([0, 1], [0, 1], color='navy',linestyle='--')\n",
    "plt.xlabel('False Positive Rate')\n",
    "plt.ylabel('True Positive Rate')\n",
    "plt.title('Receiver operating characteristic example')\n",
    "plt.legend(loc=\"lower right\")\n",
    "plt.show()   "
   ]
  },
  {
   "cell_type": "markdown",
   "metadata": {},
   "source": [
    "# Prediction"
   ]
  },
  {
   "cell_type": "code",
   "execution_count": 40,
   "metadata": {},
   "outputs": [
    {
     "name": "stdout",
     "output_type": "stream",
     "text": [
      "418/418 [==============================] - 0s 285us/step\n"
     ]
    }
   ],
   "source": [
    "deep_predict=model.predict(X_test, batch_size=5, verbose=1)"
   ]
  },
  {
   "cell_type": "code",
   "execution_count": 41,
   "metadata": {},
   "outputs": [],
   "source": [
    "for i in range(deep_predict.shape[0]):\n",
    "    if deep_predict[i] >=0.5:\n",
    "        deep_predict[i]=1\n",
    "    else:\n",
    "        deep_predict[i]=0"
   ]
  },
  {
   "cell_type": "code",
   "execution_count": 42,
   "metadata": {},
   "outputs": [],
   "source": [
    "submit_deep = pd.read_csv('/Users/jimmyfu87/JupyterNotebook/Dataset/titanic/gender_submission.csv')\n",
    "submit['Survived'] = deep_predict\n",
    "submit['Survived'] = submit['Survived'].astype(int)\n",
    "submit.to_csv('/Users/jimmyfu87/JupyterNotebook/Submit_result/submit_titanic_deep.csv', index= False)"
   ]
  },
  {
   "cell_type": "markdown",
   "metadata": {},
   "source": [
    "# DeepLearning Kaggle_score=0.76076"
   ]
  }
 ],
 "metadata": {
  "kernelspec": {
   "display_name": "Python 3",
   "language": "python",
   "name": "python3"
  },
  "language_info": {
   "codemirror_mode": {
    "name": "ipython",
    "version": 3
   },
   "file_extension": ".py",
   "mimetype": "text/x-python",
   "name": "python",
   "nbconvert_exporter": "python",
   "pygments_lexer": "ipython3",
   "version": "3.7.3"
  }
 },
 "nbformat": 4,
 "nbformat_minor": 2
}
