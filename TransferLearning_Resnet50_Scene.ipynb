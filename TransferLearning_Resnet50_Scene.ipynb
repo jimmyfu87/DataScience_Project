{
 "cells": [
  {
   "cell_type": "code",
   "execution_count": 1,
   "metadata": {},
   "outputs": [
    {
     "name": "stderr",
     "output_type": "stream",
     "text": [
      "Using TensorFlow backend.\n"
     ]
    }
   ],
   "source": [
    "import numpy as np\n",
    "import keras\n",
    "from keras import backend as K\n",
    "from keras.models import Sequential\n",
    "from keras.layers import Activation,Dropout\n",
    "from keras.layers.core import Dense, Flatten\n",
    "from keras.optimizers import Adam\n",
    "from keras.metrics import categorical_crossentropy\n",
    "from keras.preprocessing.image import ImageDataGenerator\n",
    "from keras.layers.normalization import BatchNormalization\n",
    "from keras.layers.convolutional import *\n",
    "from sklearn.metrics import confusion_matrix\n",
    "from keras.models import load_model\n",
    "import itertools\n",
    "import matplotlib.pyplot as plt\n",
    "from PIL import Image\n",
    "from keras.preprocessing import image\n",
    "from keras.applications import vgg16\n"
   ]
  },
  {
   "cell_type": "code",
   "execution_count": 2,
   "metadata": {},
   "outputs": [],
   "source": [
    "train_path = '/Users/jimmyfu87/JupyterNotebook/Dataset/intel-image-classification/small/seg_train/seg_train'\n",
    "valid_path = '/Users/jimmyfu87/JupyterNotebook/Dataset/intel-image-classification/small/seg_test/seg_test'\n",
    "#test_path = '/Users/jimmyfu87/Documents/JupyterNotebook/Dataset/intel-image-classification/seg_pred/seg_pred'"
   ]
  },
  {
   "cell_type": "code",
   "execution_count": 3,
   "metadata": {},
   "outputs": [
    {
     "name": "stdout",
     "output_type": "stream",
     "text": [
      "Found 357 images belonging to 6 classes.\n",
      "Found 196 images belonging to 6 classes.\n"
     ]
    }
   ],
   "source": [
    "train_batches = ImageDataGenerator().flow_from_directory(train_path, target_size=(224,224), classes=['buildings', 'forest','glacier','mountain','sea','street'],batch_size=8)\n",
    "valid_batches = ImageDataGenerator().flow_from_directory(valid_path, target_size=(224,224), classes=['buildings', 'forest','glacier','mountain','sea','street'],batch_size=8)\n",
    "#test_batches = ImageDataGenerator().flow_from_directory(test_path, target_size=(224,224), classes=['buildings', 'forest','glacier','mountain','sea','street'])"
   ]
  },
  {
   "cell_type": "code",
   "execution_count": 4,
   "metadata": {},
   "outputs": [
    {
     "name": "stdout",
     "output_type": "stream",
     "text": [
      "45\n"
     ]
    }
   ],
   "source": [
    "print(len(train_batches))"
   ]
  },
  {
   "cell_type": "markdown",
   "metadata": {},
   "source": [
    "# Resnet50 "
   ]
  },
  {
   "cell_type": "code",
   "execution_count": 5,
   "metadata": {},
   "outputs": [],
   "source": [
    "# vgg19_model = keras.applications.vgg19.VGG19()\n",
    "resnet_model= keras.applications.resnet_v2.ResNet50V2()"
   ]
  },
  {
   "cell_type": "code",
   "execution_count": 6,
   "metadata": {},
   "outputs": [],
   "source": [
    "# model = Sequential()\n",
    "# for layer in vgg19_model.layers:\n",
    "#      model.add(layer)\n",
    "# model.summary()"
   ]
  },
  {
   "cell_type": "code",
   "execution_count": 7,
   "metadata": {},
   "outputs": [],
   "source": [
    "model = Sequential()\n",
    "model.add(resnet_model)\n",
    "#model.summary()\n",
    "# model = Sequential()\n",
    "# for layer in resnet_model.layers:\n",
    "#      model.add(layer)\n"
   ]
  },
  {
   "cell_type": "code",
   "execution_count": 8,
   "metadata": {},
   "outputs": [
    {
     "name": "stdout",
     "output_type": "stream",
     "text": [
      "Model: \"sequential_1\"\n",
      "_________________________________________________________________\n",
      "Layer (type)                 Output Shape              Param #   \n",
      "=================================================================\n",
      "resnet50v2 (Model)           (None, 1000)              25613800  \n",
      "=================================================================\n",
      "Total params: 25,613,800\n",
      "Trainable params: 25,568,360\n",
      "Non-trainable params: 45,440\n",
      "_________________________________________________________________\n"
     ]
    }
   ],
   "source": [
    "for layer in model.layers[:-1]:\n",
    "    layer.trainable = False\n",
    "model.summary()"
   ]
  },
  {
   "cell_type": "code",
   "execution_count": 9,
   "metadata": {},
   "outputs": [
    {
     "name": "stdout",
     "output_type": "stream",
     "text": [
      "Model: \"sequential_1\"\n",
      "_________________________________________________________________\n",
      "Layer (type)                 Output Shape              Param #   \n",
      "=================================================================\n",
      "resnet50v2 (Model)           (None, 1000)              25613800  \n",
      "_________________________________________________________________\n",
      "dense_1 (Dense)              (None, 6)                 6006      \n",
      "=================================================================\n",
      "Total params: 25,619,806\n",
      "Trainable params: 25,574,366\n",
      "Non-trainable params: 45,440\n",
      "_________________________________________________________________\n"
     ]
    }
   ],
   "source": [
    "model.add(Dense(6, activation='softmax'))\n",
    "model.summary()"
   ]
  },
  {
   "cell_type": "code",
   "execution_count": 10,
   "metadata": {},
   "outputs": [],
   "source": [
    "model.compile(Adam(lr=.00002122), loss='categorical_crossentropy', metrics=['accuracy'])\n",
    "#model.compile(optimizer='rmsprop', loss='categorical_crossentropy', metrics=['accuracy'])"
   ]
  },
  {
   "cell_type": "code",
   "execution_count": 12,
   "metadata": {},
   "outputs": [
    {
     "name": "stdout",
     "output_type": "stream",
     "text": [
      "Epoch 1/10\n",
      "45/45 [==============================] - 237s 5s/step - loss: 1.7372 - accuracy: 0.7199 - val_loss: 1.7354 - val_accuracy: 0.5833\n",
      "Epoch 2/10\n",
      "45/45 [==============================] - 238s 5s/step - loss: 1.7321 - accuracy: 0.7647 - val_loss: 1.7448 - val_accuracy: 0.5417\n",
      "Epoch 3/10\n",
      "45/45 [==============================] - 218s 5s/step - loss: 1.7253 - accuracy: 0.7479 - val_loss: 1.7208 - val_accuracy: 0.7083\n",
      "Epoch 4/10\n",
      "45/45 [==============================] - 205s 5s/step - loss: 1.7218 - accuracy: 0.7451 - val_loss: 1.7303 - val_accuracy: 0.5833\n",
      "Epoch 5/10\n",
      "45/45 [==============================] - 220s 5s/step - loss: 1.7165 - accuracy: 0.8011 - val_loss: 1.7223 - val_accuracy: 0.5833\n",
      "Epoch 6/10\n",
      "45/45 [==============================] - 242s 5s/step - loss: 1.7137 - accuracy: 0.8039 - val_loss: 1.7659 - val_accuracy: 0.5417\n",
      "Epoch 7/10\n",
      "45/45 [==============================] - 208s 5s/step - loss: 1.7112 - accuracy: 0.8235 - val_loss: 1.7427 - val_accuracy: 0.6250\n",
      "Epoch 8/10\n",
      "45/45 [==============================] - 210s 5s/step - loss: 1.7083 - accuracy: 0.8235 - val_loss: 1.7232 - val_accuracy: 0.6667\n",
      "Epoch 9/10\n",
      "45/45 [==============================] - 196s 4s/step - loss: 1.7053 - accuracy: 0.8347 - val_loss: 1.7129 - val_accuracy: 0.6500\n",
      "Epoch 10/10\n",
      "45/45 [==============================] - 202s 4s/step - loss: 1.7033 - accuracy: 0.8263 - val_loss: 1.7253 - val_accuracy: 0.5833\n"
     ]
    }
   ],
   "source": [
    "train_history=model.fit_generator(train_batches,validation_data=valid_batches,epochs=10,verbose=1,validation_steps=3)"
   ]
  },
  {
   "cell_type": "code",
   "execution_count": 13,
   "metadata": {},
   "outputs": [],
   "source": [
    "model.save(\"scene-resnet50.h5\")"
   ]
  },
  {
   "cell_type": "code",
   "execution_count": 14,
   "metadata": {},
   "outputs": [],
   "source": [
    "import matplotlib.pyplot as plt\n",
    "def show_train_history(train_history,train,validation):\n",
    "    plt.plot(train_history.history[train])\n",
    "    plt.plot(train_history.history[validation])\n",
    "    plt.title('Train History')\n",
    "    plt.ylabel(train)\n",
    "    plt.xlabel('Epoch')\n",
    "    plt.legend(['train','validation'],loc='upper left')\n",
    "    plt.show()"
   ]
  },
  {
   "cell_type": "code",
   "execution_count": 15,
   "metadata": {},
   "outputs": [
    {
     "data": {
      "image/png": "[encoded data removed]",
      "text/plain": [
       "<Figure size 432x288 with 1 Axes>"
      ]
     },
     "metadata": {
      "needs_background": "light"
     },
     "output_type": "display_data"
    }
   ],
   "source": [
    "show_train_history(train_history,'accuracy','val_accuracy')"
   ]
  },
  {
   "cell_type": "code",
   "execution_count": 16,
   "metadata": {},
   "outputs": [
    {
     "data": {
      "image/png": "[encoded data removed]",
      "text/plain": [
       "<Figure size 432x288 with 1 Axes>"
      ]
     },
     "metadata": {
      "needs_background": "light"
     },
     "output_type": "display_data"
    }
   ],
   "source": [
    "show_train_history(train_history,'loss','val_loss')"
   ]
  },
  {
   "cell_type": "code",
   "execution_count": null,
   "metadata": {},
   "outputs": [],
   "source": []
  }
 ],
 "metadata": {
  "kernelspec": {
   "display_name": "Python 3",
   "language": "python",
   "name": "python3"
  }
 },
 "nbformat": 4,
 "nbformat_minor": 2
}
